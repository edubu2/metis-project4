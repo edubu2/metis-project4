{
 "cells": [
  {
   "cell_type": "code",
   "execution_count": 1,
   "id": "authorized-berlin",
   "metadata": {},
   "outputs": [],
   "source": [
    "import pickle\n",
    "import re\n",
    "import string\n",
    "import pandas as pd\n",
    "import numpy as np\n",
    "\n",
    "from textblob import TextBlob\n",
    "from collections import Counter\n",
    "\n",
    "from langdetect import detect\n",
    "\n",
    "from sklearn.feature_extraction.text import CountVectorizer\n",
    "from sklearn.model_selection import train_test_split\n",
    "from sklearn.decomposition import NMF, LatentDirichletAllocation\n",
    "\n",
    "import nltk\n",
    "from nltk.tokenize import TweetTokenizer, word_tokenize\n",
    "from nltk.stem import PorterStemmer, WordNetLemmatizer\n",
    "\n",
    "from vaderSentiment.vaderSentiment import SentimentIntensityAnalyzer\n"
   ]
  },
  {
   "cell_type": "code",
   "execution_count": 2,
   "id": "integral-rebate",
   "metadata": {},
   "outputs": [],
   "source": [
    "pd.set_option('display.max_rows', 10)\n",
    "pd.set_option('display.max_columns', 40)\n",
    "pd.set_option('display.max_colwidth', None)"
   ]
  },
  {
   "cell_type": "code",
   "execution_count": 3,
   "id": "inner-might",
   "metadata": {},
   "outputs": [],
   "source": [
    "# must uncomment & run the first time to DOWNLOAD NLTK data\n",
    "# I used package identifier 'popular'\n",
    "# nltk.download()"
   ]
  },
  {
   "cell_type": "code",
   "execution_count": 4,
   "id": "macro-shepherd",
   "metadata": {},
   "outputs": [
    {
     "data": {
      "text/plain": [
       "(96000, 9)"
      ]
     },
     "execution_count": 4,
     "metadata": {},
     "output_type": "execute_result"
    }
   ],
   "source": [
    "data = pd.read_pickle(\"pickle/balanced_nov2_tweets.pick\")\n",
    "data.shape"
   ]
  },
  {
   "cell_type": "code",
   "execution_count": 5,
   "id": "regional-mainland",
   "metadata": {},
   "outputs": [
    {
     "data": {
      "text/html": [
       "<div>\n",
       "<style scoped>\n",
       "    .dataframe tbody tr th:only-of-type {\n",
       "        vertical-align: middle;\n",
       "    }\n",
       "\n",
       "    .dataframe tbody tr th {\n",
       "        vertical-align: top;\n",
       "    }\n",
       "\n",
       "    .dataframe thead th {\n",
       "        text-align: right;\n",
       "    }\n",
       "</style>\n",
       "<table border=\"1\" class=\"dataframe\">\n",
       "  <thead>\n",
       "    <tr style=\"text-align: right;\">\n",
       "      <th></th>\n",
       "      <th>id</th>\n",
       "      <th>date</th>\n",
       "      <th>time</th>\n",
       "      <th>user_id</th>\n",
       "      <th>username</th>\n",
       "      <th>hashtags</th>\n",
       "      <th>trump</th>\n",
       "      <th>biden</th>\n",
       "      <th>original</th>\n",
       "    </tr>\n",
       "  </thead>\n",
       "  <tbody>\n",
       "    <tr>\n",
       "      <th>181142</th>\n",
       "      <td>1323379284434669568</td>\n",
       "      <td>2020-11-02</td>\n",
       "      <td>21:39:43</td>\n",
       "      <td>2820503362</td>\n",
       "      <td>artistacriseida</td>\n",
       "      <td>[]</td>\n",
       "      <td>False</td>\n",
       "      <td>True</td>\n",
       "      <td>All these articles showing that Biden is in the lead.... IGNORE THAT AND STILL GO VOTE. All of these maps showing information that may or may not be correct won’t matter on Election Day. Hillary was also in the lead last election, just do your part.   ⁽ᶠᵘᶜᵏ ᵗʳᵘᵐᵖ⁾</td>\n",
       "    </tr>\n",
       "    <tr>\n",
       "      <th>0</th>\n",
       "      <td>1323414585995526144</td>\n",
       "      <td>2020-11-02</td>\n",
       "      <td>23:59:59</td>\n",
       "      <td>1312487180258820096</td>\n",
       "      <td>annapieters17</td>\n",
       "      <td>[]</td>\n",
       "      <td>False</td>\n",
       "      <td>True</td>\n",
       "      <td>@FoxNews Lady Gaga’s a nobody. Can’t figure out her own life and can’t even see nobody can help Biden. He’s out of the game from the day he gets in the game.</td>\n",
       "    </tr>\n",
       "    <tr>\n",
       "      <th>4</th>\n",
       "      <td>1323414585232293888</td>\n",
       "      <td>2020-11-02</td>\n",
       "      <td>23:59:59</td>\n",
       "      <td>2335763630</td>\n",
       "      <td>kylechwatt</td>\n",
       "      <td>[]</td>\n",
       "      <td>False</td>\n",
       "      <td>True</td>\n",
       "      <td>@The_Grupp “It is purely a fortuity that this isn’t one of the great mass casualty events in American history,” Ron Klain, who was Biden’s chief of staff at the time, said of H1N1 in 2019.”   https://t.co/Umi317supK</td>\n",
       "    </tr>\n",
       "  </tbody>\n",
       "</table>\n",
       "</div>"
      ],
      "text/plain": [
       "                         id       date      time              user_id  \\\n",
       "181142  1323379284434669568 2020-11-02  21:39:43           2820503362   \n",
       "0       1323414585995526144 2020-11-02  23:59:59  1312487180258820096   \n",
       "4       1323414585232293888 2020-11-02  23:59:59           2335763630   \n",
       "\n",
       "               username hashtags  trump  biden  \\\n",
       "181142  artistacriseida       []  False   True   \n",
       "0         annapieters17       []  False   True   \n",
       "4            kylechwatt       []  False   True   \n",
       "\n",
       "                                                                                                                                                                                                                                                                        original  \n",
       "181142  All these articles showing that Biden is in the lead.... IGNORE THAT AND STILL GO VOTE. All of these maps showing information that may or may not be correct won’t matter on Election Day. Hillary was also in the lead last election, just do your part.   ⁽ᶠᵘᶜᵏ ᵗʳᵘᵐᵖ⁾  \n",
       "0                                                                                                                  @FoxNews Lady Gaga’s a nobody. Can’t figure out her own life and can’t even see nobody can help Biden. He’s out of the game from the day he gets in the game.  \n",
       "4                                                        @The_Grupp “It is purely a fortuity that this isn’t one of the great mass casualty events in American history,” Ron Klain, who was Biden’s chief of staff at the time, said of H1N1 in 2019.”   https://t.co/Umi317supK  "
      ]
     },
     "execution_count": 5,
     "metadata": {},
     "output_type": "execute_result"
    }
   ],
   "source": [
    "# keep only necessary columns\n",
    "data['original'] = data.tweet\n",
    "data.drop(columns='tweet', inplace=True)\n",
    "data.head(3)"
   ]
  },
  {
   "cell_type": "markdown",
   "id": "welsh-highway",
   "metadata": {},
   "source": [
    "## Pre-Processing Pipeline\n",
    "\n",
    "Now it's time to tokenize our tweets. Here are our pre-processing steps:\n",
    "* Remove URLs\n",
    "* Remove Twitter handles\n",
    "* Remove numbers\n",
    "* Convert to lowercase\n",
    "* Remove punctuation\n",
    "* Remove repeated letters so spell check will work ('aaaaand' -> 'aand')\n",
    "* Remove non-English words\n",
    "* Remove stop words\n",
    "\n",
    "Since we're working with so many different words, I've chosen to use **lemmatization** instead of stemming for two reasons:\n",
    "1. Lemmatization accurately reduces words to true meaning\n",
    "2. Inxreased word reduction (handles synonyms)"
   ]
  },
  {
   "cell_type": "code",
   "execution_count": 6,
   "id": "motivated-providence",
   "metadata": {},
   "outputs": [],
   "source": [
    "# nltk.download() # must run first time (download 'popular')"
   ]
  },
  {
   "cell_type": "code",
   "execution_count": 7,
   "id": "other-terminal",
   "metadata": {},
   "outputs": [],
   "source": [
    "# custom word dictionaries\n",
    "from more_words import more_words as custom_words\n",
    "from stop_words import stop_words as custom_stop_words\n",
    "from bigrams import bigrams\n",
    "\n",
    "import time\n",
    "import nltk\n",
    "from nltk.corpus import words, stopwords\n",
    "\n",
    "def clean_tweet(tweet):\n",
    "    \"\"\"Pre-processing pipeline.\"\"\"\n",
    "    \n",
    "    tweet = tweet.lower()\n",
    "    tweet = re.sub(r\"u\\.s\\. \", \"usa\", tweet)\n",
    "    tweet = re.sub(r\"https?:\\/\\/\\S+\", \"\", tweet)\n",
    "    tweet = re.sub(r'\\w*\\d\\w*', ' ', tweet)\n",
    "    tweet = re.sub(r'\\.{2,6}', ' ', tweet)\n",
    "    tweet = tweet.translate(str.maketrans('', '', string.punctuation))\n",
    "    tweet = re.sub(r\"([a-z])\\1{2,5}\", r'\\1', tweet)\n",
    "    tweet = ' '.join(tweet.split())\n",
    "    \n",
    "    for old, new in bigrams:\n",
    "        tweet = re.sub(old, new, tweet) # ex: ('white house', 'whitehouse')\n",
    "    \n",
    "    return tweet\n",
    "\n",
    "def tokenize(tweet, all_words, stop_words):\n",
    "    \"\"\"\n",
    "    Returns all of the tokens in a cleaned tweet\n",
    "    Parameters:\n",
    "        - tweet (Series, required)\n",
    "        - stop_words (set, required)\n",
    "        - all_words (set, required) \n",
    "        \n",
    "    Note:\n",
    "        - any words not included in all_words here will be\n",
    "          removed from tokens (including bigrams)\n",
    "    \"\"\"\n",
    "    \n",
    "    tweet = clean_tweet(tweet)\n",
    "    \n",
    "    twt = TweetTokenizer()    \n",
    "    lemm = WordNetLemmatizer()  \n",
    "    # lemmatize tokens & remove stop words\n",
    "    tokens = [lemm.lemmatize(token) for token in twt.tokenize(tweet) if token not in stop_words]\n",
    "    # only include words that are in our customized list of words\n",
    "    tokens = [token for token in tokens if token in all_words]\n",
    "    combined_tokens = ' '.join(tokens)\n",
    "\n",
    "    return combined_tokens\n",
    "\n",
    "def clean_and_tokenize(original_tweets):\n",
    "    \"\"\"\n",
    "    Efficiently cleans, tokenizes, lemmatizes, and implements customized\n",
    "    bigrams on a list of tweets.\n",
    "    \n",
    "    Parameters:\n",
    "        original_tweets (required, pd.Series)\n",
    "    \n",
    "    Returns:\n",
    "        cleaned, tokenized tweets (np.array)\n",
    "    \"\"\"\n",
    "    tweet_array = original_tweets.to_numpy()\n",
    "\n",
    "    all_words = list(words.words('en')) + custom_words\n",
    "    stop_words = set(list(stopwords.words('english')) + custom_stop_words)\n",
    "    \n",
    "    for _, new in bigrams:\n",
    "        all_words.append(new)\n",
    "\n",
    "    all_words = set(all_words)\n",
    "    print(\"num words: \", len(all_words))\n",
    "    print(\"num stop words: \", len(stop_words))\n",
    "    \n",
    "    clean_tweets = [tokenize(tweet, all_words, stop_words) for tweet in tweet_array]\n",
    "    \n",
    "    return clean_tweets"
   ]
  },
  {
   "cell_type": "code",
   "execution_count": 8,
   "id": "spatial-provider",
   "metadata": {},
   "outputs": [
    {
     "name": "stdout",
     "output_type": "stream",
     "text": [
      "num words:  236041\n",
      "num stop words:  358\n",
      "CPU times: user 32.9 s, sys: 78.3 ms, total: 33 s\n",
      "Wall time: 33 s\n"
     ]
    },
    {
     "data": {
      "text/plain": [
       "(96000, 10)"
      ]
     },
     "execution_count": 8,
     "metadata": {},
     "output_type": "execute_result"
    }
   ],
   "source": [
    "%%time\n",
    "\n",
    "data['tweet'] = clean_and_tokenize(data.original)\n",
    "data.shape"
   ]
  },
  {
   "cell_type": "code",
   "execution_count": 9,
   "id": "lonely-given",
   "metadata": {},
   "outputs": [
    {
     "data": {
      "text/plain": [
       "(75110, 11)"
      ]
     },
     "execution_count": 9,
     "metadata": {},
     "output_type": "execute_result"
    }
   ],
   "source": [
    "data['num_tokens'] = data['tweet'].str.count(' ') + 1\n",
    "\n",
    "mask = data['num_tokens'] >= 5\n",
    "data_minlen = data[mask]\n",
    "data_minlen.shape"
   ]
  },
  {
   "cell_type": "code",
   "execution_count": 10,
   "id": "starting-michigan",
   "metadata": {},
   "outputs": [
    {
     "name": "stdout",
     "output_type": "stream",
     "text": [
      "\n",
      " Trump Tweets 38891\n",
      "\n",
      " Biden Tweets: 36219\n"
     ]
    }
   ],
   "source": [
    "mask = (data_minlen.trump == 0) & (data_minlen.biden == 1)\n",
    "biden = data_minlen[mask]\n",
    "mask = (data_minlen.trump ==1) & (data_minlen.biden == 0)\n",
    "trump = data_minlen[mask]\n",
    "\n",
    "print(f\"\\n Trump Tweets {len(trump)}\\n\\n Biden Tweets: {len(biden)}\")\n",
    "\n"
   ]
  },
  {
   "cell_type": "code",
   "execution_count": null,
   "id": "logical-manual",
   "metadata": {},
   "outputs": [],
   "source": []
  },
  {
   "cell_type": "code",
   "execution_count": 11,
   "id": "casual-delay",
   "metadata": {},
   "outputs": [],
   "source": [
    "data.to_pickle(\"pickle/n2_tokenized_eff.pick\")"
   ]
  },
  {
   "cell_type": "code",
   "execution_count": 12,
   "id": "egyptian-surface",
   "metadata": {},
   "outputs": [
    {
     "data": {
      "text/html": [
       "<div>\n",
       "<style scoped>\n",
       "    .dataframe tbody tr th:only-of-type {\n",
       "        vertical-align: middle;\n",
       "    }\n",
       "\n",
       "    .dataframe tbody tr th {\n",
       "        vertical-align: top;\n",
       "    }\n",
       "\n",
       "    .dataframe thead th {\n",
       "        text-align: right;\n",
       "    }\n",
       "</style>\n",
       "<table border=\"1\" class=\"dataframe\">\n",
       "  <thead>\n",
       "    <tr style=\"text-align: right;\">\n",
       "      <th></th>\n",
       "      <th>original</th>\n",
       "      <th>tweet</th>\n",
       "    </tr>\n",
       "  </thead>\n",
       "  <tbody>\n",
       "    <tr>\n",
       "      <th>79435</th>\n",
       "      <td>Gaga, Bey, Taylor, Ariana, Billie, Katy y las otras apoyando a Biden es tipo asi  https://t.co/e8UeBv7dxV</td>\n",
       "      <td>bey la joebiden e</td>\n",
       "    </tr>\n",
       "    <tr>\n",
       "      <th>95031</th>\n",
       "      <td>@nypost @SDePace He has to tell a couple harmless lies to keep up with trumps deadly waterfall</td>\n",
       "      <td>couple harmless lie trump deadly waterfall</td>\n",
       "    </tr>\n",
       "    <tr>\n",
       "      <th>7559</th>\n",
       "      <td>@boisebeer @HuffPost So is the president. Trump said he’s getting your husbands back to work. Many woman work and don’t have husbands.</td>\n",
       "      <td>donaldtrump getting husband woman husband</td>\n",
       "    </tr>\n",
       "    <tr>\n",
       "      <th>53303</th>\n",
       "      <td>@liberty1st4all @ElenaBackAgain @BradJConnolly @chrislhayes @GOP I have a new blog post. Forward it to as many MAGAT friends you have. We have 1 day to change their minds :-)  \"MAGATS -Trump's just not that into you\"  The idea for this post came after he left his supporters stranded in the cold in Omaha, NE &amp;amp; Butler, PA  https://t.co/XGoiK5paVu</td>\n",
       "      <td>post forward friend change mind trump idea post came left supporter cold ne butler</td>\n",
       "    </tr>\n",
       "    <tr>\n",
       "      <th>65726</th>\n",
       "      <td>Kamala Harris again vows to get rid of Trump's tax cuts if elected  https://t.co/gAbNmsxLaE via @nypost</td>\n",
       "      <td>kamalaharris vow rid trump tax cut</td>\n",
       "    </tr>\n",
       "    <tr>\n",
       "      <th>...</th>\n",
       "      <td>...</td>\n",
       "      <td>...</td>\n",
       "    </tr>\n",
       "    <tr>\n",
       "      <th>96017</th>\n",
       "      <td>@cherryange1ic @BillyRo03180571 @Sassychickie trump was the OG gaga stan... I bet they’re red faced now</td>\n",
       "      <td>donaldtrump red faced</td>\n",
       "    </tr>\n",
       "    <tr>\n",
       "      <th>58548</th>\n",
       "      <td>Só peço a reeleição de Trump e do Carlos Bolsonaro. Peço que não ganhe as eleições e nem para síndico de prédio a Joice e o Arthur.  Só isso!</td>\n",
       "      <td>de donaldtrump e e de e</td>\n",
       "    </tr>\n",
       "    <tr>\n",
       "      <th>96608</th>\n",
       "      <td>Desperation:  Grenell, GOP just makes up fake story lines: like pics of Joe Biden on a plane without a mask, &amp;amp; Joe only wears mask outside. Lol.  Photos R Vogue's the caption on the shot reads as follows: \"Yamamoto and Biden huddle on a flight to South Carolina in November 2019.\"</td>\n",
       "      <td>desperation make fake story line pic joebiden plane without mask joebiden wear mask outside photo r vogue caption shot read joebiden huddle flight south</td>\n",
       "    </tr>\n",
       "    <tr>\n",
       "      <th>67620</th>\n",
       "      <td>@Sea0fBees this all started bc i was arguing with trump supporters and when i started saying things they couldn’t counter they said i was using my liberal indoctrination to try to make them feel dumb. um no! you feel dumb bc you’re dumb!!</td>\n",
       "      <td>trumpsupporter thing counter liberal indoctrination try feel dumb feel dumb dumb</td>\n",
       "    </tr>\n",
       "    <tr>\n",
       "      <th>4778</th>\n",
       "      <td>@Lrihendry Remember when tRump promised in 2016 a wall in the southern border &amp;amp; said Mexico will pay for it? This promise has not been fulfilled! Only 15 miles have been added to the existing wall! USA has entirely paid for the (check notes) fence How embarrassing!  https://t.co/FFS64c38yW…</td>\n",
       "      <td>remember donaldtrump wall southern border pay promise mile added wall entirely check note fence embarrassing</td>\n",
       "    </tr>\n",
       "  </tbody>\n",
       "</table>\n",
       "<p>15 rows × 2 columns</p>\n",
       "</div>"
      ],
      "text/plain": [
       "                                                                                                                                                                                                                                                                                                                                                             original  \\\n",
       "79435                                                                                                                                                                                                                                                       Gaga, Bey, Taylor, Ariana, Billie, Katy y las otras apoyando a Biden es tipo asi  https://t.co/e8UeBv7dxV   \n",
       "95031                                                                                                                                                                                                                                                                  @nypost @SDePace He has to tell a couple harmless lies to keep up with trumps deadly waterfall   \n",
       "7559                                                                                                                                                                                                                           @boisebeer @HuffPost So is the president. Trump said he’s getting your husbands back to work. Many woman work and don’t have husbands.   \n",
       "53303  @liberty1st4all @ElenaBackAgain @BradJConnolly @chrislhayes @GOP I have a new blog post. Forward it to as many MAGAT friends you have. We have 1 day to change their minds :-)  \"MAGATS -Trump's just not that into you\"  The idea for this post came after he left his supporters stranded in the cold in Omaha, NE &amp; Butler, PA  https://t.co/XGoiK5paVu   \n",
       "65726                                                                                                                                                                                                                                                         Kamala Harris again vows to get rid of Trump's tax cuts if elected  https://t.co/gAbNmsxLaE via @nypost   \n",
       "...                                                                                                                                                                                                                                                                                                                                                               ...   \n",
       "96017                                                                                                                                                                                                                                                         @cherryange1ic @BillyRo03180571 @Sassychickie trump was the OG gaga stan... I bet they’re red faced now   \n",
       "58548                                                                                                                                                                                                                   Só peço a reeleição de Trump e do Carlos Bolsonaro. Peço que não ganhe as eleições e nem para síndico de prédio a Joice e o Arthur.  Só isso!   \n",
       "96608                                                                    Desperation:  Grenell, GOP just makes up fake story lines: like pics of Joe Biden on a plane without a mask, &amp; Joe only wears mask outside. Lol.  Photos R Vogue's the caption on the shot reads as follows: \"Yamamoto and Biden huddle on a flight to South Carolina in November 2019.\"   \n",
       "67620                                                                                                                  @Sea0fBees this all started bc i was arguing with trump supporters and when i started saying things they couldn’t counter they said i was using my liberal indoctrination to try to make them feel dumb. um no! you feel dumb bc you’re dumb!!   \n",
       "4778                                                          @Lrihendry Remember when tRump promised in 2016 a wall in the southern border &amp; said Mexico will pay for it? This promise has not been fulfilled! Only 15 miles have been added to the existing wall! USA has entirely paid for the (check notes) fence How embarrassing!  https://t.co/FFS64c38yW…   \n",
       "\n",
       "                                                                                                                                                          tweet  \n",
       "79435                                                                                                                                         bey la joebiden e  \n",
       "95031                                                                                                                couple harmless lie trump deadly waterfall  \n",
       "7559                                                                                                                  donaldtrump getting husband woman husband  \n",
       "53303                                                                        post forward friend change mind trump idea post came left supporter cold ne butler  \n",
       "65726                                                                                                                        kamalaharris vow rid trump tax cut  \n",
       "...                                                                                                                                                         ...  \n",
       "96017                                                                                                                                     donaldtrump red faced  \n",
       "58548                                                                                                                                   de donaldtrump e e de e  \n",
       "96608  desperation make fake story line pic joebiden plane without mask joebiden wear mask outside photo r vogue caption shot read joebiden huddle flight south  \n",
       "67620                                                                          trumpsupporter thing counter liberal indoctrination try feel dumb feel dumb dumb  \n",
       "4778                                               remember donaldtrump wall southern border pay promise mile added wall entirely check note fence embarrassing  \n",
       "\n",
       "[15 rows x 2 columns]"
      ]
     },
     "execution_count": 12,
     "metadata": {},
     "output_type": "execute_result"
    }
   ],
   "source": [
    "data[['original', 'tweet']].sample(15)"
   ]
  },
  {
   "cell_type": "code",
   "execution_count": 13,
   "id": "geological-homework",
   "metadata": {},
   "outputs": [],
   "source": [
    "# data.to_pickle(\"pickle/tweets_df_5000tw.pick\")"
   ]
  },
  {
   "cell_type": "code",
   "execution_count": 14,
   "id": "confused-competition",
   "metadata": {},
   "outputs": [
    {
     "name": "stdout",
     "output_type": "stream",
     "text": [
      "num words:  236041\n",
      "num stop words:  358\n"
     ]
    },
    {
     "data": {
      "text/plain": [
       "['tweet joebiden mikepence voting gunrights favor continuous breakdown']"
      ]
     },
     "execution_count": 14,
     "metadata": {},
     "output_type": "execute_result"
    }
   ],
   "source": [
    "sample = 'tweet tokenize me please mr. biden helloaskldjalksfj I  pence    voting rights am asking for a favor continuous breakdown American Americans'\n",
    "\n",
    "clean_and_tokenize(pd.Series(sample))\n"
   ]
  },
  {
   "cell_type": "code",
   "execution_count": null,
   "id": "animal-invalid",
   "metadata": {},
   "outputs": [],
   "source": []
  },
  {
   "cell_type": "code",
   "execution_count": null,
   "id": "material-companion",
   "metadata": {},
   "outputs": [],
   "source": []
  },
  {
   "cell_type": "code",
   "execution_count": 15,
   "id": "dirty-radiation",
   "metadata": {},
   "outputs": [
    {
     "ename": "NameError",
     "evalue": "name 'data_min4' is not defined",
     "output_type": "error",
     "traceback": [
      "\u001b[0;31m---------------------------------------------------------------------------\u001b[0m",
      "\u001b[0;31mNameError\u001b[0m                                 Traceback (most recent call last)",
      "\u001b[0;32m<ipython-input-15-6b3a662ca01a>\u001b[0m in \u001b[0;36m<module>\u001b[0;34m\u001b[0m\n\u001b[0;32m----> 1\u001b[0;31m \u001b[0mdata_min4\u001b[0m\u001b[0;34m.\u001b[0m\u001b[0mshape\u001b[0m\u001b[0;34m\u001b[0m\u001b[0;34m\u001b[0m\u001b[0m\n\u001b[0m",
      "\u001b[0;31mNameError\u001b[0m: name 'data_min4' is not defined"
     ]
    }
   ],
   "source": [
    "data_min4.shape"
   ]
  },
  {
   "cell_type": "code",
   "execution_count": null,
   "id": "working-banner",
   "metadata": {},
   "outputs": [],
   "source": [
    "data_min4.sample(20)"
   ]
  },
  {
   "cell_type": "code",
   "execution_count": null,
   "id": "growing-night",
   "metadata": {},
   "outputs": [],
   "source": [
    "lemm = WordNetLemmatizer()\n",
    "lemm.lemmatize('organizations')"
   ]
  },
  {
   "cell_type": "code",
   "execution_count": null,
   "id": "brief-jason",
   "metadata": {},
   "outputs": [],
   "source": [
    "# data.to_pickle(\"pickle/n2_tokenized_min4.pick\")"
   ]
  }
 ],
 "metadata": {
  "kernelspec": {
   "display_name": "Python 3",
   "language": "python",
   "name": "python3"
  },
  "language_info": {
   "codemirror_mode": {
    "name": "ipython",
    "version": 3
   },
   "file_extension": ".py",
   "mimetype": "text/x-python",
   "name": "python",
   "nbconvert_exporter": "python",
   "pygments_lexer": "ipython3",
   "version": "3.7.9"
  }
 },
 "nbformat": 4,
 "nbformat_minor": 5
}
