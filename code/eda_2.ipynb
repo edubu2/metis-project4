{
 "cells": [
  {
   "cell_type": "code",
   "execution_count": 1,
   "id": "authorized-berlin",
   "metadata": {},
   "outputs": [],
   "source": [
    "import pickle\n",
    "import re\n",
    "import string\n",
    "import emoji\n",
    "import pandas as pd\n",
    "import numpy as np\n",
    "\n",
    "from textblob import TextBlob\n",
    "from collections import Counter\n",
    "\n",
    "import spacy\n",
    "\n",
    "from sklearn.feature_extraction.text import CountVectorizer\n",
    "from sklearn.model_selection import train_test_split\n",
    "from sklearn.decomposition import NMF\n",
    "\n",
    "import nltk\n",
    "from nltk.tokenize import TweetTokenizer\n",
    "from nltk.corpus import stopwords\n",
    "from nltk.stem import PorterStemmer\n",
    "\n",
    "import spacy\n",
    "import contextualSpellCheck\n",
    "\n",
    "nlp = spacy.load('en_core_web_sm')\n",
    "\n",
    "from spellchecker import SpellChecker\n",
    "\n",
    "from vaderSentiment.vaderSentiment import SentimentIntensityAnalyzer\n"
   ]
  },
  {
   "cell_type": "markdown",
   "id": "rubber-holiday",
   "metadata": {},
   "source": [
    "**Kelsey 1-1**\n",
    "\n",
    "- cleaning\n",
    "    - preprocessing until comfortable with words\n",
    "   \n",
    "- sentiment analysis on all tweets\n",
    "    - don't need to do any splitting at this stage\n",
    "    - TextBlob & VaderSentiment first, spacy if the results aren't as expected\n",
    "    \n",
    "- topic modeling\n",
    "    - decide: use all tweets (all topics) at once\n",
    "        - start here\n",
    "        - then can use these as features in the dataFrame and do splitting here\n",
    "    - or: split to trump/biden - then bot/not bot for each\n",
    "    - point here is there are multiple ways to split it\n",
    "        - no right answers"
   ]
  },
  {
   "cell_type": "code",
   "execution_count": 2,
   "id": "integral-rebate",
   "metadata": {},
   "outputs": [],
   "source": [
    "pd.set_option('display.max_rows', 10)\n",
    "pd.set_option('display.max_columns', 40)"
   ]
  },
  {
   "cell_type": "code",
   "execution_count": 3,
   "id": "inner-might",
   "metadata": {},
   "outputs": [],
   "source": [
    "# must uncomment & run the first time to DOWNLOAD NLTK data\n",
    "# I used package identifier 'popular'\n",
    "# nltk.download()"
   ]
  },
  {
   "cell_type": "code",
   "execution_count": 4,
   "id": "macro-shepherd",
   "metadata": {},
   "outputs": [
    {
     "data": {
      "text/plain": [
       "(879311, 38)"
      ]
     },
     "execution_count": 4,
     "metadata": {},
     "output_type": "execute_result"
    }
   ],
   "source": [
    "df = pd.read_pickle(\"pickle/df_t_raw.pick\")\n",
    "df.shape"
   ]
  },
  {
   "cell_type": "code",
   "execution_count": 5,
   "id": "advanced-obligation",
   "metadata": {},
   "outputs": [
    {
     "data": {
      "text/html": [
       "<div>\n",
       "<style scoped>\n",
       "    .dataframe tbody tr th:only-of-type {\n",
       "        vertical-align: middle;\n",
       "    }\n",
       "\n",
       "    .dataframe tbody tr th {\n",
       "        vertical-align: top;\n",
       "    }\n",
       "\n",
       "    .dataframe thead th {\n",
       "        text-align: right;\n",
       "    }\n",
       "</style>\n",
       "<table border=\"1\" class=\"dataframe\">\n",
       "  <thead>\n",
       "    <tr style=\"text-align: right;\">\n",
       "      <th></th>\n",
       "      <th>id</th>\n",
       "      <th>conversation_id</th>\n",
       "      <th>created_at</th>\n",
       "      <th>date</th>\n",
       "      <th>time</th>\n",
       "      <th>timezone</th>\n",
       "      <th>user_id</th>\n",
       "      <th>username</th>\n",
       "      <th>name</th>\n",
       "      <th>place</th>\n",
       "      <th>tweet</th>\n",
       "      <th>language</th>\n",
       "      <th>mentions</th>\n",
       "      <th>urls</th>\n",
       "      <th>photos</th>\n",
       "      <th>replies_count</th>\n",
       "      <th>retweets_count</th>\n",
       "      <th>likes_count</th>\n",
       "      <th>hashtags</th>\n",
       "      <th>cashtags</th>\n",
       "      <th>link</th>\n",
       "      <th>retweet</th>\n",
       "      <th>quote_url</th>\n",
       "      <th>video</th>\n",
       "      <th>thumbnail</th>\n",
       "      <th>near</th>\n",
       "      <th>geo</th>\n",
       "      <th>source</th>\n",
       "      <th>user_rt_id</th>\n",
       "      <th>user_rt</th>\n",
       "      <th>retweet_id</th>\n",
       "      <th>reply_to</th>\n",
       "      <th>retweet_date</th>\n",
       "      <th>translate</th>\n",
       "      <th>trans_src</th>\n",
       "      <th>trans_dest</th>\n",
       "      <th>biden</th>\n",
       "      <th>trump</th>\n",
       "    </tr>\n",
       "  </thead>\n",
       "  <tbody>\n",
       "    <tr>\n",
       "      <th>646</th>\n",
       "      <td>1321602263044022272</td>\n",
       "      <td>1321602263044022272</td>\n",
       "      <td>2020-10-28 23:58:28 UTC</td>\n",
       "      <td>2020-10-28</td>\n",
       "      <td>23:58:28</td>\n",
       "      <td>0</td>\n",
       "      <td>349115403</td>\n",
       "      <td>sirtitan45</td>\n",
       "      <td>Pontiff</td>\n",
       "      <td>NaN</td>\n",
       "      <td>Trump and Biden they have your best interests ...</td>\n",
       "      <td>en</td>\n",
       "      <td>[]</td>\n",
       "      <td>[]</td>\n",
       "      <td>[]</td>\n",
       "      <td>0</td>\n",
       "      <td>0</td>\n",
       "      <td>0</td>\n",
       "      <td>[]</td>\n",
       "      <td>[]</td>\n",
       "      <td>https://twitter.com/SirTitan45/status/13216022...</td>\n",
       "      <td>False</td>\n",
       "      <td>NaN</td>\n",
       "      <td>0</td>\n",
       "      <td>NaN</td>\n",
       "      <td>NaN</td>\n",
       "      <td>NaN</td>\n",
       "      <td>NaN</td>\n",
       "      <td>NaN</td>\n",
       "      <td>NaN</td>\n",
       "      <td>NaN</td>\n",
       "      <td>[]</td>\n",
       "      <td>NaN</td>\n",
       "      <td>NaN</td>\n",
       "      <td>NaN</td>\n",
       "      <td>NaN</td>\n",
       "      <td>1</td>\n",
       "      <td>1</td>\n",
       "    </tr>\n",
       "    <tr>\n",
       "      <th>6031</th>\n",
       "      <td>1315801979793403905</td>\n",
       "      <td>1315801979793403905</td>\n",
       "      <td>2020-10-12 23:50:13 UTC</td>\n",
       "      <td>2020-10-12</td>\n",
       "      <td>23:50:13</td>\n",
       "      <td>0</td>\n",
       "      <td>11611052</td>\n",
       "      <td>foxnewsradio</td>\n",
       "      <td>FOX News Radio</td>\n",
       "      <td>NaN</td>\n",
       "      <td>President Trump back on the campaign trail in ...</td>\n",
       "      <td>en</td>\n",
       "      <td>[]</td>\n",
       "      <td>['https://fxn.ws/hourly']</td>\n",
       "      <td>[]</td>\n",
       "      <td>5</td>\n",
       "      <td>6</td>\n",
       "      <td>8</td>\n",
       "      <td>[]</td>\n",
       "      <td>[]</td>\n",
       "      <td>https://twitter.com/foxnewsradio/status/131580...</td>\n",
       "      <td>False</td>\n",
       "      <td>NaN</td>\n",
       "      <td>0</td>\n",
       "      <td>NaN</td>\n",
       "      <td>NaN</td>\n",
       "      <td>NaN</td>\n",
       "      <td>NaN</td>\n",
       "      <td>NaN</td>\n",
       "      <td>NaN</td>\n",
       "      <td>NaN</td>\n",
       "      <td>[]</td>\n",
       "      <td>NaN</td>\n",
       "      <td>NaN</td>\n",
       "      <td>NaN</td>\n",
       "      <td>NaN</td>\n",
       "      <td>0</td>\n",
       "      <td>1</td>\n",
       "    </tr>\n",
       "    <tr>\n",
       "      <th>2166</th>\n",
       "      <td>1321601410211995650</td>\n",
       "      <td>1321601410211995650</td>\n",
       "      <td>2020-10-28 23:55:05 UTC</td>\n",
       "      <td>2020-10-28</td>\n",
       "      <td>23:55:05</td>\n",
       "      <td>0</td>\n",
       "      <td>525750162</td>\n",
       "      <td>rafawkes</td>\n",
       "      <td>Richard Fawkes</td>\n",
       "      <td>NaN</td>\n",
       "      <td>Gutfeld on media coverage of latest Hunter Bid...</td>\n",
       "      <td>en</td>\n",
       "      <td>[{'screen_name': 'youtube', 'name': 'youtube',...</td>\n",
       "      <td>['https://youtu.be/bSTQWOnZjS0']</td>\n",
       "      <td>[]</td>\n",
       "      <td>0</td>\n",
       "      <td>0</td>\n",
       "      <td>0</td>\n",
       "      <td>[]</td>\n",
       "      <td>[]</td>\n",
       "      <td>https://twitter.com/rafawkes/status/1321601410...</td>\n",
       "      <td>False</td>\n",
       "      <td>NaN</td>\n",
       "      <td>0</td>\n",
       "      <td>NaN</td>\n",
       "      <td>NaN</td>\n",
       "      <td>NaN</td>\n",
       "      <td>NaN</td>\n",
       "      <td>NaN</td>\n",
       "      <td>NaN</td>\n",
       "      <td>NaN</td>\n",
       "      <td>[]</td>\n",
       "      <td>NaN</td>\n",
       "      <td>NaN</td>\n",
       "      <td>NaN</td>\n",
       "      <td>NaN</td>\n",
       "      <td>1</td>\n",
       "      <td>0</td>\n",
       "    </tr>\n",
       "  </tbody>\n",
       "</table>\n",
       "</div>"
      ],
      "text/plain": [
       "                       id      conversation_id               created_at  \\\n",
       "646   1321602263044022272  1321602263044022272  2020-10-28 23:58:28 UTC   \n",
       "6031  1315801979793403905  1315801979793403905  2020-10-12 23:50:13 UTC   \n",
       "2166  1321601410211995650  1321601410211995650  2020-10-28 23:55:05 UTC   \n",
       "\n",
       "            date      time  timezone    user_id      username            name  \\\n",
       "646   2020-10-28  23:58:28         0  349115403    sirtitan45         Pontiff   \n",
       "6031  2020-10-12  23:50:13         0   11611052  foxnewsradio  FOX News Radio   \n",
       "2166  2020-10-28  23:55:05         0  525750162      rafawkes  Richard Fawkes   \n",
       "\n",
       "     place                                              tweet language  \\\n",
       "646    NaN  Trump and Biden they have your best interests ...       en   \n",
       "6031   NaN  President Trump back on the campaign trail in ...       en   \n",
       "2166   NaN  Gutfeld on media coverage of latest Hunter Bid...       en   \n",
       "\n",
       "                                               mentions  \\\n",
       "646                                                  []   \n",
       "6031                                                 []   \n",
       "2166  [{'screen_name': 'youtube', 'name': 'youtube',...   \n",
       "\n",
       "                                  urls photos  replies_count  retweets_count  \\\n",
       "646                                 []     []              0               0   \n",
       "6031         ['https://fxn.ws/hourly']     []              5               6   \n",
       "2166  ['https://youtu.be/bSTQWOnZjS0']     []              0               0   \n",
       "\n",
       "      likes_count hashtags cashtags  \\\n",
       "646             0       []       []   \n",
       "6031            8       []       []   \n",
       "2166            0       []       []   \n",
       "\n",
       "                                                   link  retweet quote_url  \\\n",
       "646   https://twitter.com/SirTitan45/status/13216022...    False       NaN   \n",
       "6031  https://twitter.com/foxnewsradio/status/131580...    False       NaN   \n",
       "2166  https://twitter.com/rafawkes/status/1321601410...    False       NaN   \n",
       "\n",
       "      video thumbnail  near  geo  source  user_rt_id  user_rt  retweet_id  \\\n",
       "646       0       NaN   NaN  NaN     NaN         NaN      NaN         NaN   \n",
       "6031      0       NaN   NaN  NaN     NaN         NaN      NaN         NaN   \n",
       "2166      0       NaN   NaN  NaN     NaN         NaN      NaN         NaN   \n",
       "\n",
       "     reply_to  retweet_date  translate  trans_src  trans_dest  biden  trump  \n",
       "646        []           NaN        NaN        NaN         NaN      1      1  \n",
       "6031       []           NaN        NaN        NaN         NaN      0      1  \n",
       "2166       []           NaN        NaN        NaN         NaN      1      0  "
      ]
     },
     "execution_count": 5,
     "metadata": {},
     "output_type": "execute_result"
    }
   ],
   "source": [
    "df.sample(3)"
   ]
  },
  {
   "cell_type": "markdown",
   "id": "developmental-muscle",
   "metadata": {},
   "source": [
    "Now let's create a subset, containing the same amount of Trump tweets as Biden tweets."
   ]
  },
  {
   "cell_type": "code",
   "execution_count": 6,
   "id": "aging-nursing",
   "metadata": {},
   "outputs": [],
   "source": [
    "mask = (df.trump == 0) & (df.biden == 1)\n",
    "biden_tweets = df[mask]\n",
    "\n",
    "mask = (df.trump == 1) & (df.biden == 0)\n",
    "trump_tweets = df[mask]"
   ]
  },
  {
   "cell_type": "code",
   "execution_count": 7,
   "id": "recreational-economy",
   "metadata": {},
   "outputs": [
    {
     "data": {
      "text/html": [
       "<div>\n",
       "<style scoped>\n",
       "    .dataframe tbody tr th:only-of-type {\n",
       "        vertical-align: middle;\n",
       "    }\n",
       "\n",
       "    .dataframe tbody tr th {\n",
       "        vertical-align: top;\n",
       "    }\n",
       "\n",
       "    .dataframe thead th {\n",
       "        text-align: right;\n",
       "    }\n",
       "</style>\n",
       "<table border=\"1\" class=\"dataframe\">\n",
       "  <thead>\n",
       "    <tr style=\"text-align: right;\">\n",
       "      <th></th>\n",
       "      <th>id</th>\n",
       "      <th>conversation_id</th>\n",
       "      <th>created_at</th>\n",
       "      <th>date</th>\n",
       "      <th>time</th>\n",
       "      <th>timezone</th>\n",
       "      <th>user_id</th>\n",
       "      <th>username</th>\n",
       "      <th>name</th>\n",
       "      <th>place</th>\n",
       "      <th>tweet</th>\n",
       "      <th>language</th>\n",
       "      <th>mentions</th>\n",
       "      <th>urls</th>\n",
       "      <th>photos</th>\n",
       "      <th>replies_count</th>\n",
       "      <th>retweets_count</th>\n",
       "      <th>likes_count</th>\n",
       "      <th>hashtags</th>\n",
       "      <th>cashtags</th>\n",
       "      <th>link</th>\n",
       "      <th>retweet</th>\n",
       "      <th>quote_url</th>\n",
       "      <th>video</th>\n",
       "      <th>thumbnail</th>\n",
       "      <th>near</th>\n",
       "      <th>geo</th>\n",
       "      <th>source</th>\n",
       "      <th>user_rt_id</th>\n",
       "      <th>user_rt</th>\n",
       "      <th>retweet_id</th>\n",
       "      <th>reply_to</th>\n",
       "      <th>retweet_date</th>\n",
       "      <th>translate</th>\n",
       "      <th>trans_src</th>\n",
       "      <th>trans_dest</th>\n",
       "      <th>biden</th>\n",
       "      <th>trump</th>\n",
       "    </tr>\n",
       "  </thead>\n",
       "  <tbody>\n",
       "    <tr>\n",
       "      <th>375</th>\n",
       "      <td>1320152848991043585</td>\n",
       "      <td>1320151335199756288</td>\n",
       "      <td>2020-10-24 23:59:01 UTC</td>\n",
       "      <td>2020-10-24</td>\n",
       "      <td>23:59:01</td>\n",
       "      <td>0</td>\n",
       "      <td>1312444769604235265</td>\n",
       "      <td>inspire0419</td>\n",
       "      <td>inspire</td>\n",
       "      <td>NaN</td>\n",
       "      <td>@JoeBiden Old man, based on your sins,surrende...</td>\n",
       "      <td>en</td>\n",
       "      <td>[]</td>\n",
       "      <td>[]</td>\n",
       "      <td>[]</td>\n",
       "      <td>0</td>\n",
       "      <td>0</td>\n",
       "      <td>0</td>\n",
       "      <td>[]</td>\n",
       "      <td>[]</td>\n",
       "      <td>https://twitter.com/inspire0419/status/1320152...</td>\n",
       "      <td>False</td>\n",
       "      <td>NaN</td>\n",
       "      <td>0</td>\n",
       "      <td>NaN</td>\n",
       "      <td>NaN</td>\n",
       "      <td>NaN</td>\n",
       "      <td>NaN</td>\n",
       "      <td>NaN</td>\n",
       "      <td>NaN</td>\n",
       "      <td>NaN</td>\n",
       "      <td>[{'screen_name': 'JoeBiden', 'name': 'Joe Bide...</td>\n",
       "      <td>NaN</td>\n",
       "      <td>NaN</td>\n",
       "      <td>NaN</td>\n",
       "      <td>NaN</td>\n",
       "      <td>1</td>\n",
       "      <td>0</td>\n",
       "    </tr>\n",
       "    <tr>\n",
       "      <th>3253</th>\n",
       "      <td>1321600846937948160</td>\n",
       "      <td>1321576224624414721</td>\n",
       "      <td>2020-10-28 23:52:50 UTC</td>\n",
       "      <td>2020-10-28</td>\n",
       "      <td>23:52:50</td>\n",
       "      <td>0</td>\n",
       "      <td>1032262359061090304</td>\n",
       "      <td>younglibertari</td>\n",
       "      <td>Young Libertarian</td>\n",
       "      <td>NaN</td>\n",
       "      <td>@mallorymonster8 @JoeBiden Are you for the sta...</td>\n",
       "      <td>en</td>\n",
       "      <td>[]</td>\n",
       "      <td>[]</td>\n",
       "      <td>[]</td>\n",
       "      <td>2</td>\n",
       "      <td>0</td>\n",
       "      <td>0</td>\n",
       "      <td>[]</td>\n",
       "      <td>[]</td>\n",
       "      <td>https://twitter.com/YoungLibertari/status/1321...</td>\n",
       "      <td>False</td>\n",
       "      <td>NaN</td>\n",
       "      <td>0</td>\n",
       "      <td>NaN</td>\n",
       "      <td>NaN</td>\n",
       "      <td>NaN</td>\n",
       "      <td>NaN</td>\n",
       "      <td>NaN</td>\n",
       "      <td>NaN</td>\n",
       "      <td>NaN</td>\n",
       "      <td>[{'screen_name': 'mallorymonster8', 'name': 'M...</td>\n",
       "      <td>NaN</td>\n",
       "      <td>NaN</td>\n",
       "      <td>NaN</td>\n",
       "      <td>NaN</td>\n",
       "      <td>1</td>\n",
       "      <td>0</td>\n",
       "    </tr>\n",
       "    <tr>\n",
       "      <th>1783</th>\n",
       "      <td>1318340183188770826</td>\n",
       "      <td>1318340183188770826</td>\n",
       "      <td>2020-10-19 23:56:07 UTC</td>\n",
       "      <td>2020-10-19</td>\n",
       "      <td>23:56:07</td>\n",
       "      <td>0</td>\n",
       "      <td>1247159216676253697</td>\n",
       "      <td>mesickrandy</td>\n",
       "      <td>Randy Mesick</td>\n",
       "      <td>NaN</td>\n",
       "      <td>Hunter Biden Emails Confirmed, DNC PANIC!  htt...</td>\n",
       "      <td>en</td>\n",
       "      <td>[]</td>\n",
       "      <td>['https://rumble.com/var0c7-hunter-biden-email...</td>\n",
       "      <td>[]</td>\n",
       "      <td>1</td>\n",
       "      <td>0</td>\n",
       "      <td>0</td>\n",
       "      <td>[]</td>\n",
       "      <td>[]</td>\n",
       "      <td>https://twitter.com/MesickRandy/status/1318340...</td>\n",
       "      <td>False</td>\n",
       "      <td>NaN</td>\n",
       "      <td>0</td>\n",
       "      <td>NaN</td>\n",
       "      <td>NaN</td>\n",
       "      <td>NaN</td>\n",
       "      <td>NaN</td>\n",
       "      <td>NaN</td>\n",
       "      <td>NaN</td>\n",
       "      <td>NaN</td>\n",
       "      <td>[]</td>\n",
       "      <td>NaN</td>\n",
       "      <td>NaN</td>\n",
       "      <td>NaN</td>\n",
       "      <td>NaN</td>\n",
       "      <td>1</td>\n",
       "      <td>0</td>\n",
       "    </tr>\n",
       "  </tbody>\n",
       "</table>\n",
       "</div>"
      ],
      "text/plain": [
       "                       id      conversation_id               created_at  \\\n",
       "375   1320152848991043585  1320151335199756288  2020-10-24 23:59:01 UTC   \n",
       "3253  1321600846937948160  1321576224624414721  2020-10-28 23:52:50 UTC   \n",
       "1783  1318340183188770826  1318340183188770826  2020-10-19 23:56:07 UTC   \n",
       "\n",
       "            date      time timezone              user_id        username  \\\n",
       "375   2020-10-24  23:59:01        0  1312444769604235265     inspire0419   \n",
       "3253  2020-10-28  23:52:50        0  1032262359061090304  younglibertari   \n",
       "1783  2020-10-19  23:56:07        0  1247159216676253697     mesickrandy   \n",
       "\n",
       "                   name place  \\\n",
       "375             inspire   NaN   \n",
       "3253  Young Libertarian   NaN   \n",
       "1783       Randy Mesick   NaN   \n",
       "\n",
       "                                                  tweet language mentions  \\\n",
       "375   @JoeBiden Old man, based on your sins,surrende...       en       []   \n",
       "3253  @mallorymonster8 @JoeBiden Are you for the sta...       en       []   \n",
       "1783  Hunter Biden Emails Confirmed, DNC PANIC!  htt...       en       []   \n",
       "\n",
       "                                                   urls photos replies_count  \\\n",
       "375                                                  []     []             0   \n",
       "3253                                                 []     []             2   \n",
       "1783  ['https://rumble.com/var0c7-hunter-biden-email...     []             1   \n",
       "\n",
       "     retweets_count likes_count hashtags cashtags  \\\n",
       "375               0           0       []       []   \n",
       "3253              0           0       []       []   \n",
       "1783              0           0       []       []   \n",
       "\n",
       "                                                   link retweet quote_url  \\\n",
       "375   https://twitter.com/inspire0419/status/1320152...   False       NaN   \n",
       "3253  https://twitter.com/YoungLibertari/status/1321...   False       NaN   \n",
       "1783  https://twitter.com/MesickRandy/status/1318340...   False       NaN   \n",
       "\n",
       "     video thumbnail near  geo source user_rt_id user_rt retweet_id  \\\n",
       "375      0       NaN  NaN  NaN    NaN        NaN     NaN        NaN   \n",
       "3253     0       NaN  NaN  NaN    NaN        NaN     NaN        NaN   \n",
       "1783     0       NaN  NaN  NaN    NaN        NaN     NaN        NaN   \n",
       "\n",
       "                                               reply_to retweet_date  \\\n",
       "375   [{'screen_name': 'JoeBiden', 'name': 'Joe Bide...          NaN   \n",
       "3253  [{'screen_name': 'mallorymonster8', 'name': 'M...          NaN   \n",
       "1783                                                 []          NaN   \n",
       "\n",
       "     translate trans_src trans_dest biden trump  \n",
       "375        NaN       NaN        NaN     1     0  \n",
       "3253       NaN       NaN        NaN     1     0  \n",
       "1783       NaN       NaN        NaN     1     0  "
      ]
     },
     "execution_count": 7,
     "metadata": {},
     "output_type": "execute_result"
    }
   ],
   "source": [
    "subset = pd.DataFrame(columns=df.columns)\n",
    "subset = subset.append(biden_tweets.sample(75))\n",
    "subset = subset.append(trump_tweets.sample(75))\n",
    "\n",
    "subset.sample(3)"
   ]
  },
  {
   "cell_type": "code",
   "execution_count": 8,
   "id": "regional-mainland",
   "metadata": {},
   "outputs": [
    {
     "data": {
      "text/html": [
       "<div>\n",
       "<style scoped>\n",
       "    .dataframe tbody tr th:only-of-type {\n",
       "        vertical-align: middle;\n",
       "    }\n",
       "\n",
       "    .dataframe tbody tr th {\n",
       "        vertical-align: top;\n",
       "    }\n",
       "\n",
       "    .dataframe thead th {\n",
       "        text-align: right;\n",
       "    }\n",
       "</style>\n",
       "<table border=\"1\" class=\"dataframe\">\n",
       "  <thead>\n",
       "    <tr style=\"text-align: right;\">\n",
       "      <th></th>\n",
       "      <th>tweet</th>\n",
       "      <th>trump</th>\n",
       "      <th>biden</th>\n",
       "    </tr>\n",
       "  </thead>\n",
       "  <tbody>\n",
       "    <tr>\n",
       "      <th>4134</th>\n",
       "      <td>@KamalaHarris Hunter Biden U.S. presidential c...</td>\n",
       "      <td>0</td>\n",
       "      <td>1</td>\n",
       "    </tr>\n",
       "    <tr>\n",
       "      <th>3396</th>\n",
       "      <td>@JoeBiden I will vote, but not for a single De...</td>\n",
       "      <td>0</td>\n",
       "      <td>1</td>\n",
       "    </tr>\n",
       "    <tr>\n",
       "      <th>7885</th>\n",
       "      <td>@donwinslow @JoeBiden Dear @JoeBiden call into...</td>\n",
       "      <td>0</td>\n",
       "      <td>1</td>\n",
       "    </tr>\n",
       "  </tbody>\n",
       "</table>\n",
       "</div>"
      ],
      "text/plain": [
       "                                                  tweet trump biden\n",
       "4134  @KamalaHarris Hunter Biden U.S. presidential c...     0     1\n",
       "3396  @JoeBiden I will vote, but not for a single De...     0     1\n",
       "7885  @donwinslow @JoeBiden Dear @JoeBiden call into...     0     1"
      ]
     },
     "execution_count": 8,
     "metadata": {},
     "output_type": "execute_result"
    }
   ],
   "source": [
    "# keep only necessary columns\n",
    "data = subset.loc[:,['tweet', 'trump', 'biden']]\n",
    "data.head(3)"
   ]
  },
  {
   "cell_type": "markdown",
   "id": "photographic-headset",
   "metadata": {},
   "source": [
    "## Preprocessing\n",
    "\n",
    "We'll start small by simply removing numbers & punctuation and converting each tweet to lowercase. "
   ]
  },
  {
   "cell_type": "code",
   "execution_count": 9,
   "id": "democratic-connection",
   "metadata": {},
   "outputs": [],
   "source": [
    "# remove urls\n",
    "no_links = lambda x: re.sub(r\"https?:\\/\\/\\S+\", \"\", x)\n",
    "# remove twitter handles\n",
    "no_handles = lambda x: re.sub(r\"@[\\d\\w_]+\", \"\", x)\n",
    "# remove numbers\n",
    "alphanum = lambda x: re.sub('\\w*\\d\\w*', ' ', x)\n",
    "# convert to lowercase\n",
    "punc_lower = lambda x: re.sub('[%s]' % re.escape(string.punctuation), ' ', x.lower())\n",
    "# remove repeated letters so spell check will work (ex: 'aaaand' --> 'aand')\n",
    "no_repeats = lambda x: re.sub(r\"([a-z])\\1{2,}\", r'\\1', x)\n",
    "# replace consecutive spaces with one\n",
    "no_dup_spaces = lambda x: ' '.join(x.split())\n",
    "\n"
   ]
  },
  {
   "cell_type": "code",
   "execution_count": 13,
   "id": "continent-sense",
   "metadata": {},
   "outputs": [
    {
     "data": {
      "text/plain": [
       "['that’s exactly why trump hired him',\n",
       " 'you heard it here first it s clear they ve let trump take control of his own treatment the lies the over treatment saying he knows all about covid today s publicity stunt dr trump will handle his illness the same way he handled the pandemic watch sciencemeetskarma',\n",
       " '🚨🚨new anti trump ad dystopia we cannot allow trump’s dystopia trumpcrimefamily',\n",
       " 'to paraphrase trump i like presidents who haven t gotten sick ok',\n",
       " 'icymi trump confessed to putting a hit on a protester in portland having him assassinated by us marshals this puts trump squarely into the same category as the murderous dictators he so admires such as kim jong un and vladimir putin amp is yet another parallel to adolf hitler',\n",
       " 'oh i didn’t realize it was multiple choice i was gonna say “all of the face fucking” but given the choices i’d initially have said fuck but the fact that you’re a trump girl i might marry you 🇺🇸😉',\n",
       " 'here s another trump comedy video be sure to subscribe let s make this viral let s show everyone how much of a joke trump really is retweet',\n",
       " 'the left is so jealous of how president trump connects with his base and is the first president in decades who is for the people it’s also why this particular “jerk” was sent packing to lie now on msm as an “analyst”',\n",
       " 'i would never vote trump',\n",
       " 'i didn’t think of it like that i think it is prime time tv for democrats to make their case to america it was brilliant and will cost trump’s presidency and senate this isn’t about barrett she’s confirmed it’s about free tv with millions of undecideds gop miscalculation',\n",
       " 'most things should be open and most americans aren’t donald trump this country has never been and never should be defined by its leaders it’s people are typically much better than its leaders a few excepted',\n",
       " 'even putin knows trump is toast',\n",
       " 'trump new mexico',\n",
       " 'where are the calls for trump to repudiate these domestic terrorists call him out on this he won’t then let that become the issue it’s a rerun of the white supremicists issue from last week’s debate',\n",
       " 'watch thousands stand in line for trump in windy snowy frigid michigan',\n",
       " 'i’m at a loss that anyone would expect donald trump to say that',\n",
       " 'wow people wake up this is scary now he s going after mormons i d rather have more years of trump than this',\n",
       " 'trump exposed savannah as a commie propagandist and corrected her like only a master could do — while reminding her of america’s new prosperity since taking over from obama but nice try',\n",
       " 'fast forward a few years who is the one person—other than donald trump—you d like to meet shake hands thank in person or give a hug',\n",
       " 'trump ordena no negociar paquete de estímulo hasta después de las elecciones']"
      ]
     },
     "execution_count": 13,
     "metadata": {},
     "output_type": "execute_result"
    }
   ],
   "source": [
    "data['original'] = data.tweet\n",
    "\n",
    "data['tweet'] = (data['tweet']\n",
    "                 .map(no_handles)\n",
    "                 .map(no_links)\n",
    "                 .map(punc_lower)\n",
    "                 .map(alphanum)\n",
    "                 .map(no_repeats)\n",
    "                 .map(no_dup_spaces))\n",
    "\n",
    "list(data.tweet)[80:100]"
   ]
  },
  {
   "cell_type": "code",
   "execution_count": 11,
   "id": "valued-vitamin",
   "metadata": {},
   "outputs": [
    {
     "data": {
      "text/plain": [
       "'talk to joe biden about the incarceration rate'"
      ]
     },
     "execution_count": 11,
     "metadata": {},
     "output_type": "execute_result"
    }
   ],
   "source": [
    "data.tweet.iloc[12\n",
    "            ]"
   ]
  },
  {
   "cell_type": "code",
   "execution_count": 12,
   "id": "junior-single",
   "metadata": {},
   "outputs": [],
   "source": [
    "sample=\"Income was $9.4 million compared to the prior year of $2.7 million.\"\n"
   ]
  },
  {
   "cell_type": "code",
   "execution_count": null,
   "id": "precious-bubble",
   "metadata": {},
   "outputs": [],
   "source": [
    "\n"
   ]
  },
  {
   "cell_type": "code",
   "execution_count": 14,
   "id": "described-latitude",
   "metadata": {},
   "outputs": [],
   "source": [
    "tweets = data.tweet\n",
    "contextualSpellCheck.add_to_pipe(nlp)\n",
    "docs = list(nlp.pipe(tweets))\n",
    "    \n",
    "    "
   ]
  },
  {
   "cell_type": "code",
   "execution_count": 31,
   "id": "interim-topic",
   "metadata": {},
   "outputs": [
    {
     "data": {
      "text/plain": [
       "False"
      ]
     },
     "execution_count": 31,
     "metadata": {},
     "output_type": "execute_result"
    }
   ],
   "source": [
    "docs == list(tweets)"
   ]
  },
  {
   "cell_type": "code",
   "execution_count": 40,
   "id": "ambient-engineer",
   "metadata": {},
   "outputs": [
    {
     "data": {
      "text/plain": [
       "['trump iowa enough is enough via vote votehimout',\n",
       " 'or trump was stupid enough to catch the fake china vitus and spread it to a bunch of people and then proceeded to not care who else caught with reckless crap btw are you all planning to pretend that you don’t realize there are a bunch of mail in ballots that must be counted',\n",
       " 'trump cai nas pesquisas eleitorais após pegar covid depois de três dias internado com covid donald trump teve alta de hospital em washington após ser diagnosticado com coronavírus o presidente dos estados unidos amarga nova queda nas pesquisas eleitorais',\n",
       " 'donald j trump is an renaissance man',\n",
       " 'donald trump is most likely sitting bricks right now',\n",
       " 'after years of wiping trumps ass the toilet paper complaints that it s sick of this shit right well i guess better late than never right',\n",
       " 'i m starting to hate all the mealy mouthed morally bankrupt hypocrites holding trump s hand more than the guy himself and especially this racist enabler',\n",
       " 'yes hurry amp mail it or drop box our mail is very slow now took days for a card to arrive amp usually this would be a days thanks a lot dejoy amp trump for messing up our post office',\n",
       " 'right she doesn’t need to be paid because she makes millions off of the trademarks china fast tracked for her they know how to get on trumps good side',\n",
       " 'trump lashes out at fox news for all the negative ads being run against him ‘not like the old days’ smartnews']"
      ]
     },
     "execution_count": 40,
     "metadata": {},
     "output_type": "execute_result"
    }
   ],
   "source": [
    "list(tweets)[90:100]"
   ]
  },
  {
   "cell_type": "code",
   "execution_count": 42,
   "id": "biblical-nursery",
   "metadata": {},
   "outputs": [
    {
     "data": {
      "text/plain": [
       "or trump was stupid enough to catch the fake china vitus and spread it to a bunch of people and then proceeded to not care who else caught with reckless crap btw are you all planning to pretend that you don’t realize there are a bunch of mail in ballots that must be counted"
      ]
     },
     "execution_count": 42,
     "metadata": {},
     "output_type": "execute_result"
    }
   ],
   "source": [
    "docs[91]"
   ]
  },
  {
   "cell_type": "code",
   "execution_count": 16,
   "id": "suitable-hydrogen",
   "metadata": {},
   "outputs": [
    {
     "name": "stdout",
     "output_type": "stream",
     "text": [
      "[('tok2vec', <spacy.pipeline.tok2vec.Tok2Vec object at 0x7f8d82ccd4f0>), ('tagger', <spacy.pipeline.tagger.Tagger object at 0x7f8d82ceea90>), ('parser', <spacy.pipeline.dep_parser.DependencyParser object at 0x7f8d82a72ee0>), ('ner', <spacy.pipeline.ner.EntityRecognizer object at 0x7f8d82a728e0>), ('attribute_ruler', <spacy.pipeline.attributeruler.AttributeRuler object at 0x7f8d82cd6a00>), ('lemmatizer', <spacy.lang.en.lemmatizer.EnglishLemmatizer object at 0x7f8d82d6dc00>), ('contextual spellchecker', <contextualSpellCheck.contextualSpellCheck.ContextualSpellCheck object at 0x7f8d2e08fe20>)]\n"
     ]
    }
   ],
   "source": [
    "print(nlp.pipeline)"
   ]
  },
  {
   "cell_type": "code",
   "execution_count": 17,
   "id": "interracial-knock",
   "metadata": {},
   "outputs": [],
   "source": [
    "# from autocorrect import Speller # TOO SLOW...TRY PYSPELLCHECKER\n",
    "def tweet_tokenize(tweets):\n",
    "    \"\"\"Get all of the tokens in a set of tweets\"\"\"\n",
    "    twt = nltk.tokenize.TweetTokenizer(strip_handles=True, reduce_len=True)\n",
    "    tokens = [token for tweet in tweets for token in twt.tokenize(tweet)]\n",
    "    # combine stop words and punctuation\n",
    "    puncs = [c for c in string.punctuation if c not in [\"#\", \":\"]]\n",
    "    stop = stopwords.words(\"english\") + puncs + ['”']\n",
    "    stemmer = PorterStemmer()\n",
    "    tokens = [ stemmer.stem(token) for tweet in tweets\n",
    "              for token in twt.tokenize(tweet)\n",
    "              if token.lower() not in stop]\n",
    "#     spell = Speller(lang='en')\n",
    "#     tokens = [spell(t) for t in tokens]\n",
    "\n",
    "    \n",
    "    \n",
    "    return tokens"
   ]
  },
  {
   "cell_type": "code",
   "execution_count": 18,
   "id": "informal-allocation",
   "metadata": {},
   "outputs": [
    {
     "data": {
      "text/plain": [
       "'i am voting biden harris bluewave'"
      ]
     },
     "execution_count": 18,
     "metadata": {},
     "output_type": "execute_result"
    }
   ],
   "source": [
    "data.tweet.iloc[22]"
   ]
  },
  {
   "cell_type": "code",
   "execution_count": 19,
   "id": "suspected-struggle",
   "metadata": {},
   "outputs": [],
   "source": [
    "# Fix spelling after we create the tokens?"
   ]
  },
  {
   "cell_type": "markdown",
   "id": "welsh-highway",
   "metadata": {},
   "source": [
    "## Tokenization\n",
    "\n",
    "Now it's time to tokenize our tweets. Here, we'll implement NLTK's tokenizer, stop word removal, Porter Stemming, and spell correction"
   ]
  },
  {
   "cell_type": "code",
   "execution_count": null,
   "id": "searching-story",
   "metadata": {},
   "outputs": [],
   "source": []
  },
  {
   "cell_type": "code",
   "execution_count": null,
   "id": "excess-thong",
   "metadata": {},
   "outputs": [],
   "source": []
  },
  {
   "cell_type": "code",
   "execution_count": null,
   "id": "velvet-investor",
   "metadata": {},
   "outputs": [],
   "source": []
  }
 ],
 "metadata": {
  "kernelspec": {
   "display_name": "Python [conda env:metis] *",
   "language": "python",
   "name": "conda-env-metis-py"
  },
  "language_info": {
   "codemirror_mode": {
    "name": "ipython",
    "version": 3
   },
   "file_extension": ".py",
   "mimetype": "text/x-python",
   "name": "python",
   "nbconvert_exporter": "python",
   "pygments_lexer": "ipython3",
   "version": "3.8.6"
  }
 },
 "nbformat": 4,
 "nbformat_minor": 5
}
