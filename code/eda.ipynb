{
 "cells": [
  {
   "cell_type": "code",
   "execution_count": 1,
   "id": "tribal-leather",
   "metadata": {},
   "outputs": [],
   "source": [
    "import pandas as pd\n",
    "import numpy as np\n",
    "import pickle\n",
    "import re\n",
    "import string\n",
    "import spacy\n",
    "from sklearn.feature_extraction.text import CountVectorizer\n",
    "from sklearn.model_selection import train_test_split\n",
    "import nltk\n",
    "from nltk.tokenize import TweetTokenizer\n",
    "from nltk.corpus import stopwords\n",
    "from nltk.stem import PorterStemmer\n",
    "from collections import Counter\n"
   ]
  },
  {
   "cell_type": "code",
   "execution_count": 2,
   "id": "defensive-surveillance",
   "metadata": {},
   "outputs": [],
   "source": [
    "# must uncomment & run the first time to DOWNLOAD NLTK data\n",
    "# I used package identifier 'popular'\n",
    "# nltk.download()"
   ]
  },
  {
   "cell_type": "code",
   "execution_count": 3,
   "id": "fantastic-tuesday",
   "metadata": {},
   "outputs": [
    {
     "data": {
      "text/plain": [
       "(879311, 38)"
      ]
     },
     "execution_count": 3,
     "metadata": {},
     "output_type": "execute_result"
    }
   ],
   "source": [
    "df = pd.read_pickle(\"pickle/df_t_raw.pick\")\n",
    "df.shape"
   ]
  },
  {
   "cell_type": "code",
   "execution_count": 4,
   "id": "analyzed-writer",
   "metadata": {},
   "outputs": [
    {
     "data": {
      "text/html": [
       "<div>\n",
       "<style scoped>\n",
       "    .dataframe tbody tr th:only-of-type {\n",
       "        vertical-align: middle;\n",
       "    }\n",
       "\n",
       "    .dataframe tbody tr th {\n",
       "        vertical-align: top;\n",
       "    }\n",
       "\n",
       "    .dataframe thead th {\n",
       "        text-align: right;\n",
       "    }\n",
       "</style>\n",
       "<table border=\"1\" class=\"dataframe\">\n",
       "  <thead>\n",
       "    <tr style=\"text-align: right;\">\n",
       "      <th></th>\n",
       "      <th>id</th>\n",
       "      <th>conversation_id</th>\n",
       "      <th>created_at</th>\n",
       "      <th>date</th>\n",
       "      <th>time</th>\n",
       "      <th>timezone</th>\n",
       "      <th>user_id</th>\n",
       "      <th>username</th>\n",
       "      <th>name</th>\n",
       "      <th>place</th>\n",
       "      <th>...</th>\n",
       "      <th>user_rt_id</th>\n",
       "      <th>user_rt</th>\n",
       "      <th>retweet_id</th>\n",
       "      <th>reply_to</th>\n",
       "      <th>retweet_date</th>\n",
       "      <th>translate</th>\n",
       "      <th>trans_src</th>\n",
       "      <th>trans_dest</th>\n",
       "      <th>biden</th>\n",
       "      <th>trump</th>\n",
       "    </tr>\n",
       "  </thead>\n",
       "  <tbody>\n",
       "    <tr>\n",
       "      <th>0</th>\n",
       "      <td>1321602647368019968</td>\n",
       "      <td>1321554078376226818</td>\n",
       "      <td>2020-10-28 23:59:59 UTC</td>\n",
       "      <td>2020-10-28</td>\n",
       "      <td>23:59:59</td>\n",
       "      <td>0</td>\n",
       "      <td>828075570219085824</td>\n",
       "      <td>jessferg2253</td>\n",
       "      <td>Jessa</td>\n",
       "      <td>NaN</td>\n",
       "      <td>...</td>\n",
       "      <td>NaN</td>\n",
       "      <td>NaN</td>\n",
       "      <td>NaN</td>\n",
       "      <td>[{'screen_name': 'capriaaf', 'name': 'Capria',...</td>\n",
       "      <td>NaN</td>\n",
       "      <td>NaN</td>\n",
       "      <td>NaN</td>\n",
       "      <td>NaN</td>\n",
       "      <td>True</td>\n",
       "      <td>True</td>\n",
       "    </tr>\n",
       "    <tr>\n",
       "      <th>1</th>\n",
       "      <td>1321602647129051136</td>\n",
       "      <td>1321493697565880320</td>\n",
       "      <td>2020-10-28 23:59:59 UTC</td>\n",
       "      <td>2020-10-28</td>\n",
       "      <td>23:59:59</td>\n",
       "      <td>0</td>\n",
       "      <td>255255428</td>\n",
       "      <td>margculbster</td>\n",
       "      <td>margaret c</td>\n",
       "      <td>NaN</td>\n",
       "      <td>...</td>\n",
       "      <td>NaN</td>\n",
       "      <td>NaN</td>\n",
       "      <td>NaN</td>\n",
       "      <td>[{'screen_name': 'Changinglenses', 'name': 'La...</td>\n",
       "      <td>NaN</td>\n",
       "      <td>NaN</td>\n",
       "      <td>NaN</td>\n",
       "      <td>NaN</td>\n",
       "      <td>True</td>\n",
       "      <td>False</td>\n",
       "    </tr>\n",
       "    <tr>\n",
       "      <th>2</th>\n",
       "      <td>1321602646973755395</td>\n",
       "      <td>1321602646973755395</td>\n",
       "      <td>2020-10-28 23:59:59 UTC</td>\n",
       "      <td>2020-10-28</td>\n",
       "      <td>23:59:59</td>\n",
       "      <td>0</td>\n",
       "      <td>15863393</td>\n",
       "      <td>katehinds</td>\n",
       "      <td>Kate Hinds</td>\n",
       "      <td>NaN</td>\n",
       "      <td>...</td>\n",
       "      <td>NaN</td>\n",
       "      <td>NaN</td>\n",
       "      <td>NaN</td>\n",
       "      <td>[]</td>\n",
       "      <td>NaN</td>\n",
       "      <td>NaN</td>\n",
       "      <td>NaN</td>\n",
       "      <td>NaN</td>\n",
       "      <td>True</td>\n",
       "      <td>True</td>\n",
       "    </tr>\n",
       "  </tbody>\n",
       "</table>\n",
       "<p>3 rows × 38 columns</p>\n",
       "</div>"
      ],
      "text/plain": [
       "                    id      conversation_id               created_at  \\\n",
       "0  1321602647368019968  1321554078376226818  2020-10-28 23:59:59 UTC   \n",
       "1  1321602647129051136  1321493697565880320  2020-10-28 23:59:59 UTC   \n",
       "2  1321602646973755395  1321602646973755395  2020-10-28 23:59:59 UTC   \n",
       "\n",
       "         date      time  timezone             user_id      username  \\\n",
       "0  2020-10-28  23:59:59         0  828075570219085824  jessferg2253   \n",
       "1  2020-10-28  23:59:59         0           255255428  margculbster   \n",
       "2  2020-10-28  23:59:59         0            15863393     katehinds   \n",
       "\n",
       "         name place  ... user_rt_id user_rt retweet_id  \\\n",
       "0       Jessa   NaN  ...        NaN     NaN        NaN   \n",
       "1  margaret c   NaN  ...        NaN     NaN        NaN   \n",
       "2  Kate Hinds   NaN  ...        NaN     NaN        NaN   \n",
       "\n",
       "                                            reply_to retweet_date  translate  \\\n",
       "0  [{'screen_name': 'capriaaf', 'name': 'Capria',...          NaN        NaN   \n",
       "1  [{'screen_name': 'Changinglenses', 'name': 'La...          NaN        NaN   \n",
       "2                                                 []          NaN        NaN   \n",
       "\n",
       "   trans_src  trans_dest biden  trump  \n",
       "0        NaN         NaN  True   True  \n",
       "1        NaN         NaN  True  False  \n",
       "2        NaN         NaN  True   True  \n",
       "\n",
       "[3 rows x 38 columns]"
      ]
     },
     "execution_count": 4,
     "metadata": {},
     "output_type": "execute_result"
    }
   ],
   "source": [
    "df.head(3)"
   ]
  },
  {
   "cell_type": "code",
   "execution_count": 5,
   "id": "loaded-sphere",
   "metadata": {},
   "outputs": [],
   "source": [
    "df['trump'] = df['trump'].astype(int)\n",
    "df['biden'] = df['biden'].astype(int)"
   ]
  },
  {
   "cell_type": "markdown",
   "id": "improving-cleaner",
   "metadata": {},
   "source": [
    "## Preprocessing\n",
    "\n",
    "We'll start small by simply removing numbers & punctuation and converting each tweet to lowercase. "
   ]
  },
  {
   "cell_type": "code",
   "execution_count": 6,
   "id": "fundamental-decline",
   "metadata": {},
   "outputs": [
    {
     "data": {
      "text/html": [
       "<div>\n",
       "<style scoped>\n",
       "    .dataframe tbody tr th:only-of-type {\n",
       "        vertical-align: middle;\n",
       "    }\n",
       "\n",
       "    .dataframe tbody tr th {\n",
       "        vertical-align: top;\n",
       "    }\n",
       "\n",
       "    .dataframe thead th {\n",
       "        text-align: right;\n",
       "    }\n",
       "</style>\n",
       "<table border=\"1\" class=\"dataframe\">\n",
       "  <thead>\n",
       "    <tr style=\"text-align: right;\">\n",
       "      <th></th>\n",
       "      <th>tweet</th>\n",
       "      <th>trump</th>\n",
       "      <th>biden</th>\n",
       "    </tr>\n",
       "  </thead>\n",
       "  <tbody>\n",
       "    <tr>\n",
       "      <th>0</th>\n",
       "      <td>@capriaaf @JoeBiden Plenty of results for #Tru...</td>\n",
       "      <td>1</td>\n",
       "      <td>1</td>\n",
       "    </tr>\n",
       "    <tr>\n",
       "      <th>1</th>\n",
       "      <td>@Changinglenses @greger_mary @JRubinBlogger @G...</td>\n",
       "      <td>0</td>\n",
       "      <td>1</td>\n",
       "    </tr>\n",
       "    <tr>\n",
       "      <th>2</th>\n",
       "      <td>Inside a Biden v. Trump marriage: \"you woke me...</td>\n",
       "      <td>1</td>\n",
       "      <td>1</td>\n",
       "    </tr>\n",
       "  </tbody>\n",
       "</table>\n",
       "</div>"
      ],
      "text/plain": [
       "                                               tweet  trump  biden\n",
       "0  @capriaaf @JoeBiden Plenty of results for #Tru...      1      1\n",
       "1  @Changinglenses @greger_mary @JRubinBlogger @G...      0      1\n",
       "2  Inside a Biden v. Trump marriage: \"you woke me...      1      1"
      ]
     },
     "execution_count": 6,
     "metadata": {},
     "output_type": "execute_result"
    }
   ],
   "source": [
    "# keep only necessary columns\n",
    "data = df.loc[:,['tweet', 'trump', 'biden']]\n",
    "data.head(3)"
   ]
  },
  {
   "cell_type": "code",
   "execution_count": 7,
   "id": "distinguished-command",
   "metadata": {},
   "outputs": [],
   "source": [
    "no_links = lambda x: re.sub(r\"https?:\\/\\/\\S+\", \"\", x)\n",
    "no_handles = lambda x: re.sub(r\"@[\\d\\w_]+\", \"\", x)\n",
    "alphanum = lambda x: re.sub('\\w*\\d\\w*', ' ', x)\n",
    "punc_lower = lambda x: re.sub('[%s]' % re.escape(string.punctuation), ' ', x.lower())"
   ]
  },
  {
   "cell_type": "code",
   "execution_count": 8,
   "id": "pacific-month",
   "metadata": {},
   "outputs": [],
   "source": [
    "data['tweet'] = data['tweet'].map(no_handles).map(no_links).map(punc_lower).map(alphanum)"
   ]
  },
  {
   "cell_type": "code",
   "execution_count": 9,
   "id": "entitled-colony",
   "metadata": {},
   "outputs": [
    {
     "data": {
      "text/html": [
       "<div>\n",
       "<style scoped>\n",
       "    .dataframe tbody tr th:only-of-type {\n",
       "        vertical-align: middle;\n",
       "    }\n",
       "\n",
       "    .dataframe tbody tr th {\n",
       "        vertical-align: top;\n",
       "    }\n",
       "\n",
       "    .dataframe thead th {\n",
       "        text-align: right;\n",
       "    }\n",
       "</style>\n",
       "<table border=\"1\" class=\"dataframe\">\n",
       "  <thead>\n",
       "    <tr style=\"text-align: right;\">\n",
       "      <th></th>\n",
       "      <th>tweet</th>\n",
       "      <th>trump</th>\n",
       "      <th>biden</th>\n",
       "    </tr>\n",
       "  </thead>\n",
       "  <tbody>\n",
       "    <tr>\n",
       "      <th>0</th>\n",
       "      <td>plenty of results for  trumpcrimefamily and ...</td>\n",
       "      <td>1</td>\n",
       "      <td>1</td>\n",
       "    </tr>\n",
       "    <tr>\n",
       "      <th>1</th>\n",
       "      <td>he left washington before impeachment</td>\n",
       "      <td>0</td>\n",
       "      <td>1</td>\n",
       "    </tr>\n",
       "    <tr>\n",
       "      <th>2</th>\n",
       "      <td>inside a biden v  trump marriage   you woke me...</td>\n",
       "      <td>1</td>\n",
       "      <td>1</td>\n",
       "    </tr>\n",
       "  </tbody>\n",
       "</table>\n",
       "</div>"
      ],
      "text/plain": [
       "                                               tweet  trump  biden\n",
       "0    plenty of results for  trumpcrimefamily and ...      1      1\n",
       "1             he left washington before impeachment       0      1\n",
       "2  inside a biden v  trump marriage   you woke me...      1      1"
      ]
     },
     "execution_count": 9,
     "metadata": {},
     "output_type": "execute_result"
    }
   ],
   "source": [
    "data.head(3)"
   ]
  },
  {
   "cell_type": "code",
   "execution_count": 10,
   "id": "lesser-dollar",
   "metadata": {},
   "outputs": [
    {
     "data": {
      "text/plain": [
       "703448.8"
      ]
     },
     "execution_count": 10,
     "metadata": {},
     "output_type": "execute_result"
    }
   ],
   "source": [
    "len(data) * 0.8"
   ]
  },
  {
   "cell_type": "code",
   "execution_count": 11,
   "id": "annoying-potter",
   "metadata": {},
   "outputs": [],
   "source": [
    "cv = CountVectorizer(stop_words='english')\n",
    "X_train = data[:50]['tweet']"
   ]
  },
  {
   "cell_type": "code",
   "execution_count": 13,
   "id": "boxed-headset",
   "metadata": {},
   "outputs": [],
   "source": [
    "X_train_cv = cv.fit_transform(X_train)"
   ]
  },
  {
   "cell_type": "code",
   "execution_count": 14,
   "id": "outdoor-boutique",
   "metadata": {},
   "outputs": [],
   "source": [
    "# pd.DataFrame(X_train_cv.toarray(), columns=cv.get_feature_names()).head()"
   ]
  },
  {
   "cell_type": "markdown",
   "id": "worthy-doctor",
   "metadata": {},
   "source": [
    "## NLTK Tweet Tokenizer"
   ]
  },
  {
   "cell_type": "code",
   "execution_count": 35,
   "id": "fifth-discretion",
   "metadata": {},
   "outputs": [],
   "source": [
    "mask = (df.trump == 0) & (df.biden == 1)\n",
    "biden_tweets = df[mask]['tweet']\n",
    "biden_tweets = biden_tweets[:50000]\n",
    "\n",
    "mask = (df.trump == 1) & (df.biden == 0)\n",
    "trump_tweets = df[mask]['tweet']\n",
    "trump_tweets = trump_tweets[:50000]"
   ]
  },
  {
   "cell_type": "code",
   "execution_count": 36,
   "id": "portuguese-warren",
   "metadata": {},
   "outputs": [
    {
     "data": {
      "text/plain": [
       "(50000,)"
      ]
     },
     "execution_count": 36,
     "metadata": {},
     "output_type": "execute_result"
    }
   ],
   "source": [
    "trump_tweets.shape"
   ]
  },
  {
   "cell_type": "code",
   "execution_count": 37,
   "id": "fifteen-ordinance",
   "metadata": {},
   "outputs": [
    {
     "data": {
      "text/plain": [
       "1    @Changinglenses @greger_mary @JRubinBlogger @G...\n",
       "6        Loving all these Republicans endorsing Biden.\n",
       "7    WATCH: 'Ballot chaser' boasts she got $55,000 ...\n",
       "8                   @JoeBiden  https://t.co/qTxhMODuIH\n",
       "Name: tweet, dtype: object"
      ]
     },
     "execution_count": 37,
     "metadata": {},
     "output_type": "execute_result"
    }
   ],
   "source": [
    "biden_tweets.head(4)"
   ]
  },
  {
   "cell_type": "code",
   "execution_count": 67,
   "id": "sound-lambda",
   "metadata": {},
   "outputs": [
    {
     "name": "stdout",
     "output_type": "stream",
     "text": [
      "None\n"
     ]
    }
   ],
   "source": [
    "puncs = [c for c in string.punctuation if c not in [\"#\", \":\"]]\n",
    "print(puncs)"
   ]
  },
  {
   "cell_type": "code",
   "execution_count": 77,
   "id": "white-flashing",
   "metadata": {},
   "outputs": [],
   "source": [
    "def tweet_tokenize(tweets):\n",
    "    \"\"\"Get all of the tokens in a set of tweets\"\"\"\n",
    "    twt = nltk.tokenize.TweetTokenizer(strip_handles=True, reduce_len=True)\n",
    "    tokens = [token for tweet in tweets for token in twt.tokenize(tweet)]\n",
    "    # combine stop words and punctuation\n",
    "    puncs = [c for c in string.punctuation if c not in [\"#\", \":\"]]\n",
    "    stop = stopwords.words(\"english\") + puncs + ['”']\n",
    "    stemmer = PorterStemmer()\n",
    "    tokens = [ stemmer.stem(token) for tweet in tweets\n",
    "              for token in twt.tokenize(tweet)\n",
    "              if token.lower() not in stop]\n",
    "\n",
    "    \n",
    "    \n",
    "    return tokens"
   ]
  },
  {
   "cell_type": "code",
   "execution_count": 78,
   "id": "likely-burning",
   "metadata": {},
   "outputs": [
    {
     "name": "stdout",
     "output_type": "stream",
     "text": [
      "CPU times: user 19.5 s, sys: 55.8 ms, total: 19.6 s\n",
      "Wall time: 19.6 s\n"
     ]
    }
   ],
   "source": [
    "%%time\n",
    "trump_tokens = tweet_tokenize(trump_tweets)"
   ]
  },
  {
   "cell_type": "code",
   "execution_count": 79,
   "id": "complicated-utility",
   "metadata": {},
   "outputs": [
    {
     "name": "stdout",
     "output_type": "stream",
     "text": [
      "CPU times: user 16.1 s, sys: 27.9 ms, total: 16.1 s\n",
      "Wall time: 16.1 s\n"
     ]
    }
   ],
   "source": [
    "%%time\n",
    "biden_tokens = tweet_tokenize(biden_tweets)"
   ]
  },
  {
   "cell_type": "code",
   "execution_count": 80,
   "id": "first-canadian",
   "metadata": {},
   "outputs": [
    {
     "name": "stdout",
     "output_type": "stream",
     "text": [
      "CPU times: user 87.2 ms, sys: 4.01 ms, total: 91.2 ms\n",
      "Wall time: 90.8 ms\n"
     ]
    }
   ],
   "source": [
    "%%time\n",
    "trump_count = Counter(trump_tokens)"
   ]
  },
  {
   "cell_type": "code",
   "execution_count": 81,
   "id": "accessible-shore",
   "metadata": {},
   "outputs": [
    {
     "name": "stdout",
     "output_type": "stream",
     "text": [
      "CPU times: user 70.5 ms, sys: 35 µs, total: 70.5 ms\n",
      "Wall time: 70.3 ms\n"
     ]
    }
   ],
   "source": [
    "%%time\n",
    "biden_count = Counter(biden_tokens)"
   ]
  },
  {
   "cell_type": "code",
   "execution_count": 82,
   "id": "existing-understanding",
   "metadata": {},
   "outputs": [
    {
     "data": {
      "text/plain": [
       "[('trump', 51607),\n",
       " ('’', 16639),\n",
       " ('...', 5126),\n",
       " (':', 4563),\n",
       " ('vote', 4250),\n",
       " ('like', 4233),\n",
       " ('presid', 4088),\n",
       " ('peopl', 3983),\n",
       " ('get', 3351),\n",
       " ('support', 3288),\n",
       " ('say', 3110),\n",
       " ('donald', 2850),\n",
       " (\"trump'\", 2749),\n",
       " ('go', 2746),\n",
       " ('know', 2624),\n",
       " ('“', 2545),\n",
       " ('one', 2474),\n",
       " ('think', 2439),\n",
       " ('would', 2426),\n",
       " ('covid', 2310)]"
      ]
     },
     "execution_count": 82,
     "metadata": {},
     "output_type": "execute_result"
    }
   ],
   "source": [
    "trump_count.most_common(20)"
   ]
  },
  {
   "cell_type": "code",
   "execution_count": 83,
   "id": "multiple-bottom",
   "metadata": {},
   "outputs": [
    {
     "data": {
      "text/plain": [
       "[('biden', 29246),\n",
       " ('’', 13829),\n",
       " ('joe', 7578),\n",
       " ('vote', 7189),\n",
       " ('...', 4689),\n",
       " (':', 3231),\n",
       " ('like', 3072),\n",
       " ('get', 2956),\n",
       " ('peopl', 2898),\n",
       " ('hunter', 2646),\n",
       " ('go', 2637),\n",
       " ('say', 2541),\n",
       " ('would', 2442),\n",
       " ('win', 2310),\n",
       " ('know', 2298),\n",
       " ('presid', 2265),\n",
       " ('one', 2191),\n",
       " ('harri', 2078),\n",
       " ('elect', 2058),\n",
       " ('think', 2025)]"
      ]
     },
     "execution_count": 83,
     "metadata": {},
     "output_type": "execute_result"
    }
   ],
   "source": [
    "biden_count.most_common(20)"
   ]
  },
  {
   "cell_type": "code",
   "execution_count": 84,
   "id": "harmful-state",
   "metadata": {},
   "outputs": [
    {
     "data": {
      "text/plain": [
       "567732"
      ]
     },
     "execution_count": 84,
     "metadata": {},
     "output_type": "execute_result"
    }
   ],
   "source": [
    "len(biden_tokens)"
   ]
  },
  {
   "cell_type": "code",
   "execution_count": null,
   "id": "expanded-framework",
   "metadata": {},
   "outputs": [],
   "source": []
  },
  {
   "cell_type": "code",
   "execution_count": 85,
   "id": "successful-shore",
   "metadata": {},
   "outputs": [
    {
     "data": {
      "text/plain": [
       "['surpris',\n",
       " 'see',\n",
       " 'travel',\n",
       " 'way',\n",
       " 'america',\n",
       " 'sweden',\n",
       " 'meet',\n",
       " 'presid',\n",
       " 'mock',\n",
       " '’',\n",
       " 'want',\n",
       " 'reveng',\n",
       " 'trump',\n",
       " 'disrespect',\n",
       " 'trump',\n",
       " 'littl',\n",
       " 'lacki',\n",
       " '🚨',\n",
       " 'trump',\n",
       " 'malta',\n",
       " 'mason',\n",
       " 'serv',\n",
       " 'chabad',\n",
       " 'synagogu',\n",
       " 'satan',\n",
       " ');',\n",
       " 'thu',\n",
       " 'recommend',\n",
       " 'jump',\n",
       " 'jesu',\n",
       " 'train',\n",
       " 'brother',\n",
       " 'lot',\n",
       " 'inform',\n",
       " '...',\n",
       " 'lot',\n",
       " 'could',\n",
       " 'chang',\n",
       " 'time',\n",
       " 'period',\n",
       " '—',\n",
       " 'adjust',\n",
       " 'tax',\n",
       " 'code',\n",
       " 'increas',\n",
       " 'revenu',\n",
       " 'spend',\n",
       " 'cut',\n",
       " 'would',\n",
       " 'alter']"
      ]
     },
     "execution_count": 85,
     "metadata": {},
     "output_type": "execute_result"
    }
   ],
   "source": [
    "trump_tokens[:50]"
   ]
  },
  {
   "cell_type": "code",
   "execution_count": null,
   "id": "copyrighted-aluminum",
   "metadata": {},
   "outputs": [],
   "source": []
  },
  {
   "cell_type": "code",
   "execution_count": null,
   "id": "civilian-opposition",
   "metadata": {},
   "outputs": [],
   "source": []
  },
  {
   "cell_type": "code",
   "execution_count": null,
   "id": "approved-metro",
   "metadata": {},
   "outputs": [],
   "source": []
  }
 ],
 "metadata": {
  "kernelspec": {
   "display_name": "Python 3",
   "language": "python",
   "name": "python3"
  },
  "language_info": {
   "codemirror_mode": {
    "name": "ipython",
    "version": 3
   },
   "file_extension": ".py",
   "mimetype": "text/x-python",
   "name": "python",
   "nbconvert_exporter": "python",
   "pygments_lexer": "ipython3",
   "version": "3.7.9"
  }
 },
 "nbformat": 4,
 "nbformat_minor": 5
}
