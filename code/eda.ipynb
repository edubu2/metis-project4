{
 "cells": [
  {
   "cell_type": "code",
   "execution_count": 1,
   "id": "tribal-leather",
   "metadata": {},
   "outputs": [],
   "source": [
    "import pickle\n",
    "import re\n",
    "import string\n",
    "import emoji\n",
    "import pandas as pd\n",
    "import numpy as np\n",
    "\n",
    "from textblob import TextBlob\n",
    "from collections import Counter\n",
    "\n",
    "\n",
    "from sklearn.feature_extraction.text import CountVectorizer\n",
    "from sklearn.model_selection import train_test_split\n",
    "from sklearn.decomposition import NMF\n",
    "\n",
    "import nltk\n",
    "from nltk.tokenize import TweetTokenizer\n",
    "from nltk.corpus import stopwords\n",
    "from nltk.stem import PorterStemmer\n",
    "\n",
    "\n",
    "from vaderSentiment.vaderSentiment import SentimentIntensityAnalyzer\n",
    "from textblob import TextBlob\n"
   ]
  },
  {
   "cell_type": "code",
   "execution_count": 2,
   "id": "defensive-surveillance",
   "metadata": {},
   "outputs": [],
   "source": [
    "# must uncomment & run the first time to DOWNLOAD NLTK data\n",
    "# I used package identifier 'popular'\n",
    "# nltk.download()"
   ]
  },
  {
   "cell_type": "code",
   "execution_count": 3,
   "id": "fantastic-tuesday",
   "metadata": {},
   "outputs": [
    {
     "data": {
      "text/plain": [
       "(879311, 38)"
      ]
     },
     "execution_count": 3,
     "metadata": {},
     "output_type": "execute_result"
    }
   ],
   "source": [
    "df = pd.read_pickle(\"pickle/df_t_raw.pick\")\n",
    "df.shape"
   ]
  },
  {
   "cell_type": "code",
   "execution_count": 4,
   "id": "loaded-sphere",
   "metadata": {},
   "outputs": [],
   "source": [
    "df['trump'] = df['trump'].astype(int)\n",
    "df['biden'] = df['biden'].astype(int)"
   ]
  },
  {
   "cell_type": "code",
   "execution_count": 5,
   "id": "inner-virus",
   "metadata": {},
   "outputs": [
    {
     "data": {
      "text/plain": [
       "\"@Complex Taliban endorse Trump because he wants to bring home American troops. That's a good thing.\""
      ]
     },
     "execution_count": 5,
     "metadata": {},
     "output_type": "execute_result"
    }
   ],
   "source": [
    "mask = df.biden==0\n",
    "df[mask]['tweet'].iloc[10]"
   ]
  },
  {
   "cell_type": "code",
   "execution_count": 6,
   "id": "analyzed-writer",
   "metadata": {},
   "outputs": [
    {
     "data": {
      "text/html": [
       "<div>\n",
       "<style scoped>\n",
       "    .dataframe tbody tr th:only-of-type {\n",
       "        vertical-align: middle;\n",
       "    }\n",
       "\n",
       "    .dataframe tbody tr th {\n",
       "        vertical-align: top;\n",
       "    }\n",
       "\n",
       "    .dataframe thead th {\n",
       "        text-align: right;\n",
       "    }\n",
       "</style>\n",
       "<table border=\"1\" class=\"dataframe\">\n",
       "  <thead>\n",
       "    <tr style=\"text-align: right;\">\n",
       "      <th></th>\n",
       "      <th>id</th>\n",
       "      <th>conversation_id</th>\n",
       "      <th>created_at</th>\n",
       "      <th>date</th>\n",
       "      <th>time</th>\n",
       "      <th>timezone</th>\n",
       "      <th>user_id</th>\n",
       "      <th>username</th>\n",
       "      <th>name</th>\n",
       "      <th>place</th>\n",
       "      <th>...</th>\n",
       "      <th>user_rt_id</th>\n",
       "      <th>user_rt</th>\n",
       "      <th>retweet_id</th>\n",
       "      <th>reply_to</th>\n",
       "      <th>retweet_date</th>\n",
       "      <th>translate</th>\n",
       "      <th>trans_src</th>\n",
       "      <th>trans_dest</th>\n",
       "      <th>biden</th>\n",
       "      <th>trump</th>\n",
       "    </tr>\n",
       "  </thead>\n",
       "  <tbody>\n",
       "    <tr>\n",
       "      <th>3605</th>\n",
       "      <td>1318702356285038592</td>\n",
       "      <td>1318688179621400576</td>\n",
       "      <td>2020-10-20 23:55:16 UTC</td>\n",
       "      <td>2020-10-20</td>\n",
       "      <td>23:55:16</td>\n",
       "      <td>0</td>\n",
       "      <td>282306807</td>\n",
       "      <td>metsupdate</td>\n",
       "      <td>Tootie</td>\n",
       "      <td>NaN</td>\n",
       "      <td>...</td>\n",
       "      <td>NaN</td>\n",
       "      <td>NaN</td>\n",
       "      <td>NaN</td>\n",
       "      <td>[{'screen_name': 'tonybeef32', 'name': 'Fat Do...</td>\n",
       "      <td>NaN</td>\n",
       "      <td>NaN</td>\n",
       "      <td>NaN</td>\n",
       "      <td>NaN</td>\n",
       "      <td>0</td>\n",
       "      <td>1</td>\n",
       "    </tr>\n",
       "    <tr>\n",
       "      <th>11754</th>\n",
       "      <td>1316525052138061825</td>\n",
       "      <td>1316522656796160000</td>\n",
       "      <td>2020-10-14 23:43:26 UTC</td>\n",
       "      <td>2020-10-14</td>\n",
       "      <td>23:43:26</td>\n",
       "      <td>0</td>\n",
       "      <td>1286417985201217542</td>\n",
       "      <td>knowthyselfneo</td>\n",
       "      <td>Thomas Anderson</td>\n",
       "      <td>NaN</td>\n",
       "      <td>...</td>\n",
       "      <td>NaN</td>\n",
       "      <td>NaN</td>\n",
       "      <td>NaN</td>\n",
       "      <td>[{'screen_name': 'JamesOKeefeIII', 'name': \"Ja...</td>\n",
       "      <td>NaN</td>\n",
       "      <td>NaN</td>\n",
       "      <td>NaN</td>\n",
       "      <td>NaN</td>\n",
       "      <td>0</td>\n",
       "      <td>1</td>\n",
       "    </tr>\n",
       "    <tr>\n",
       "      <th>7400</th>\n",
       "      <td>1317249825633636352</td>\n",
       "      <td>1317172943189835779</td>\n",
       "      <td>2020-10-16 23:43:26 UTC</td>\n",
       "      <td>2020-10-16</td>\n",
       "      <td>23:43:26</td>\n",
       "      <td>0</td>\n",
       "      <td>3355913447</td>\n",
       "      <td>angelisthais</td>\n",
       "      <td>Thais de angelis</td>\n",
       "      <td>NaN</td>\n",
       "      <td>...</td>\n",
       "      <td>NaN</td>\n",
       "      <td>NaN</td>\n",
       "      <td>NaN</td>\n",
       "      <td>[{'screen_name': 'JusticiaDorada', 'name': 'JU...</td>\n",
       "      <td>NaN</td>\n",
       "      <td>NaN</td>\n",
       "      <td>NaN</td>\n",
       "      <td>NaN</td>\n",
       "      <td>1</td>\n",
       "      <td>0</td>\n",
       "    </tr>\n",
       "    <tr>\n",
       "      <th>115</th>\n",
       "      <td>1315079601958334464</td>\n",
       "      <td>1315078880982687744</td>\n",
       "      <td>2020-10-10 23:59:44 UTC</td>\n",
       "      <td>2020-10-10</td>\n",
       "      <td>23:59:44</td>\n",
       "      <td>0</td>\n",
       "      <td>1260000492425482247</td>\n",
       "      <td>freespe84645435</td>\n",
       "      <td>Free Speech</td>\n",
       "      <td>NaN</td>\n",
       "      <td>...</td>\n",
       "      <td>NaN</td>\n",
       "      <td>NaN</td>\n",
       "      <td>NaN</td>\n",
       "      <td>[{'screen_name': 'charliekirk11', 'name': 'Cha...</td>\n",
       "      <td>NaN</td>\n",
       "      <td>NaN</td>\n",
       "      <td>NaN</td>\n",
       "      <td>NaN</td>\n",
       "      <td>0</td>\n",
       "      <td>1</td>\n",
       "    </tr>\n",
       "    <tr>\n",
       "      <th>6350</th>\n",
       "      <td>1319063264186294272</td>\n",
       "      <td>1319063264186294272</td>\n",
       "      <td>2020-10-21 23:49:23 UTC</td>\n",
       "      <td>2020-10-21</td>\n",
       "      <td>23:49:23</td>\n",
       "      <td>0</td>\n",
       "      <td>221988097</td>\n",
       "      <td>diabeticjew</td>\n",
       "      <td>Reds Bergamo</td>\n",
       "      <td>NaN</td>\n",
       "      <td>...</td>\n",
       "      <td>NaN</td>\n",
       "      <td>NaN</td>\n",
       "      <td>NaN</td>\n",
       "      <td>[]</td>\n",
       "      <td>NaN</td>\n",
       "      <td>NaN</td>\n",
       "      <td>NaN</td>\n",
       "      <td>NaN</td>\n",
       "      <td>1</td>\n",
       "      <td>0</td>\n",
       "    </tr>\n",
       "    <tr>\n",
       "      <th>40955</th>\n",
       "      <td>1323407202304974848</td>\n",
       "      <td>1323406337955536896</td>\n",
       "      <td>2020-11-02 23:30:39 UTC</td>\n",
       "      <td>2020-11-02</td>\n",
       "      <td>23:30:39</td>\n",
       "      <td>0</td>\n",
       "      <td>1323174854829334529</td>\n",
       "      <td>dorkinski</td>\n",
       "      <td>Mike Dorkinski</td>\n",
       "      <td>NaN</td>\n",
       "      <td>...</td>\n",
       "      <td>NaN</td>\n",
       "      <td>NaN</td>\n",
       "      <td>NaN</td>\n",
       "      <td>[{'screen_name': 'KeithOlbermann', 'name': 'Ke...</td>\n",
       "      <td>NaN</td>\n",
       "      <td>NaN</td>\n",
       "      <td>NaN</td>\n",
       "      <td>NaN</td>\n",
       "      <td>1</td>\n",
       "      <td>0</td>\n",
       "    </tr>\n",
       "    <tr>\n",
       "      <th>4412</th>\n",
       "      <td>1319064621500780546</td>\n",
       "      <td>1319059524184117250</td>\n",
       "      <td>2020-10-21 23:54:47 UTC</td>\n",
       "      <td>2020-10-21</td>\n",
       "      <td>23:54:47</td>\n",
       "      <td>0</td>\n",
       "      <td>1301242339</td>\n",
       "      <td>lakeeriejake</td>\n",
       "      <td>Jake Peruski</td>\n",
       "      <td>NaN</td>\n",
       "      <td>...</td>\n",
       "      <td>NaN</td>\n",
       "      <td>NaN</td>\n",
       "      <td>NaN</td>\n",
       "      <td>[{'screen_name': 'Trump_Detester', 'name': 'cα...</td>\n",
       "      <td>NaN</td>\n",
       "      <td>NaN</td>\n",
       "      <td>NaN</td>\n",
       "      <td>NaN</td>\n",
       "      <td>0</td>\n",
       "      <td>1</td>\n",
       "    </tr>\n",
       "    <tr>\n",
       "      <th>5362</th>\n",
       "      <td>1315439299081498624</td>\n",
       "      <td>1315439299081498624</td>\n",
       "      <td>2020-10-11 23:49:03 UTC</td>\n",
       "      <td>2020-10-11</td>\n",
       "      <td>23:49:03</td>\n",
       "      <td>0</td>\n",
       "      <td>1287394314297933824</td>\n",
       "      <td>robertlthomps10</td>\n",
       "      <td>Robert L Thompson</td>\n",
       "      <td>NaN</td>\n",
       "      <td>...</td>\n",
       "      <td>NaN</td>\n",
       "      <td>NaN</td>\n",
       "      <td>NaN</td>\n",
       "      <td>[]</td>\n",
       "      <td>NaN</td>\n",
       "      <td>NaN</td>\n",
       "      <td>NaN</td>\n",
       "      <td>NaN</td>\n",
       "      <td>0</td>\n",
       "      <td>1</td>\n",
       "    </tr>\n",
       "    <tr>\n",
       "      <th>11004</th>\n",
       "      <td>1316525326915305478</td>\n",
       "      <td>1316525326915305478</td>\n",
       "      <td>2020-10-14 23:44:32 UTC</td>\n",
       "      <td>2020-10-14</td>\n",
       "      <td>23:44:32</td>\n",
       "      <td>0</td>\n",
       "      <td>187818698</td>\n",
       "      <td>mtnbiker1971</td>\n",
       "      <td>Joel Hamilton</td>\n",
       "      <td>NaN</td>\n",
       "      <td>...</td>\n",
       "      <td>NaN</td>\n",
       "      <td>NaN</td>\n",
       "      <td>NaN</td>\n",
       "      <td>[]</td>\n",
       "      <td>NaN</td>\n",
       "      <td>NaN</td>\n",
       "      <td>NaN</td>\n",
       "      <td>NaN</td>\n",
       "      <td>0</td>\n",
       "      <td>1</td>\n",
       "    </tr>\n",
       "    <tr>\n",
       "      <th>12683</th>\n",
       "      <td>1316524731269603328</td>\n",
       "      <td>1316523803451817992</td>\n",
       "      <td>2020-10-14 23:42:10 UTC</td>\n",
       "      <td>2020-10-14</td>\n",
       "      <td>23:42:10</td>\n",
       "      <td>0</td>\n",
       "      <td>972145840319008768</td>\n",
       "      <td>johnpark214</td>\n",
       "      <td>john P.</td>\n",
       "      <td>NaN</td>\n",
       "      <td>...</td>\n",
       "      <td>NaN</td>\n",
       "      <td>NaN</td>\n",
       "      <td>NaN</td>\n",
       "      <td>[{'screen_name': 'danielascholz7', 'name': 'da...</td>\n",
       "      <td>NaN</td>\n",
       "      <td>NaN</td>\n",
       "      <td>NaN</td>\n",
       "      <td>NaN</td>\n",
       "      <td>0</td>\n",
       "      <td>1</td>\n",
       "    </tr>\n",
       "  </tbody>\n",
       "</table>\n",
       "<p>10 rows × 38 columns</p>\n",
       "</div>"
      ],
      "text/plain": [
       "                        id      conversation_id               created_at  \\\n",
       "3605   1318702356285038592  1318688179621400576  2020-10-20 23:55:16 UTC   \n",
       "11754  1316525052138061825  1316522656796160000  2020-10-14 23:43:26 UTC   \n",
       "7400   1317249825633636352  1317172943189835779  2020-10-16 23:43:26 UTC   \n",
       "115    1315079601958334464  1315078880982687744  2020-10-10 23:59:44 UTC   \n",
       "6350   1319063264186294272  1319063264186294272  2020-10-21 23:49:23 UTC   \n",
       "40955  1323407202304974848  1323406337955536896  2020-11-02 23:30:39 UTC   \n",
       "4412   1319064621500780546  1319059524184117250  2020-10-21 23:54:47 UTC   \n",
       "5362   1315439299081498624  1315439299081498624  2020-10-11 23:49:03 UTC   \n",
       "11004  1316525326915305478  1316525326915305478  2020-10-14 23:44:32 UTC   \n",
       "12683  1316524731269603328  1316523803451817992  2020-10-14 23:42:10 UTC   \n",
       "\n",
       "             date      time  timezone              user_id         username  \\\n",
       "3605   2020-10-20  23:55:16         0            282306807       metsupdate   \n",
       "11754  2020-10-14  23:43:26         0  1286417985201217542   knowthyselfneo   \n",
       "7400   2020-10-16  23:43:26         0           3355913447     angelisthais   \n",
       "115    2020-10-10  23:59:44         0  1260000492425482247  freespe84645435   \n",
       "6350   2020-10-21  23:49:23         0            221988097      diabeticjew   \n",
       "40955  2020-11-02  23:30:39         0  1323174854829334529        dorkinski   \n",
       "4412   2020-10-21  23:54:47         0           1301242339     lakeeriejake   \n",
       "5362   2020-10-11  23:49:03         0  1287394314297933824  robertlthomps10   \n",
       "11004  2020-10-14  23:44:32         0            187818698     mtnbiker1971   \n",
       "12683  2020-10-14  23:42:10         0   972145840319008768      johnpark214   \n",
       "\n",
       "                    name place  ... user_rt_id user_rt retweet_id  \\\n",
       "3605              Tootie   NaN  ...        NaN     NaN        NaN   \n",
       "11754    Thomas Anderson   NaN  ...        NaN     NaN        NaN   \n",
       "7400    Thais de angelis   NaN  ...        NaN     NaN        NaN   \n",
       "115          Free Speech   NaN  ...        NaN     NaN        NaN   \n",
       "6350        Reds Bergamo   NaN  ...        NaN     NaN        NaN   \n",
       "40955     Mike Dorkinski   NaN  ...        NaN     NaN        NaN   \n",
       "4412        Jake Peruski   NaN  ...        NaN     NaN        NaN   \n",
       "5362   Robert L Thompson   NaN  ...        NaN     NaN        NaN   \n",
       "11004      Joel Hamilton   NaN  ...        NaN     NaN        NaN   \n",
       "12683            john P.   NaN  ...        NaN     NaN        NaN   \n",
       "\n",
       "                                                reply_to retweet_date  \\\n",
       "3605   [{'screen_name': 'tonybeef32', 'name': 'Fat Do...          NaN   \n",
       "11754  [{'screen_name': 'JamesOKeefeIII', 'name': \"Ja...          NaN   \n",
       "7400   [{'screen_name': 'JusticiaDorada', 'name': 'JU...          NaN   \n",
       "115    [{'screen_name': 'charliekirk11', 'name': 'Cha...          NaN   \n",
       "6350                                                  []          NaN   \n",
       "40955  [{'screen_name': 'KeithOlbermann', 'name': 'Ke...          NaN   \n",
       "4412   [{'screen_name': 'Trump_Detester', 'name': 'cα...          NaN   \n",
       "5362                                                  []          NaN   \n",
       "11004                                                 []          NaN   \n",
       "12683  [{'screen_name': 'danielascholz7', 'name': 'da...          NaN   \n",
       "\n",
       "       translate  trans_src  trans_dest biden trump  \n",
       "3605         NaN        NaN         NaN     0     1  \n",
       "11754        NaN        NaN         NaN     0     1  \n",
       "7400         NaN        NaN         NaN     1     0  \n",
       "115          NaN        NaN         NaN     0     1  \n",
       "6350         NaN        NaN         NaN     1     0  \n",
       "40955        NaN        NaN         NaN     1     0  \n",
       "4412         NaN        NaN         NaN     0     1  \n",
       "5362         NaN        NaN         NaN     0     1  \n",
       "11004        NaN        NaN         NaN     0     1  \n",
       "12683        NaN        NaN         NaN     0     1  \n",
       "\n",
       "[10 rows x 38 columns]"
      ]
     },
     "execution_count": 6,
     "metadata": {},
     "output_type": "execute_result"
    }
   ],
   "source": [
    "df.sample(10)"
   ]
  },
  {
   "cell_type": "markdown",
   "id": "improving-cleaner",
   "metadata": {},
   "source": [
    "## Preprocessing\n",
    "\n",
    "We'll start small by simply removing numbers & punctuation and converting each tweet to lowercase. "
   ]
  },
  {
   "cell_type": "code",
   "execution_count": 7,
   "id": "fundamental-decline",
   "metadata": {},
   "outputs": [
    {
     "data": {
      "text/html": [
       "<div>\n",
       "<style scoped>\n",
       "    .dataframe tbody tr th:only-of-type {\n",
       "        vertical-align: middle;\n",
       "    }\n",
       "\n",
       "    .dataframe tbody tr th {\n",
       "        vertical-align: top;\n",
       "    }\n",
       "\n",
       "    .dataframe thead th {\n",
       "        text-align: right;\n",
       "    }\n",
       "</style>\n",
       "<table border=\"1\" class=\"dataframe\">\n",
       "  <thead>\n",
       "    <tr style=\"text-align: right;\">\n",
       "      <th></th>\n",
       "      <th>tweet</th>\n",
       "      <th>trump</th>\n",
       "      <th>biden</th>\n",
       "    </tr>\n",
       "  </thead>\n",
       "  <tbody>\n",
       "    <tr>\n",
       "      <th>0</th>\n",
       "      <td>@capriaaf @JoeBiden Plenty of results for #Tru...</td>\n",
       "      <td>1</td>\n",
       "      <td>1</td>\n",
       "    </tr>\n",
       "    <tr>\n",
       "      <th>1</th>\n",
       "      <td>@Changinglenses @greger_mary @JRubinBlogger @G...</td>\n",
       "      <td>0</td>\n",
       "      <td>1</td>\n",
       "    </tr>\n",
       "    <tr>\n",
       "      <th>2</th>\n",
       "      <td>Inside a Biden v. Trump marriage: \"you woke me...</td>\n",
       "      <td>1</td>\n",
       "      <td>1</td>\n",
       "    </tr>\n",
       "  </tbody>\n",
       "</table>\n",
       "</div>"
      ],
      "text/plain": [
       "                                               tweet  trump  biden\n",
       "0  @capriaaf @JoeBiden Plenty of results for #Tru...      1      1\n",
       "1  @Changinglenses @greger_mary @JRubinBlogger @G...      0      1\n",
       "2  Inside a Biden v. Trump marriage: \"you woke me...      1      1"
      ]
     },
     "execution_count": 7,
     "metadata": {},
     "output_type": "execute_result"
    }
   ],
   "source": [
    "# keep only necessary columns\n",
    "data = df.loc[:,['tweet', 'trump', 'biden']]\n",
    "data.head(3)"
   ]
  },
  {
   "cell_type": "code",
   "execution_count": 8,
   "id": "distinguished-command",
   "metadata": {},
   "outputs": [],
   "source": [
    "no_links = lambda x: re.sub(r\"https?:\\/\\/\\S+\", \"\", x)\n",
    "no_handles = lambda x: re.sub(r\"@[\\d\\w_]+\", \"\", x)\n",
    "alphanum = lambda x: re.sub('\\w*\\d\\w*', ' ', x)\n",
    "punc_lower = lambda x: re.sub('[%s]' % re.escape(string.punctuation), ' ', x.lower())"
   ]
  },
  {
   "cell_type": "code",
   "execution_count": 9,
   "id": "pacific-month",
   "metadata": {},
   "outputs": [],
   "source": [
    "data['tweet'] = data['tweet'].map(no_handles).map(no_links).map(punc_lower).map(alphanum)"
   ]
  },
  {
   "cell_type": "code",
   "execution_count": 10,
   "id": "entitled-colony",
   "metadata": {},
   "outputs": [
    {
     "data": {
      "text/html": [
       "<div>\n",
       "<style scoped>\n",
       "    .dataframe tbody tr th:only-of-type {\n",
       "        vertical-align: middle;\n",
       "    }\n",
       "\n",
       "    .dataframe tbody tr th {\n",
       "        vertical-align: top;\n",
       "    }\n",
       "\n",
       "    .dataframe thead th {\n",
       "        text-align: right;\n",
       "    }\n",
       "</style>\n",
       "<table border=\"1\" class=\"dataframe\">\n",
       "  <thead>\n",
       "    <tr style=\"text-align: right;\">\n",
       "      <th></th>\n",
       "      <th>tweet</th>\n",
       "      <th>trump</th>\n",
       "      <th>biden</th>\n",
       "    </tr>\n",
       "  </thead>\n",
       "  <tbody>\n",
       "    <tr>\n",
       "      <th>0</th>\n",
       "      <td>plenty of results for  trumpcrimefamily and ...</td>\n",
       "      <td>1</td>\n",
       "      <td>1</td>\n",
       "    </tr>\n",
       "    <tr>\n",
       "      <th>1</th>\n",
       "      <td>he left washington before impeachment</td>\n",
       "      <td>0</td>\n",
       "      <td>1</td>\n",
       "    </tr>\n",
       "    <tr>\n",
       "      <th>2</th>\n",
       "      <td>inside a biden v  trump marriage   you woke me...</td>\n",
       "      <td>1</td>\n",
       "      <td>1</td>\n",
       "    </tr>\n",
       "  </tbody>\n",
       "</table>\n",
       "</div>"
      ],
      "text/plain": [
       "                                               tweet  trump  biden\n",
       "0    plenty of results for  trumpcrimefamily and ...      1      1\n",
       "1             he left washington before impeachment       0      1\n",
       "2  inside a biden v  trump marriage   you woke me...      1      1"
      ]
     },
     "execution_count": 10,
     "metadata": {},
     "output_type": "execute_result"
    }
   ],
   "source": [
    "data.head(3)"
   ]
  },
  {
   "cell_type": "code",
   "execution_count": 11,
   "id": "subjective-proportion",
   "metadata": {},
   "outputs": [],
   "source": [
    "# remove tweets in which trump and biden are both named\n",
    "mask = (data.trump==1) & (data.biden==1)\n",
    "data = data[mask]"
   ]
  },
  {
   "cell_type": "markdown",
   "id": "israeli-nitrogen",
   "metadata": {},
   "source": [
    "## spaCy"
   ]
  },
  {
   "cell_type": "code",
   "execution_count": 13,
   "id": "manufactured-conservative",
   "metadata": {},
   "outputs": [],
   "source": [
    "import spacy\n",
    "nlp = spacy.load('en_core_web_sm')"
   ]
  },
  {
   "cell_type": "code",
   "execution_count": 14,
   "id": "imposed-poultry",
   "metadata": {},
   "outputs": [
    {
     "data": {
      "text/plain": [
       "'all of you are the worst sort of faux  journalists    biased to the point of bigoted and totally in the tank for biden   if you had a shred of integrity you would look at the bobulinski allegations   but you don t   a deplorable phd      trump  '"
      ]
     },
     "execution_count": 14,
     "metadata": {},
     "output_type": "execute_result"
    }
   ],
   "source": [
    "data.tweet.iloc[15]"
   ]
  },
  {
   "cell_type": "code",
   "execution_count": null,
   "id": "better-endorsement",
   "metadata": {},
   "outputs": [],
   "source": []
  },
  {
   "cell_type": "code",
   "execution_count": null,
   "id": "classical-devon",
   "metadata": {},
   "outputs": [],
   "source": []
  },
  {
   "cell_type": "code",
   "execution_count": null,
   "id": "functioning-brief",
   "metadata": {},
   "outputs": [],
   "source": []
  },
  {
   "cell_type": "code",
   "execution_count": null,
   "id": "enabling-architect",
   "metadata": {},
   "outputs": [],
   "source": []
  },
  {
   "cell_type": "code",
   "execution_count": null,
   "id": "loved-compromise",
   "metadata": {},
   "outputs": [],
   "source": []
  },
  {
   "cell_type": "code",
   "execution_count": null,
   "id": "light-morocco",
   "metadata": {},
   "outputs": [],
   "source": []
  },
  {
   "cell_type": "code",
   "execution_count": null,
   "id": "economic-liberia",
   "metadata": {},
   "outputs": [],
   "source": []
  },
  {
   "cell_type": "code",
   "execution_count": null,
   "id": "impressed-reading",
   "metadata": {},
   "outputs": [],
   "source": []
  },
  {
   "cell_type": "code",
   "execution_count": null,
   "id": "confident-asbestos",
   "metadata": {},
   "outputs": [],
   "source": []
  },
  {
   "cell_type": "code",
   "execution_count": null,
   "id": "funky-telescope",
   "metadata": {},
   "outputs": [],
   "source": []
  },
  {
   "cell_type": "code",
   "execution_count": null,
   "id": "judicial-southeast",
   "metadata": {},
   "outputs": [],
   "source": []
  },
  {
   "cell_type": "code",
   "execution_count": null,
   "id": "appointed-analyst",
   "metadata": {},
   "outputs": [],
   "source": []
  },
  {
   "cell_type": "markdown",
   "id": "worthy-doctor",
   "metadata": {},
   "source": [
    "## NLTK Tweet Tokenizer"
   ]
  },
  {
   "cell_type": "code",
   "execution_count": null,
   "id": "fifth-discretion",
   "metadata": {},
   "outputs": [],
   "source": [
    "mask = (df.trump == 0) & (df.biden == 1)\n",
    "biden_tweets = df[mask]['tweet']\n",
    "\n",
    "mask = (df.trump == 1) & (df.biden == 0)\n",
    "trump_tweets = df[mask]['tweet']\n"
   ]
  },
  {
   "cell_type": "code",
   "execution_count": null,
   "id": "portuguese-warren",
   "metadata": {},
   "outputs": [],
   "source": [
    "trump_tweets.shape"
   ]
  },
  {
   "cell_type": "code",
   "execution_count": null,
   "id": "stuffed-somerset",
   "metadata": {},
   "outputs": [],
   "source": [
    "biden_tweets.shape"
   ]
  },
  {
   "cell_type": "code",
   "execution_count": null,
   "id": "median-deployment",
   "metadata": {},
   "outputs": [],
   "source": [
    "biden_tweets = biden_tweets[:500]\n",
    "trump_tweets = trump_tweets[:500]"
   ]
  },
  {
   "cell_type": "code",
   "execution_count": null,
   "id": "advised-ground",
   "metadata": {},
   "outputs": [],
   "source": []
  },
  {
   "cell_type": "code",
   "execution_count": null,
   "id": "broke-minister",
   "metadata": {},
   "outputs": [],
   "source": [
    "trump_tweets.head(4)"
   ]
  },
  {
   "cell_type": "code",
   "execution_count": null,
   "id": "fifteen-ordinance",
   "metadata": {},
   "outputs": [],
   "source": [
    "biden_tweets.head(4)"
   ]
  },
  {
   "cell_type": "code",
   "execution_count": null,
   "id": "sound-lambda",
   "metadata": {},
   "outputs": [],
   "source": [
    "puncs = [c for c in string.punctuation if c not in [\"#\", \":\"]]\n",
    "print(puncs)"
   ]
  },
  {
   "cell_type": "code",
   "execution_count": null,
   "id": "white-flashing",
   "metadata": {},
   "outputs": [],
   "source": [
    "def tweet_tokenize(tweets):\n",
    "    \"\"\"Get all of the tokens in a set of tweets\"\"\"\n",
    "    twt = nltk.tokenize.TweetTokenizer(strip_handles=True, reduce_len=True)\n",
    "    tokens = [token for tweet in tweets for token in twt.tokenize(tweet)]\n",
    "    # combine stop words and punctuation\n",
    "    puncs = [c for c in string.punctuation if c not in [\"#\", \":\"]]\n",
    "    stop = stopwords.words(\"english\") + puncs + ['”']\n",
    "    stemmer = PorterStemmer()\n",
    "    tokens = [ stemmer.stem(token) for tweet in tweets\n",
    "              for token in twt.tokenize(tweet)\n",
    "              if token.lower() not in stop]\n",
    "\n",
    "    \n",
    "    \n",
    "    return tokens"
   ]
  },
  {
   "cell_type": "code",
   "execution_count": null,
   "id": "likely-burning",
   "metadata": {},
   "outputs": [],
   "source": [
    "%%time\n",
    "trump_tokens = tweet_tokenize(trump_tweets)"
   ]
  },
  {
   "cell_type": "code",
   "execution_count": null,
   "id": "complicated-utility",
   "metadata": {},
   "outputs": [],
   "source": [
    "%%time\n",
    "biden_tokens = tweet_tokenize(biden_tweets)"
   ]
  },
  {
   "cell_type": "code",
   "execution_count": null,
   "id": "first-canadian",
   "metadata": {},
   "outputs": [],
   "source": [
    "%%time\n",
    "trump_count = Counter(trump_tokens)"
   ]
  },
  {
   "cell_type": "code",
   "execution_count": null,
   "id": "accessible-shore",
   "metadata": {},
   "outputs": [],
   "source": [
    "%%time\n",
    "biden_count = Counter(biden_tokens)"
   ]
  },
  {
   "cell_type": "code",
   "execution_count": null,
   "id": "existing-understanding",
   "metadata": {},
   "outputs": [],
   "source": [
    "trump_count.most_common(20)"
   ]
  },
  {
   "cell_type": "code",
   "execution_count": null,
   "id": "multiple-bottom",
   "metadata": {},
   "outputs": [],
   "source": [
    "biden_count.most_common(20)"
   ]
  },
  {
   "cell_type": "code",
   "execution_count": null,
   "id": "harmful-state",
   "metadata": {},
   "outputs": [],
   "source": [
    "len(biden_tokens)"
   ]
  },
  {
   "cell_type": "code",
   "execution_count": null,
   "id": "successful-shore",
   "metadata": {},
   "outputs": [],
   "source": [
    "trump_tokens[:50]"
   ]
  },
  {
   "cell_type": "markdown",
   "id": "aquatic-preliminary",
   "metadata": {},
   "source": [
    "Nice. Now we need to get these back into string form, and send them through a vectorizer."
   ]
  },
  {
   "cell_type": "code",
   "execution_count": null,
   "id": "civilian-opposition",
   "metadata": {},
   "outputs": [],
   "source": [
    "tmp = (' ').join(biden_count)\n",
    "type(tmp)"
   ]
  },
  {
   "cell_type": "markdown",
   "id": "changing-animal",
   "metadata": {},
   "source": [
    "## NMF"
   ]
  },
  {
   "cell_type": "code",
   "execution_count": null,
   "id": "interesting-original",
   "metadata": {},
   "outputs": [],
   "source": [
    "vectorizer = CountVectorizer(stop_words='english', max_df=0.075)"
   ]
  },
  {
   "cell_type": "code",
   "execution_count": null,
   "id": "imperial-detroit",
   "metadata": {},
   "outputs": [],
   "source": [
    "doc_word = vectorizer.fit_transform()"
   ]
  },
  {
   "cell_type": "code",
   "execution_count": null,
   "id": "collected-mercury",
   "metadata": {},
   "outputs": [],
   "source": [
    "biden_tweets.fileids()"
   ]
  },
  {
   "cell_type": "code",
   "execution_count": null,
   "id": "seasonal-watershed",
   "metadata": {},
   "outputs": [],
   "source": []
  }
 ],
 "metadata": {
  "kernelspec": {
   "display_name": "Python 3",
   "language": "python",
   "name": "python3"
  },
  "language_info": {
   "codemirror_mode": {
    "name": "ipython",
    "version": 3
   },
   "file_extension": ".py",
   "mimetype": "text/x-python",
   "name": "python",
   "nbconvert_exporter": "python",
   "pygments_lexer": "ipython3",
   "version": "3.8.6"
  }
 },
 "nbformat": 4,
 "nbformat_minor": 5
}
