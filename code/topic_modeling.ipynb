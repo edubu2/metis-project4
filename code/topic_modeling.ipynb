{
 "cells": [
  {
   "cell_type": "code",
   "execution_count": 1,
   "id": "authorized-berlin",
   "metadata": {},
   "outputs": [],
   "source": [
    "import pickle\n",
    "\n",
    "import pandas as pd\n",
    "import numpy as np\n",
    "\n",
    "from sklearn.feature_extraction.text import CountVectorizer, TfidfVectorizer\n",
    "from sklearn.model_selection import train_test_split\n",
    "from sklearn.decomposition import NMF, LatentDirichletAllocation\n",
    "\n",
    "from vaderSentiment.vaderSentiment import SentimentIntensityAnalyzer"
   ]
  },
  {
   "cell_type": "code",
   "execution_count": 2,
   "id": "integral-rebate",
   "metadata": {},
   "outputs": [],
   "source": [
    "pd.set_option('display.max_rows', 10)\n",
    "pd.set_option('display.max_columns', 40)\n",
    "pd.set_option('display.max_colwidth', None)"
   ]
  },
  {
   "cell_type": "code",
   "execution_count": 3,
   "id": "casual-delay",
   "metadata": {},
   "outputs": [],
   "source": [
    "data = pd.read_pickle(\"pickle/n2_tokenized.pick\")"
   ]
  },
  {
   "cell_type": "code",
   "execution_count": 4,
   "id": "egyptian-surface",
   "metadata": {},
   "outputs": [
    {
     "data": {
      "text/html": [
       "<div>\n",
       "<style scoped>\n",
       "    .dataframe tbody tr th:only-of-type {\n",
       "        vertical-align: middle;\n",
       "    }\n",
       "\n",
       "    .dataframe tbody tr th {\n",
       "        vertical-align: top;\n",
       "    }\n",
       "\n",
       "    .dataframe thead th {\n",
       "        text-align: right;\n",
       "    }\n",
       "</style>\n",
       "<table border=\"1\" class=\"dataframe\">\n",
       "  <thead>\n",
       "    <tr style=\"text-align: right;\">\n",
       "      <th></th>\n",
       "      <th>trump</th>\n",
       "      <th>biden</th>\n",
       "      <th>hashtags</th>\n",
       "      <th>user_id</th>\n",
       "      <th>original</th>\n",
       "      <th>tweet</th>\n",
       "    </tr>\n",
       "  </thead>\n",
       "  <tbody>\n",
       "    <tr>\n",
       "      <th>46715</th>\n",
       "      <td>False</td>\n",
       "      <td>True</td>\n",
       "      <td>[]</td>\n",
       "      <td>114111998</td>\n",
       "      <td>@rebeccabardess @ActiveHomeRenew @FI_Playbook @ProjectLincoln And I agree!   They are pulling in a chaotic element, I know the dems cast a wide net, and I get they need all the votes they can take.  But they're kinda letting a poison in, Biden wanting Kasich and Cindy McCain into his cabinet?  Kasich is...  https://t.co/KM2wfdsOnS</td>\n",
       "      <td>agree chaotic element cast wide net need take theyre poison joe_biden wanting cabinet</td>\n",
       "    </tr>\n",
       "    <tr>\n",
       "      <th>39203</th>\n",
       "      <td>False</td>\n",
       "      <td>True</td>\n",
       "      <td>[]</td>\n",
       "      <td>254854633</td>\n",
       "      <td>It’s so hard seeing really compassionate really intelligent people who I used to view as mentors singing Biden’s praises. Like Honors College professors I still love with my whole heart.</td>\n",
       "      <td>hard seeing really compassionate really intelligent people used view singing joe_biden like college still love whole heart</td>\n",
       "    </tr>\n",
       "    <tr>\n",
       "      <th>81267</th>\n",
       "      <td>True</td>\n",
       "      <td>False</td>\n",
       "      <td>[]</td>\n",
       "      <td>79810128</td>\n",
       "      <td>@marklevinshow What is the matter with you, Levin? You used to be a man of truth, but you self immolated because of Trump. I will never understand what you and Limbaugh have done for him.</td>\n",
       "      <td>matter levin used man truth self donald_trump never understand done</td>\n",
       "    </tr>\n",
       "  </tbody>\n",
       "</table>\n",
       "</div>"
      ],
      "text/plain": [
       "       trump  biden hashtags    user_id  \\\n",
       "46715  False   True       []  114111998   \n",
       "39203  False   True       []  254854633   \n",
       "81267   True  False       []   79810128   \n",
       "\n",
       "                                                                                                                                                                                                                                                                                                                                           original  \\\n",
       "46715  @rebeccabardess @ActiveHomeRenew @FI_Playbook @ProjectLincoln And I agree!   They are pulling in a chaotic element, I know the dems cast a wide net, and I get they need all the votes they can take.  But they're kinda letting a poison in, Biden wanting Kasich and Cindy McCain into his cabinet?  Kasich is...  https://t.co/KM2wfdsOnS   \n",
       "39203                                                                                                                                                    It’s so hard seeing really compassionate really intelligent people who I used to view as mentors singing Biden’s praises. Like Honors College professors I still love with my whole heart.   \n",
       "81267                                                                                                                                                   @marklevinshow What is the matter with you, Levin? You used to be a man of truth, but you self immolated because of Trump. I will never understand what you and Limbaugh have done for him.   \n",
       "\n",
       "                                                                                                                            tweet  \n",
       "46715                                       agree chaotic element cast wide net need take theyre poison joe_biden wanting cabinet  \n",
       "39203  hard seeing really compassionate really intelligent people used view singing joe_biden like college still love whole heart  \n",
       "81267                                                         matter levin used man truth self donald_trump never understand done  "
      ]
     },
     "execution_count": 4,
     "metadata": {},
     "output_type": "execute_result"
    }
   ],
   "source": [
    "data.sample(3)"
   ]
  },
  {
   "cell_type": "markdown",
   "id": "linear-origin",
   "metadata": {},
   "source": [
    "## TF/IDF Vectorizer\n",
    "\n"
   ]
  },
  {
   "cell_type": "code",
   "execution_count": 29,
   "id": "appointed-graph",
   "metadata": {},
   "outputs": [],
   "source": [
    "stop_words = [\n",
    "    'people',\n",
    "    'like',\n",
    "    'even',\n",
    "    'need',\n",
    "    'said',\n",
    "    'see',\n",
    "    'let',\n",
    "    'day',\n",
    "    'today',\n",
    "    'tomorrow',\n",
    "    'ask',\n",
    "    'look',\n",
    "    'people',\n",
    "    'tony',\n",
    "    'someone',\n",
    "    'really',\n",
    "    'say',\n",
    "    'way',\n",
    "    'pa',\n",
    "    'everyone',\n",
    "    'run',\n",
    "    'state',\n",
    "    'person',\n",
    "    'make',\n",
    "    'much',\n",
    "    'gave',\n",
    "    'still',\n",
    "    'could',\n",
    "    'right',\n",
    "    'highest',\n",
    "    'total',\n",
    "    'went',\n",
    "    'instead',\n",
    "    'take',\n",
    "    'better',\n",
    "    'also',\n",
    "    'well',\n",
    "    'thing',\n",
    "    'good',\n",
    "    'never',\n",
    "    'new',\n",
    "    'york',\n",
    "    'done',\n",
    "    'back',\n",
    "    'made',\n",
    "    'show',\n",
    "    'nothing',\n",
    "    'come',\n",
    "    'simple',\n",
    "    'support',\n",
    "    'thats',\n",
    "    'quite',\n",
    "    'entire',\n",
    "    'every',\n",
    "    'many',\n",
    "    'count',\n",
    "    'election',\n",
    "    'night',\n",
    "    'bring',\n",
    "    'thank',\n",
    "    'president',\n",
    "    'country',\n",
    "    'please',\n",
    "    'city',\n",
    "    'michigan',\n",
    "    'traverse'\n",
    "]"
   ]
  },
  {
   "cell_type": "code",
   "execution_count": 30,
   "id": "conventional-official",
   "metadata": {},
   "outputs": [],
   "source": [
    "v_tfidf = TfidfVectorizer(max_df=0.2, stop_words=stop_words)\n",
    "doc_word_ti = v_tfidf.fit_transform(data.tweet)"
   ]
  },
  {
   "cell_type": "markdown",
   "id": "fatal-reliance",
   "metadata": {},
   "source": [
    "## NMF"
   ]
  },
  {
   "cell_type": "code",
   "execution_count": 31,
   "id": "instructional-cooking",
   "metadata": {},
   "outputs": [
    {
     "name": "stdout",
     "output_type": "stream",
     "text": [
      "Shape: (46159, 10)\n",
      "Number of iterations used: 43\n"
     ]
    }
   ],
   "source": [
    "nmf_model = NMF(n_components=10, max_iter=500, init='nndsvd')\n",
    "doc_topic = nmf_model.fit_transform(doc_word_ti)\n",
    "print(f\"Shape: {doc_topic.shape}\")\n",
    "print(f\"Number of iterations used: {nmf_model.n_iter_}\")\n",
    "\n"
   ]
  },
  {
   "cell_type": "markdown",
   "id": "direct-matter",
   "metadata": {},
   "source": [
    "From lecture: The **doc_topic** matrix shows us the documents we started with, and how each document is made up of the 2 resulting topics. We don't know yet what the topics are."
   ]
  },
  {
   "cell_type": "markdown",
   "id": "central-commonwealth",
   "metadata": {},
   "source": [
    "From lecture: The **topic_word** matrix shows us the 2 resulting topics, and the terms that are associated with each topic. By looking at the words below, we an figure out what the topics are.\n"
   ]
  },
  {
   "cell_type": "code",
   "execution_count": 32,
   "id": "surface-lodge",
   "metadata": {},
   "outputs": [
    {
     "data": {
      "text/plain": [
       "[['vote',\n",
       "  'blue',\n",
       "  'change',\n",
       "  'popular',\n",
       "  'red',\n",
       "  'fame',\n",
       "  'famous',\n",
       "  'bidenharris',\n",
       "  'lady'],\n",
       " ['man',\n",
       "  'world',\n",
       "  'trying',\n",
       "  'believe',\n",
       "  'care',\n",
       "  'ever',\n",
       "  'last',\n",
       "  'party',\n",
       "  'love'],\n",
       " ['covid',\n",
       "  'exceed',\n",
       "  'combined',\n",
       "  'war',\n",
       "  'badly',\n",
       "  'losing',\n",
       "  'foreign',\n",
       "  'death',\n",
       "  'locked'],\n",
       " ['china',\n",
       "  'million',\n",
       "  'swindling',\n",
       "  'evidence',\n",
       "  'breaking',\n",
       "  'xi',\n",
       "  'russia',\n",
       "  'communist',\n",
       "  'usa'],\n",
       " ['win',\n",
       "  'electoral',\n",
       "  'college',\n",
       "  'popular',\n",
       "  'lose',\n",
       "  'landslide',\n",
       "  'big',\n",
       "  'hope',\n",
       "  'chance'],\n",
       " ['voting',\n",
       "  'terrible',\n",
       "  'problem',\n",
       "  'son',\n",
       "  'account',\n",
       "  'accumulate',\n",
       "  'father',\n",
       "  'wise',\n",
       "  'daddy'],\n",
       " ['white',\n",
       "  'house',\n",
       "  'around',\n",
       "  'black',\n",
       "  'racist',\n",
       "  'united',\n",
       "  'evict',\n",
       "  'loser',\n",
       "  'disseminate'],\n",
       " ['kamala_harris',\n",
       "  'hope',\n",
       "  'terrible',\n",
       "  'vice',\n",
       "  'united',\n",
       "  'joe',\n",
       "  'elect',\n",
       "  'son',\n",
       "  'father'],\n",
       " ['national',\n",
       "  'pretty',\n",
       "  'scale',\n",
       "  'currently',\n",
       "  'debt',\n",
       "  'history',\n",
       "  'worst',\n",
       "  'modern',\n",
       "  'least'],\n",
       " ['rally',\n",
       "  'watch',\n",
       "  'live',\n",
       "  'maga',\n",
       "  'campaign',\n",
       "  'mi',\n",
       "  'supporter',\n",
       "  'political',\n",
       "  'caught']]"
      ]
     },
     "execution_count": 32,
     "metadata": {},
     "output_type": "execute_result"
    }
   ],
   "source": [
    "words = v_tfidf.get_feature_names()\n",
    "t = nmf_model.components_.argsort(axis=1)[:,-1:-10:-1]\n",
    "topic_words = [[words[e] for e in l] for l in t]\n",
    "topic_words"
   ]
  },
  {
   "cell_type": "code",
   "execution_count": 33,
   "id": "casual-rapid",
   "metadata": {},
   "outputs": [
    {
     "data": {
      "text/plain": [
       "array([[0.        , 0.00074683, 0.0013498 , ..., 0.        , 0.        ,\n",
       "        0.        ],\n",
       "       [0.00199609, 0.        , 0.00397857, ..., 0.        , 0.00041632,\n",
       "        0.        ],\n",
       "       [0.        , 0.        , 0.        , ..., 0.        , 0.        ,\n",
       "        0.        ],\n",
       "       ...,\n",
       "       [0.        , 0.        , 0.        , ..., 0.        , 0.        ,\n",
       "        0.        ],\n",
       "       [0.        , 0.00159712, 0.00089953, ..., 0.        , 0.        ,\n",
       "        0.        ],\n",
       "       [0.        , 0.        , 0.00436477, ..., 0.        , 0.01065002,\n",
       "        0.06456401]])"
      ]
     },
     "execution_count": 33,
     "metadata": {},
     "output_type": "execute_result"
    }
   ],
   "source": [
    "nmf_model.components_"
   ]
  },
  {
   "cell_type": "code",
   "execution_count": 34,
   "id": "looking-chick",
   "metadata": {},
   "outputs": [
    {
     "data": {
      "text/plain": [
       "array([[2.61936970e-02, 1.64250000e-02, 0.00000000e+00, ...,\n",
       "        0.00000000e+00, 9.00551581e-04, 0.00000000e+00],\n",
       "       [2.25302073e-03, 1.26445181e-02, 4.60508835e-05, ...,\n",
       "        9.57676137e-05, 0.00000000e+00, 2.77774346e-03],\n",
       "       [0.00000000e+00, 8.32593281e-03, 0.00000000e+00, ...,\n",
       "        2.56043932e-03, 4.28948979e-03, 4.74049488e-03],\n",
       "       ...,\n",
       "       [3.77743587e-02, 2.47412607e-02, 0.00000000e+00, ...,\n",
       "        0.00000000e+00, 1.88910194e-03, 0.00000000e+00],\n",
       "       [0.00000000e+00, 1.20110895e-02, 0.00000000e+00, ...,\n",
       "        3.08801237e-03, 2.00323496e-04, 6.72587954e-03],\n",
       "       [9.43072050e-04, 1.47143549e-02, 0.00000000e+00, ...,\n",
       "        0.00000000e+00, 0.00000000e+00, 3.35364303e-04]])"
      ]
     },
     "execution_count": 34,
     "metadata": {},
     "output_type": "execute_result"
    }
   ],
   "source": [
    "doc_topic"
   ]
  },
  {
   "cell_type": "markdown",
   "id": "opponent-channel",
   "metadata": {},
   "source": [
    "## LDA"
   ]
  },
  {
   "cell_type": "code",
   "execution_count": null,
   "id": "separate-depression",
   "metadata": {},
   "outputs": [],
   "source": [
    "lda_model = LatentDirichletAllocation(n_components=5)\n",
    "doc_topic = lda_model.fit_transform(doc_word_ti)\n",
    "doc_topic.shape"
   ]
  },
  {
   "cell_type": "code",
   "execution_count": null,
   "id": "criminal-abortion",
   "metadata": {},
   "outputs": [],
   "source": [
    "words = cv.get_feature_names()\n",
    "t = lda_model.components_.argsort(axis=1)[:,-1:-7:-1]\n",
    "topic_words = [[words[e] for e in l] for l in t]\n",
    "topic_words"
   ]
  },
  {
   "cell_type": "code",
   "execution_count": null,
   "id": "musical-donna",
   "metadata": {},
   "outputs": [],
   "source": []
  },
  {
   "cell_type": "markdown",
   "id": "unlikely-kingston",
   "metadata": {},
   "source": [
    "## Sentiment Analysis"
   ]
  },
  {
   "cell_type": "code",
   "execution_count": null,
   "id": "impressed-importance",
   "metadata": {},
   "outputs": [],
   "source": [
    "from vaderSentiment.vaderSentiment import SentimentIntensityAnalyzer "
   ]
  },
  {
   "cell_type": "code",
   "execution_count": null,
   "id": "little-imaging",
   "metadata": {},
   "outputs": [],
   "source": [
    "sid_obj = SentimentIntensityAnalyzer()\n",
    "sentiment = []\n",
    "for text in data.tweet:\n",
    "    sentiment.append(sid_obj.polarity_scores(text))\n",
    "    \n",
    "pd.concat([data,pd.DataFrame(sentiment)], axis=1)"
   ]
  },
  {
   "cell_type": "code",
   "execution_count": null,
   "id": "changing-dollar",
   "metadata": {},
   "outputs": [],
   "source": []
  },
  {
   "cell_type": "code",
   "execution_count": null,
   "id": "quiet-seller",
   "metadata": {},
   "outputs": [],
   "source": []
  },
  {
   "cell_type": "code",
   "execution_count": null,
   "id": "functioning-binary",
   "metadata": {},
   "outputs": [],
   "source": []
  },
  {
   "cell_type": "code",
   "execution_count": null,
   "id": "respected-louis",
   "metadata": {},
   "outputs": [],
   "source": []
  }
 ],
 "metadata": {
  "kernelspec": {
   "display_name": "Python 3",
   "language": "python",
   "name": "python3"
  },
  "language_info": {
   "codemirror_mode": {
    "name": "ipython",
    "version": 3
   },
   "file_extension": ".py",
   "mimetype": "text/x-python",
   "name": "python",
   "nbconvert_exporter": "python",
   "pygments_lexer": "ipython3",
   "version": "3.7.9"
  }
 },
 "nbformat": 4,
 "nbformat_minor": 5
}
