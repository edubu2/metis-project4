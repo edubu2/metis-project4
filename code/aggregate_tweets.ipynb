{
 "cells": [
  {
   "cell_type": "code",
   "execution_count": 1,
   "id": "medical-iraqi",
   "metadata": {},
   "outputs": [],
   "source": [
    "import pandas as pd\n",
    "import datetime as dt\n",
    "import os"
   ]
  },
  {
   "cell_type": "code",
   "execution_count": 2,
   "id": "arabic-writing",
   "metadata": {},
   "outputs": [
    {
     "name": "stdout",
     "output_type": "stream",
     "text": [
      "(1002367, 7)\n",
      "(903431, 7)\n"
     ]
    }
   ],
   "source": [
    "drop_cols = ['replies_count', 'retweets_count', 'likes_count', 'cashtags', 'conversation_id',\n",
    "            'language', 'mentions', 'urls', 'photos', 'quote_url' ,'video' ,'thumbnail' ,'near',\n",
    "            'geo', 'source', 'user_rt_id', 'retweet_id', 'reply_to', 'retweet_date', 'created_at',\n",
    "            'translate', 'trans_src', 'trans_dest', 'place', 'name', 'timezone', 'user_rt', 'link', 'retweet']\n",
    "\n",
    "parse_dates=['date']\n",
    "dtypes={'id': 'str', 'date':'str', 'user_id':'str', 'username':'str', 'hashtags':'str', 'tweet':'str'}\n",
    "\n",
    "dfs = []\n",
    "for file in os.listdir('../data/tweets/'):\n",
    "    if file[0] == '.':\n",
    "        continue\n",
    "    tmp = pd.read_csv('../data/tweets/' + file, parse_dates=parse_dates, low_memory=False, dtype=dtypes).drop(columns=drop_cols)\n",
    "    tmp.drop_duplicates(subset='tweet', inplace=True)\n",
    "    dfs.append(tmp)\n",
    "\n",
    "\n",
    "df = pd.concat(dfs, ignore_index=True)\n",
    "print(df.shape)\n",
    "df.drop_duplicates(inplace=True)\n",
    "print(df.shape)\n",
    "    "
   ]
  },
  {
   "cell_type": "code",
   "execution_count": 3,
   "id": "interpreted-guard",
   "metadata": {},
   "outputs": [
    {
     "data": {
      "text/html": [
       "<div>\n",
       "<style scoped>\n",
       "    .dataframe tbody tr th:only-of-type {\n",
       "        vertical-align: middle;\n",
       "    }\n",
       "\n",
       "    .dataframe tbody tr th {\n",
       "        vertical-align: top;\n",
       "    }\n",
       "\n",
       "    .dataframe thead th {\n",
       "        text-align: right;\n",
       "    }\n",
       "</style>\n",
       "<table border=\"1\" class=\"dataframe\">\n",
       "  <thead>\n",
       "    <tr style=\"text-align: right;\">\n",
       "      <th></th>\n",
       "      <th>id</th>\n",
       "      <th>date</th>\n",
       "      <th>time</th>\n",
       "      <th>user_id</th>\n",
       "      <th>username</th>\n",
       "      <th>tweet</th>\n",
       "      <th>hashtags</th>\n",
       "    </tr>\n",
       "  </thead>\n",
       "  <tbody>\n",
       "    <tr>\n",
       "      <th>0</th>\n",
       "      <td>1313630113934737411</td>\n",
       "      <td>2020-10-06</td>\n",
       "      <td>23:59:59</td>\n",
       "      <td>481962653</td>\n",
       "      <td>sully_lilly</td>\n",
       "      <td>@JoeBiden 47 years and now you are ready to do...</td>\n",
       "      <td>['draintheswamp']</td>\n",
       "    </tr>\n",
       "    <tr>\n",
       "      <th>1</th>\n",
       "      <td>1313630113821581312</td>\n",
       "      <td>2020-10-06</td>\n",
       "      <td>23:59:59</td>\n",
       "      <td>1299543389092884480</td>\n",
       "      <td>nutzwhat</td>\n",
       "      <td>@Astraea_Muse @DontBanMeBro7 @RonColeman @JoeB...</td>\n",
       "      <td>[]</td>\n",
       "    </tr>\n",
       "    <tr>\n",
       "      <th>2</th>\n",
       "      <td>1313630112789803011</td>\n",
       "      <td>2020-10-06</td>\n",
       "      <td>23:59:59</td>\n",
       "      <td>1156541146287542272</td>\n",
       "      <td>carolwo53195499</td>\n",
       "      <td>@ElTomatill0 @jimsciutto @JoeBiden He has said...</td>\n",
       "      <td>[]</td>\n",
       "    </tr>\n",
       "    <tr>\n",
       "      <th>3</th>\n",
       "      <td>1313630112609456128</td>\n",
       "      <td>2020-10-06</td>\n",
       "      <td>23:59:59</td>\n",
       "      <td>141645754</td>\n",
       "      <td>davidkgather</td>\n",
       "      <td>LIVE: “Battle for the Soul of the Nation”- Joe...</td>\n",
       "      <td>[]</td>\n",
       "    </tr>\n",
       "    <tr>\n",
       "      <th>4</th>\n",
       "      <td>1313630112500326404</td>\n",
       "      <td>2020-10-06</td>\n",
       "      <td>23:59:59</td>\n",
       "      <td>5510112</td>\n",
       "      <td>spaceweasel</td>\n",
       "      <td>Biden raises eyebrows after telling 'these bea...</td>\n",
       "      <td>[]</td>\n",
       "    </tr>\n",
       "    <tr>\n",
       "      <th>...</th>\n",
       "      <td>...</td>\n",
       "      <td>...</td>\n",
       "      <td>...</td>\n",
       "      <td>...</td>\n",
       "      <td>...</td>\n",
       "      <td>...</td>\n",
       "      <td>...</td>\n",
       "    </tr>\n",
       "    <tr>\n",
       "      <th>1002362</th>\n",
       "      <td>1323046705575665666</td>\n",
       "      <td>2020-11-01</td>\n",
       "      <td>23:38:10</td>\n",
       "      <td>118488849</td>\n",
       "      <td>nicolaevna</td>\n",
       "      <td>@bdelamaza Si EEUU cae en las garras del globa...</td>\n",
       "      <td>[]</td>\n",
       "    </tr>\n",
       "    <tr>\n",
       "      <th>1002363</th>\n",
       "      <td>1323046704292286471</td>\n",
       "      <td>2020-11-01</td>\n",
       "      <td>23:38:09</td>\n",
       "      <td>2462576047</td>\n",
       "      <td>giselargg</td>\n",
       "      <td>@JoeBiden Good luck, mr. Biden 🇲🇽</td>\n",
       "      <td>[]</td>\n",
       "    </tr>\n",
       "    <tr>\n",
       "      <th>1002364</th>\n",
       "      <td>1323046703101059072</td>\n",
       "      <td>2020-11-01</td>\n",
       "      <td>23:38:09</td>\n",
       "      <td>1045846521407770624</td>\n",
       "      <td>knut_koch</td>\n",
       "      <td>Hunter Biden pic and videos have been upload o...</td>\n",
       "      <td>['trump2020', 'biden2020', 'scandal', 'fakemed...</td>\n",
       "    </tr>\n",
       "    <tr>\n",
       "      <th>1002365</th>\n",
       "      <td>1323046703063273476</td>\n",
       "      <td>2020-11-01</td>\n",
       "      <td>23:38:09</td>\n",
       "      <td>1094567855742509057</td>\n",
       "      <td>leplumba</td>\n",
       "      <td>@JoeBiden You will fight for the swamp creatur...</td>\n",
       "      <td>['bidencrimefamiilyexposed', 'laptopfromhell',...</td>\n",
       "    </tr>\n",
       "    <tr>\n",
       "      <th>1002366</th>\n",
       "      <td>1323046702777921537</td>\n",
       "      <td>2020-11-01</td>\n",
       "      <td>23:38:09</td>\n",
       "      <td>127591519</td>\n",
       "      <td>chapman8tor</td>\n",
       "      <td>FBI investigating alleged harassment  by of Bi...</td>\n",
       "      <td>[]</td>\n",
       "    </tr>\n",
       "  </tbody>\n",
       "</table>\n",
       "<p>903431 rows × 7 columns</p>\n",
       "</div>"
      ],
      "text/plain": [
       "                          id       date      time              user_id  \\\n",
       "0        1313630113934737411 2020-10-06  23:59:59            481962653   \n",
       "1        1313630113821581312 2020-10-06  23:59:59  1299543389092884480   \n",
       "2        1313630112789803011 2020-10-06  23:59:59  1156541146287542272   \n",
       "3        1313630112609456128 2020-10-06  23:59:59            141645754   \n",
       "4        1313630112500326404 2020-10-06  23:59:59              5510112   \n",
       "...                      ...        ...       ...                  ...   \n",
       "1002362  1323046705575665666 2020-11-01  23:38:10            118488849   \n",
       "1002363  1323046704292286471 2020-11-01  23:38:09           2462576047   \n",
       "1002364  1323046703101059072 2020-11-01  23:38:09  1045846521407770624   \n",
       "1002365  1323046703063273476 2020-11-01  23:38:09  1094567855742509057   \n",
       "1002366  1323046702777921537 2020-11-01  23:38:09            127591519   \n",
       "\n",
       "                username                                              tweet  \\\n",
       "0            sully_lilly  @JoeBiden 47 years and now you are ready to do...   \n",
       "1               nutzwhat  @Astraea_Muse @DontBanMeBro7 @RonColeman @JoeB...   \n",
       "2        carolwo53195499  @ElTomatill0 @jimsciutto @JoeBiden He has said...   \n",
       "3           davidkgather  LIVE: “Battle for the Soul of the Nation”- Joe...   \n",
       "4            spaceweasel  Biden raises eyebrows after telling 'these bea...   \n",
       "...                  ...                                                ...   \n",
       "1002362       nicolaevna  @bdelamaza Si EEUU cae en las garras del globa...   \n",
       "1002363        giselargg                  @JoeBiden Good luck, mr. Biden 🇲🇽   \n",
       "1002364        knut_koch  Hunter Biden pic and videos have been upload o...   \n",
       "1002365         leplumba  @JoeBiden You will fight for the swamp creatur...   \n",
       "1002366      chapman8tor  FBI investigating alleged harassment  by of Bi...   \n",
       "\n",
       "                                                  hashtags  \n",
       "0                                        ['draintheswamp']  \n",
       "1                                                       []  \n",
       "2                                                       []  \n",
       "3                                                       []  \n",
       "4                                                       []  \n",
       "...                                                    ...  \n",
       "1002362                                                 []  \n",
       "1002363                                                 []  \n",
       "1002364  ['trump2020', 'biden2020', 'scandal', 'fakemed...  \n",
       "1002365  ['bidencrimefamiilyexposed', 'laptopfromhell',...  \n",
       "1002366                                                 []  \n",
       "\n",
       "[903431 rows x 7 columns]"
      ]
     },
     "execution_count": 3,
     "metadata": {},
     "output_type": "execute_result"
    }
   ],
   "source": [
    "df"
   ]
  },
  {
   "cell_type": "code",
   "execution_count": 4,
   "id": "sought-telling",
   "metadata": {},
   "outputs": [],
   "source": [
    "\n",
    "dtypes = {\n",
    "    'id': str,\n",
    "    'user_id': str,\n",
    "    'username': str,\n",
    "    'tweet': str\n",
    "}\n",
    "\n",
    "df = df.astype(dtypes)\n"
   ]
  },
  {
   "cell_type": "code",
   "execution_count": 5,
   "id": "fallen-breeding",
   "metadata": {},
   "outputs": [
    {
     "data": {
      "text/plain": [
       "(903314, 7)"
      ]
     },
     "execution_count": 5,
     "metadata": {},
     "output_type": "execute_result"
    }
   ],
   "source": [
    "df.drop_duplicates(subset='id', inplace=True)\n",
    "df.shape"
   ]
  },
  {
   "cell_type": "code",
   "execution_count": null,
   "id": "honey-entrance",
   "metadata": {},
   "outputs": [],
   "source": []
  },
  {
   "cell_type": "code",
   "execution_count": 6,
   "id": "detected-dublin",
   "metadata": {},
   "outputs": [
    {
     "data": {
      "text/html": [
       "<div>\n",
       "<style scoped>\n",
       "    .dataframe tbody tr th:only-of-type {\n",
       "        vertical-align: middle;\n",
       "    }\n",
       "\n",
       "    .dataframe tbody tr th {\n",
       "        vertical-align: top;\n",
       "    }\n",
       "\n",
       "    .dataframe thead th {\n",
       "        text-align: right;\n",
       "    }\n",
       "</style>\n",
       "<table border=\"1\" class=\"dataframe\">\n",
       "  <thead>\n",
       "    <tr style=\"text-align: right;\">\n",
       "      <th></th>\n",
       "      <th>id</th>\n",
       "      <th>date</th>\n",
       "      <th>time</th>\n",
       "      <th>user_id</th>\n",
       "      <th>username</th>\n",
       "      <th>tweet</th>\n",
       "      <th>hashtags</th>\n",
       "      <th>trump</th>\n",
       "      <th>biden</th>\n",
       "    </tr>\n",
       "  </thead>\n",
       "  <tbody>\n",
       "    <tr>\n",
       "      <th>0</th>\n",
       "      <td>1313630113934737411</td>\n",
       "      <td>2020-10-06</td>\n",
       "      <td>23:59:59</td>\n",
       "      <td>481962653</td>\n",
       "      <td>sully_lilly</td>\n",
       "      <td>@JoeBiden 47 years and now you are ready to do...</td>\n",
       "      <td>['draintheswamp']</td>\n",
       "      <td>False</td>\n",
       "      <td>True</td>\n",
       "    </tr>\n",
       "    <tr>\n",
       "      <th>1</th>\n",
       "      <td>1313630113821581312</td>\n",
       "      <td>2020-10-06</td>\n",
       "      <td>23:59:59</td>\n",
       "      <td>1299543389092884480</td>\n",
       "      <td>nutzwhat</td>\n",
       "      <td>@Astraea_Muse @DontBanMeBro7 @RonColeman @JoeB...</td>\n",
       "      <td>[]</td>\n",
       "      <td>False</td>\n",
       "      <td>True</td>\n",
       "    </tr>\n",
       "    <tr>\n",
       "      <th>2</th>\n",
       "      <td>1313630112789803011</td>\n",
       "      <td>2020-10-06</td>\n",
       "      <td>23:59:59</td>\n",
       "      <td>1156541146287542272</td>\n",
       "      <td>carolwo53195499</td>\n",
       "      <td>@ElTomatill0 @jimsciutto @JoeBiden He has said...</td>\n",
       "      <td>[]</td>\n",
       "      <td>False</td>\n",
       "      <td>True</td>\n",
       "    </tr>\n",
       "  </tbody>\n",
       "</table>\n",
       "</div>"
      ],
      "text/plain": [
       "                    id       date      time              user_id  \\\n",
       "0  1313630113934737411 2020-10-06  23:59:59            481962653   \n",
       "1  1313630113821581312 2020-10-06  23:59:59  1299543389092884480   \n",
       "2  1313630112789803011 2020-10-06  23:59:59  1156541146287542272   \n",
       "\n",
       "          username                                              tweet  \\\n",
       "0      sully_lilly  @JoeBiden 47 years and now you are ready to do...   \n",
       "1         nutzwhat  @Astraea_Muse @DontBanMeBro7 @RonColeman @JoeB...   \n",
       "2  carolwo53195499  @ElTomatill0 @jimsciutto @JoeBiden He has said...   \n",
       "\n",
       "            hashtags  trump  biden  \n",
       "0  ['draintheswamp']  False   True  \n",
       "1                 []  False   True  \n",
       "2                 []  False   True  "
      ]
     },
     "execution_count": 6,
     "metadata": {},
     "output_type": "execute_result"
    }
   ],
   "source": [
    "df['trump'] = df.tweet.str.contains(\"[Tt][Rr][Uu][Mm][Pp]\")\n",
    "df['biden'] = df.tweet.str.contains(\"[Bb][Ii][Dd][Ee][Nn]\")\n",
    "df.head(3)"
   ]
  },
  {
   "cell_type": "code",
   "execution_count": 7,
   "id": "political-korean",
   "metadata": {},
   "outputs": [
    {
     "data": {
      "text/plain": [
       "True     555698\n",
       "False    347616\n",
       "Name: trump, dtype: int64"
      ]
     },
     "execution_count": 7,
     "metadata": {},
     "output_type": "execute_result"
    }
   ],
   "source": [
    "df.trump.value_counts()"
   ]
  },
  {
   "cell_type": "code",
   "execution_count": 8,
   "id": "atlantic-privilege",
   "metadata": {},
   "outputs": [
    {
     "data": {
      "text/plain": [
       "True     520349\n",
       "False    382965\n",
       "Name: biden, dtype: int64"
      ]
     },
     "execution_count": 8,
     "metadata": {},
     "output_type": "execute_result"
    }
   ],
   "source": [
    "df.biden.value_counts()"
   ]
  },
  {
   "cell_type": "code",
   "execution_count": 9,
   "id": "tribal-lesson",
   "metadata": {},
   "outputs": [],
   "source": [
    "# df.to_csv(\"../data/all_tweets_raw.csv\")"
   ]
  },
  {
   "cell_type": "markdown",
   "id": "streaming-rocket",
   "metadata": {},
   "source": [
    "## Filtering Our Data Down\n",
    "\n",
    "We need to do two things:\n",
    "1. Exclude tweets with under 70 characters.\n",
    "2. We'll only use tweets that mention one candidate; and not the other\n",
    "    * equal amount of each"
   ]
  },
  {
   "cell_type": "code",
   "execution_count": 10,
   "id": "ordinary-album",
   "metadata": {},
   "outputs": [
    {
     "data": {
      "text/plain": [
       "(570189, 9)"
      ]
     },
     "execution_count": 10,
     "metadata": {},
     "output_type": "execute_result"
    }
   ],
   "source": [
    "# exclude tweets with under 70 characters\n",
    "\n",
    "mask = df.tweet.str.len() > 100\n",
    "df = df[mask]\n",
    "df.shape"
   ]
  },
  {
   "cell_type": "code",
   "execution_count": 11,
   "id": "tracked-newport",
   "metadata": {},
   "outputs": [],
   "source": [
    "# mask = (df.trump == 0) & (df.biden == 1)\n",
    "# biden = df[mask].sample(150000)\n",
    "\n",
    "# mask = (df.trump == 1) & (df.biden == 0)\n",
    "# trump = df[mask].sample(150000)\n",
    "\n",
    "# df_balanced = pd.concat((pd.DataFrame(), biden_72k, trump_72k))\n",
    "# df_balanced"
   ]
  },
  {
   "cell_type": "code",
   "execution_count": 12,
   "id": "lasting-single",
   "metadata": {},
   "outputs": [],
   "source": [
    "df.to_pickle(\"pickle/df_ALL_TWEETS_raw.pick\")"
   ]
  }
 ],
 "metadata": {
  "kernelspec": {
   "display_name": "Python 3",
   "language": "python",
   "name": "python3"
  },
  "language_info": {
   "codemirror_mode": {
    "name": "ipython",
    "version": 3
   },
   "file_extension": ".py",
   "mimetype": "text/x-python",
   "name": "python",
   "nbconvert_exporter": "python",
   "pygments_lexer": "ipython3",
   "version": "3.8.6"
  }
 },
 "nbformat": 4,
 "nbformat_minor": 5
}
