{
 "cells": [
  {
   "cell_type": "code",
   "execution_count": 1,
   "id": "authorized-berlin",
   "metadata": {},
   "outputs": [],
   "source": [
    "import pickle\n",
    "import re\n",
    "import string\n",
    "import emoji\n",
    "import pandas as pd\n",
    "import numpy as np\n",
    "import datetime\n",
    "from textblob import TextBlob\n",
    "from collections import Counter\n",
    "\n",
    "from langdetect import detect\n",
    "\n",
    "import spacy\n",
    "from copy import deepcopy\n",
    "\n",
    "from sklearn.feature_extraction.text import CountVectorizer\n",
    "from sklearn.model_selection import train_test_split\n",
    "from sklearn.decomposition import NMF, LatentDirichletAllocation\n",
    "\n",
    "# import contextualSpellCheck"
   ]
  },
  {
   "cell_type": "markdown",
   "id": "planned-frederick",
   "metadata": {},
   "source": [
    "# November 2 Tweet Analysis"
   ]
  },
  {
   "cell_type": "code",
   "execution_count": 2,
   "id": "frozen-clear",
   "metadata": {},
   "outputs": [
    {
     "data": {
      "text/html": [
       "<div>\n",
       "<style scoped>\n",
       "    .dataframe tbody tr th:only-of-type {\n",
       "        vertical-align: middle;\n",
       "    }\n",
       "\n",
       "    .dataframe tbody tr th {\n",
       "        vertical-align: top;\n",
       "    }\n",
       "\n",
       "    .dataframe thead th {\n",
       "        text-align: right;\n",
       "    }\n",
       "</style>\n",
       "<table border=\"1\" class=\"dataframe\">\n",
       "  <thead>\n",
       "    <tr style=\"text-align: right;\">\n",
       "      <th></th>\n",
       "      <th>id</th>\n",
       "      <th>date</th>\n",
       "      <th>time</th>\n",
       "      <th>user_id</th>\n",
       "      <th>username</th>\n",
       "      <th>tweet</th>\n",
       "      <th>hashtags</th>\n",
       "    </tr>\n",
       "  </thead>\n",
       "  <tbody>\n",
       "    <tr>\n",
       "      <th>0</th>\n",
       "      <td>1323414586586968064</td>\n",
       "      <td>2020-11-02</td>\n",
       "      <td>23:59:59</td>\n",
       "      <td>1242220312676241409</td>\n",
       "      <td>kamalatoe</td>\n",
       "      <td>Trump is campaigning with steel and autoworker...</td>\n",
       "      <td>['macon', 'gasen', 'savannah', 'riseup']</td>\n",
       "    </tr>\n",
       "    <tr>\n",
       "      <th>1</th>\n",
       "      <td>1323414586511429634</td>\n",
       "      <td>2020-11-02</td>\n",
       "      <td>23:59:59</td>\n",
       "      <td>2324659466</td>\n",
       "      <td>didih2214</td>\n",
       "      <td>Trump is having unscalable fencing erected aro...</td>\n",
       "      <td>['votehimout2020']</td>\n",
       "    </tr>\n",
       "    <tr>\n",
       "      <th>2</th>\n",
       "      <td>1323414586503143424</td>\n",
       "      <td>2020-11-02</td>\n",
       "      <td>23:59:59</td>\n",
       "      <td>215506541</td>\n",
       "      <td>cuffy__</td>\n",
       "      <td>They support trump like he cares about them, h...</td>\n",
       "      <td>[]</td>\n",
       "    </tr>\n",
       "  </tbody>\n",
       "</table>\n",
       "</div>"
      ],
      "text/plain": [
       "                    id       date      time              user_id   username  \\\n",
       "0  1323414586586968064 2020-11-02  23:59:59  1242220312676241409  kamalatoe   \n",
       "1  1323414586511429634 2020-11-02  23:59:59           2324659466  didih2214   \n",
       "2  1323414586503143424 2020-11-02  23:59:59            215506541    cuffy__   \n",
       "\n",
       "                                               tweet  \\\n",
       "0  Trump is campaigning with steel and autoworker...   \n",
       "1  Trump is having unscalable fencing erected aro...   \n",
       "2  They support trump like he cares about them, h...   \n",
       "\n",
       "                                   hashtags  \n",
       "0  ['macon', 'gasen', 'savannah', 'riseup']  \n",
       "1                        ['votehimout2020']  \n",
       "2                                        []  "
      ]
     },
     "execution_count": 2,
     "metadata": {},
     "output_type": "execute_result"
    }
   ],
   "source": [
    "df = pd.read_pickle(\"pickle/clean_nov2_tweets.pick\")\n",
    "df.head(3)"
   ]
  },
  {
   "cell_type": "code",
   "execution_count": null,
   "id": "latin-fluid",
   "metadata": {},
   "outputs": [],
   "source": [
    "\n"
   ]
  },
  {
   "cell_type": "code",
   "execution_count": 3,
   "id": "consolidated-strip",
   "metadata": {},
   "outputs": [],
   "source": [
    "nlp = spacy.load('en_core_web_sm')"
   ]
  },
  {
   "cell_type": "markdown",
   "id": "rubber-holiday",
   "metadata": {},
   "source": [
    "**Kelsey 1-1**\n",
    "\n",
    "- cleaning\n",
    "    - preprocessing until comfortable with words\n",
    "   \n",
    "- sentiment analysis on all tweets\n",
    "    - don't need to do any splitting at this stage\n",
    "    - TextBlob & VaderSentiment first, spacy if the results aren't as expected\n",
    "    \n",
    "- topic modeling\n",
    "    - decide: use all tweets (all topics) at once\n",
    "        - start here\n",
    "        - then can use these as features in the dataFrame and do splitting here\n",
    "    - or: split to trump/biden - then bot/not bot for each\n",
    "    - point here is there are multiple ways to split it\n",
    "        - no right answers"
   ]
  },
  {
   "cell_type": "code",
   "execution_count": 4,
   "id": "integral-rebate",
   "metadata": {},
   "outputs": [],
   "source": [
    "pd.set_option('display.max_rows', 10)\n",
    "pd.set_option('display.max_columns', 40)\n",
    "pd.set_option('display.max_colwidth', None)"
   ]
  },
  {
   "cell_type": "code",
   "execution_count": 5,
   "id": "inner-might",
   "metadata": {},
   "outputs": [],
   "source": [
    "# must uncomment & run the first time to DOWNLOAD NLTK data\n",
    "# I used package identifier 'popular'\n",
    "# nltk.download()"
   ]
  },
  {
   "cell_type": "code",
   "execution_count": 6,
   "id": "surprised-camera",
   "metadata": {},
   "outputs": [
    {
     "data": {
      "text/html": [
       "<div>\n",
       "<style scoped>\n",
       "    .dataframe tbody tr th:only-of-type {\n",
       "        vertical-align: middle;\n",
       "    }\n",
       "\n",
       "    .dataframe tbody tr th {\n",
       "        vertical-align: top;\n",
       "    }\n",
       "\n",
       "    .dataframe thead th {\n",
       "        text-align: right;\n",
       "    }\n",
       "</style>\n",
       "<table border=\"1\" class=\"dataframe\">\n",
       "  <thead>\n",
       "    <tr style=\"text-align: right;\">\n",
       "      <th></th>\n",
       "      <th>id</th>\n",
       "      <th>date</th>\n",
       "      <th>time</th>\n",
       "      <th>user_id</th>\n",
       "      <th>username</th>\n",
       "      <th>tweet</th>\n",
       "      <th>hashtags</th>\n",
       "    </tr>\n",
       "  </thead>\n",
       "  <tbody>\n",
       "    <tr>\n",
       "      <th>0</th>\n",
       "      <td>1323414586586968064</td>\n",
       "      <td>2020-11-02</td>\n",
       "      <td>23:59:59</td>\n",
       "      <td>1242220312676241409</td>\n",
       "      <td>kamalatoe</td>\n",
       "      <td>Trump is campaigning with steel and autoworkers today.  We are closing with Lady Gaga and gun control in Philly  Vote for our woke asses.   @MaconBibb #Macon #GAsen #Savannah #RiseUp</td>\n",
       "      <td>['macon', 'gasen', 'savannah', 'riseup']</td>\n",
       "    </tr>\n",
       "    <tr>\n",
       "      <th>1</th>\n",
       "      <td>1323414586511429634</td>\n",
       "      <td>2020-11-02</td>\n",
       "      <td>23:59:59</td>\n",
       "      <td>2324659466</td>\n",
       "      <td>didih2214</td>\n",
       "      <td>Trump is having unscalable fencing erected around White House grounds AFTER sewing civil unrest toward Democratic voters, scientists &amp;amp; anyone against him.  What I see is a coward who stirs the pot &amp;amp; hides in the safety of his temporary home #VoteHimOut2020</td>\n",
       "      <td>['votehimout2020']</td>\n",
       "    </tr>\n",
       "    <tr>\n",
       "      <th>2</th>\n",
       "      <td>1323414586503143424</td>\n",
       "      <td>2020-11-02</td>\n",
       "      <td>23:59:59</td>\n",
       "      <td>215506541</td>\n",
       "      <td>cuffy__</td>\n",
       "      <td>They support trump like he cares about them, he don’t like poor white folk either 🤦🏾‍♂️😂</td>\n",
       "      <td>[]</td>\n",
       "    </tr>\n",
       "  </tbody>\n",
       "</table>\n",
       "</div>"
      ],
      "text/plain": [
       "                    id       date      time              user_id   username  \\\n",
       "0  1323414586586968064 2020-11-02  23:59:59  1242220312676241409  kamalatoe   \n",
       "1  1323414586511429634 2020-11-02  23:59:59           2324659466  didih2214   \n",
       "2  1323414586503143424 2020-11-02  23:59:59            215506541    cuffy__   \n",
       "\n",
       "                                                                                                                                                                                                                                                                      tweet  \\\n",
       "0                                                                                    Trump is campaigning with steel and autoworkers today.  We are closing with Lady Gaga and gun control in Philly  Vote for our woke asses.   @MaconBibb #Macon #GAsen #Savannah #RiseUp   \n",
       "1  Trump is having unscalable fencing erected around White House grounds AFTER sewing civil unrest toward Democratic voters, scientists &amp; anyone against him.  What I see is a coward who stirs the pot &amp; hides in the safety of his temporary home #VoteHimOut2020   \n",
       "2                                                                                                                                                                                  They support trump like he cares about them, he don’t like poor white folk either 🤦🏾‍♂️😂   \n",
       "\n",
       "                                   hashtags  \n",
       "0  ['macon', 'gasen', 'savannah', 'riseup']  \n",
       "1                        ['votehimout2020']  \n",
       "2                                        []  "
      ]
     },
     "execution_count": 6,
     "metadata": {},
     "output_type": "execute_result"
    }
   ],
   "source": [
    "df.head(3)"
   ]
  },
  {
   "cell_type": "code",
   "execution_count": 7,
   "id": "domestic-bridge",
   "metadata": {},
   "outputs": [
    {
     "data": {
      "text/plain": [
       "Index(['id', 'date', 'time', 'user_id', 'username', 'tweet', 'hashtags'], dtype='object')"
      ]
     },
     "execution_count": 7,
     "metadata": {},
     "output_type": "execute_result"
    }
   ],
   "source": [
    "df.columns"
   ]
  },
  {
   "cell_type": "code",
   "execution_count": 8,
   "id": "patent-grill",
   "metadata": {},
   "outputs": [
    {
     "data": {
      "text/plain": [
       "223199"
      ]
     },
     "execution_count": 8,
     "metadata": {},
     "output_type": "execute_result"
    }
   ],
   "source": [
    "len(df.username.unique())"
   ]
  },
  {
   "cell_type": "markdown",
   "id": "developmental-muscle",
   "metadata": {},
   "source": [
    "Now let's create a subset, containing the same amount of Trump tweets as Biden tweets as tweets mentioning both candidates."
   ]
  },
  {
   "cell_type": "code",
   "execution_count": 9,
   "id": "alone-literacy",
   "metadata": {},
   "outputs": [
    {
     "name": "stdout",
     "output_type": "stream",
     "text": [
      "CPU times: user 8.37 ms, sys: 130 µs, total: 8.5 ms\n",
      "Wall time: 7.13 ms\n"
     ]
    },
    {
     "data": {
      "text/plain": [
       "[My, name, is, Elliot, .]"
      ]
     },
     "execution_count": 9,
     "metadata": {},
     "output_type": "execute_result"
    }
   ],
   "source": [
    "%%time\n",
    "[t for t in nlp(\"My name is Elliot.\")]"
   ]
  },
  {
   "cell_type": "code",
   "execution_count": 17,
   "id": "blond-albany",
   "metadata": {},
   "outputs": [
    {
     "name": "stdout",
     "output_type": "stream",
     "text": [
      "Hi INTJ ROOT\n",
      ", PUNCT punct\n",
      "readers NOUN npadvmod\n",
      "! PUNCT punct\n",
      "My PRON poss\n",
      "name NOUN nsubj\n",
      "is AUX ROOT\n",
      "Elliot PROPN compound\n",
      "Wilens PROPN attr\n",
      ". PUNCT punct\n",
      "I PRON nsubj\n",
      "love VERB ROOT\n",
      "mountains NOUN dobj\n",
      ", PUNCT punct\n",
      "especially ADV advmod\n",
      "Mt. PROPN compound\n",
      "Everest PROPN appos\n",
      ". PUNCT punct\n"
     ]
    }
   ],
   "source": [
    "# spacy practice\n",
    "\n",
    "text = 'Hi, readers! My name is Elliot Wilens. I love mountains, especially Mt. Everest.'\n",
    "\n",
    "for t in nlp(text):\n",
    "    print(t, t.pos_, t.dep_)"
   ]
  },
  {
   "cell_type": "code",
   "execution_count": 11,
   "id": "geological-companion",
   "metadata": {},
   "outputs": [
    {
     "data": {
      "text/plain": [
       "Hi, readers! My name is Elliot Wilens. I love mountains."
      ]
     },
     "execution_count": 11,
     "metadata": {},
     "output_type": "execute_result"
    }
   ],
   "source": [
    "nlp(text)"
   ]
  },
  {
   "cell_type": "markdown",
   "id": "superior-power",
   "metadata": {},
   "source": [
    "## Initiate Pipeline"
   ]
  },
  {
   "cell_type": "code",
   "execution_count": 12,
   "id": "fresh-edinburgh",
   "metadata": {},
   "outputs": [],
   "source": [
    "df = df.copy()[-25000:]"
   ]
  },
  {
   "cell_type": "code",
   "execution_count": 13,
   "id": "local-freight",
   "metadata": {},
   "outputs": [
    {
     "data": {
      "text/html": [
       "<div>\n",
       "<style scoped>\n",
       "    .dataframe tbody tr th:only-of-type {\n",
       "        vertical-align: middle;\n",
       "    }\n",
       "\n",
       "    .dataframe tbody tr th {\n",
       "        vertical-align: top;\n",
       "    }\n",
       "\n",
       "    .dataframe thead th {\n",
       "        text-align: right;\n",
       "    }\n",
       "</style>\n",
       "<table border=\"1\" class=\"dataframe\">\n",
       "  <thead>\n",
       "    <tr style=\"text-align: right;\">\n",
       "      <th></th>\n",
       "      <th>id</th>\n",
       "      <th>date</th>\n",
       "      <th>time</th>\n",
       "      <th>user_id</th>\n",
       "      <th>username</th>\n",
       "      <th>tweet</th>\n",
       "      <th>hashtags</th>\n",
       "    </tr>\n",
       "  </thead>\n",
       "  <tbody>\n",
       "    <tr>\n",
       "      <th>76902</th>\n",
       "      <td>1323391939270434816</td>\n",
       "      <td>2020-11-02</td>\n",
       "      <td>22:30:00</td>\n",
       "      <td>876863947617513473</td>\n",
       "      <td>punto_decorte</td>\n",
       "      <td>#2Nov \"De ganar Biden, seguirá la misma política de exterior, pero quizás con un pequeño matiz, que no será un aliado directo de la figura de Juan Guaidó\", dijo el internacionalista @LuisAngaritaEEI en Entrevista #PDCTV 🌍 | #Internacionales  https://t.co/Ho6SIYMVCF</td>\n",
       "      <td>['2nov', 'pdctv', 'internacionales']</td>\n",
       "    </tr>\n",
       "    <tr>\n",
       "      <th>76906</th>\n",
       "      <td>1323391938729443328</td>\n",
       "      <td>2020-11-02</td>\n",
       "      <td>22:30:00</td>\n",
       "      <td>1282422325556572160</td>\n",
       "      <td>cyntonm</td>\n",
       "      <td>@Jessicam6946 @rocketmann55 @JoeBiden 🙏🙏🙏🙏🙏🙏🙏🙏🙏🙏🙏🙏🙏🙏🙏🙏🙏🙏🙏🙏🙏🙏🙏🙏🙏🙏🙏🙏🙏🙏🙏🙏🙏🙏🙏🙏🙏🙏🙏🙏🙏🙏</td>\n",
       "      <td>[]</td>\n",
       "    </tr>\n",
       "    <tr>\n",
       "      <th>76909</th>\n",
       "      <td>1323391938448531459</td>\n",
       "      <td>2020-11-02</td>\n",
       "      <td>22:30:00</td>\n",
       "      <td>330826792</td>\n",
       "      <td>rapplerdotcom</td>\n",
       "      <td>In the United States, as the elections draw near, more stars come out in support of Democratic presidential candidate Joe Biden. Updates here:  https://t.co/majhtqkIOK  https://t.co/CJQk22jM7q</td>\n",
       "      <td>[]</td>\n",
       "    </tr>\n",
       "  </tbody>\n",
       "</table>\n",
       "</div>"
      ],
      "text/plain": [
       "                        id       date      time              user_id  \\\n",
       "76902  1323391939270434816 2020-11-02  22:30:00   876863947617513473   \n",
       "76906  1323391938729443328 2020-11-02  22:30:00  1282422325556572160   \n",
       "76909  1323391938448531459 2020-11-02  22:30:00            330826792   \n",
       "\n",
       "            username  \\\n",
       "76902  punto_decorte   \n",
       "76906        cyntonm   \n",
       "76909  rapplerdotcom   \n",
       "\n",
       "                                                                                                                                                                                                                                                                           tweet  \\\n",
       "76902  #2Nov \"De ganar Biden, seguirá la misma política de exterior, pero quizás con un pequeño matiz, que no será un aliado directo de la figura de Juan Guaidó\", dijo el internacionalista @LuisAngaritaEEI en Entrevista #PDCTV 🌍 | #Internacionales  https://t.co/Ho6SIYMVCF   \n",
       "76906                                                                                                                                                                                           @Jessicam6946 @rocketmann55 @JoeBiden 🙏🙏🙏🙏🙏🙏🙏🙏🙏🙏🙏🙏🙏🙏🙏🙏🙏🙏🙏🙏🙏🙏🙏🙏🙏🙏🙏🙏🙏🙏🙏🙏🙏🙏🙏🙏🙏🙏🙏🙏🙏🙏   \n",
       "76909                                                                           In the United States, as the elections draw near, more stars come out in support of Democratic presidential candidate Joe Biden. Updates here:  https://t.co/majhtqkIOK  https://t.co/CJQk22jM7q   \n",
       "\n",
       "                                   hashtags  \n",
       "76902  ['2nov', 'pdctv', 'internacionales']  \n",
       "76906                                    []  \n",
       "76909                                    []  "
      ]
     },
     "execution_count": 13,
     "metadata": {},
     "output_type": "execute_result"
    }
   ],
   "source": [
    "df.head(3)"
   ]
  },
  {
   "cell_type": "code",
   "execution_count": 14,
   "id": "painted-proposition",
   "metadata": {},
   "outputs": [],
   "source": [
    "df['spacy_doc'] = list(nlp.pipe(df.tweet))"
   ]
  },
  {
   "cell_type": "markdown",
   "id": "european-tracy",
   "metadata": {},
   "source": [
    "## Now let's split our data into biden & trump tweets."
   ]
  },
  {
   "cell_type": "code",
   "execution_count": 15,
   "id": "czech-hydrogen",
   "metadata": {},
   "outputs": [],
   "source": [
    "mask = (df.tweet.str.contains(\"[Tt][Rr][Uu][Mm][Pp]\")) & (~df.tweet.str.contains(\"[Bb][Ii][Dd][Ee][Nn]\"))\n",
    "trump_tweets = df[mask]\n",
    "\n",
    "mask = (~df.tweet.str.contains(\"[Tt][Rr][Uu][Mm][Pp]\")) & (df.tweet.str.contains(\"[Bb][Ii][Dd][Ee][Nn]\"))\n",
    "biden_tweets = df[mask]\n"
   ]
  },
  {
   "cell_type": "markdown",
   "id": "decimal-tradition",
   "metadata": {},
   "source": [
    "Now, let's use spaCy's `pipe` method in order to process multiple documents in one go."
   ]
  },
  {
   "cell_type": "code",
   "execution_count": 16,
   "id": "integral-letters",
   "metadata": {},
   "outputs": [
    {
     "ename": "AttributeError",
     "evalue": "'Series' object has no attribute 'spacy_doc'",
     "output_type": "error",
     "traceback": [
      "\u001b[0;31m---------------------------------------------------------------------------\u001b[0m",
      "\u001b[0;31mAttributeError\u001b[0m                            Traceback (most recent call last)",
      "\u001b[0;32m<ipython-input-16-57671263345a>\u001b[0m in \u001b[0;36m<module>\u001b[0;34m()\u001b[0m\n\u001b[0;32m----> 1\u001b[0;31m \u001b[0mbiden_adj\u001b[0m \u001b[0;34m=\u001b[0m \u001b[0;34m[\u001b[0m\u001b[0mtoken\u001b[0m\u001b[0;34m.\u001b[0m\u001b[0mtext\u001b[0m\u001b[0;34m.\u001b[0m\u001b[0mlower\u001b[0m\u001b[0;34m(\u001b[0m\u001b[0;34m)\u001b[0m \u001b[0;32mfor\u001b[0m \u001b[0mdoc\u001b[0m \u001b[0;32min\u001b[0m \u001b[0mbiden_tweets\u001b[0m\u001b[0;34m.\u001b[0m\u001b[0mtweet\u001b[0m\u001b[0;34m.\u001b[0m\u001b[0mspacy_doc\u001b[0m \u001b[0;32mfor\u001b[0m \u001b[0mtoken\u001b[0m \u001b[0;32min\u001b[0m \u001b[0mdoc\u001b[0m \u001b[0;32mif\u001b[0m \u001b[0mtoken\u001b[0m\u001b[0;34m.\u001b[0m\u001b[0mpos_\u001b[0m\u001b[0;34m==\u001b[0m\u001b[0;34m'ADJ'\u001b[0m\u001b[0;34m]\u001b[0m\u001b[0;34m\u001b[0m\u001b[0;34m\u001b[0m\u001b[0m\n\u001b[0m\u001b[1;32m      2\u001b[0m \u001b[0mtrump_adj\u001b[0m \u001b[0;34m=\u001b[0m \u001b[0;34m[\u001b[0m\u001b[0mtoken\u001b[0m\u001b[0;34m.\u001b[0m\u001b[0mtext\u001b[0m\u001b[0;34m.\u001b[0m\u001b[0mlower\u001b[0m\u001b[0;34m(\u001b[0m\u001b[0;34m)\u001b[0m \u001b[0;32mfor\u001b[0m \u001b[0mdoc\u001b[0m \u001b[0;32min\u001b[0m \u001b[0mtrump_tweets\u001b[0m\u001b[0;34m.\u001b[0m\u001b[0mtweet\u001b[0m\u001b[0;34m.\u001b[0m\u001b[0mspacy_doc\u001b[0m \u001b[0;32mfor\u001b[0m \u001b[0mtoken\u001b[0m \u001b[0;32min\u001b[0m \u001b[0mdoc\u001b[0m \u001b[0;32mif\u001b[0m \u001b[0mtoken\u001b[0m\u001b[0;34m.\u001b[0m\u001b[0mpos_\u001b[0m\u001b[0;34m==\u001b[0m\u001b[0;34m'ADJ'\u001b[0m\u001b[0;34m]\u001b[0m\u001b[0;34m\u001b[0m\u001b[0;34m\u001b[0m\u001b[0m\n\u001b[1;32m      3\u001b[0m \u001b[0;34m\u001b[0m\u001b[0m\n\u001b[1;32m      4\u001b[0m \u001b[0mbiden_noun\u001b[0m \u001b[0;34m=\u001b[0m \u001b[0;34m[\u001b[0m\u001b[0mtoken\u001b[0m\u001b[0;34m.\u001b[0m\u001b[0mtext\u001b[0m\u001b[0;34m.\u001b[0m\u001b[0mlower\u001b[0m\u001b[0;34m(\u001b[0m\u001b[0;34m)\u001b[0m \u001b[0;32mfor\u001b[0m \u001b[0mdoc\u001b[0m \u001b[0;32min\u001b[0m \u001b[0mbiden_tweets\u001b[0m\u001b[0;34m.\u001b[0m\u001b[0mtweet\u001b[0m\u001b[0;34m.\u001b[0m\u001b[0mspacy_doc\u001b[0m \u001b[0;32mfor\u001b[0m \u001b[0mtoken\u001b[0m \u001b[0;32min\u001b[0m \u001b[0mdoc\u001b[0m \u001b[0;32mif\u001b[0m \u001b[0mtoken\u001b[0m\u001b[0;34m.\u001b[0m\u001b[0mpos_\u001b[0m\u001b[0;34m==\u001b[0m\u001b[0;34m'NOUN'\u001b[0m\u001b[0;34m]\u001b[0m\u001b[0;34m\u001b[0m\u001b[0;34m\u001b[0m\u001b[0m\n\u001b[1;32m      5\u001b[0m \u001b[0mtrump_noun\u001b[0m \u001b[0;34m=\u001b[0m \u001b[0;34m[\u001b[0m\u001b[0mtoken\u001b[0m\u001b[0;34m.\u001b[0m\u001b[0mtext\u001b[0m\u001b[0;34m.\u001b[0m\u001b[0mlower\u001b[0m\u001b[0;34m(\u001b[0m\u001b[0;34m)\u001b[0m \u001b[0;32mfor\u001b[0m \u001b[0mdoc\u001b[0m \u001b[0;32min\u001b[0m \u001b[0mtrump_tweets\u001b[0m\u001b[0;34m.\u001b[0m\u001b[0mtweet\u001b[0m\u001b[0;34m.\u001b[0m\u001b[0mspacy_doc\u001b[0m \u001b[0;32mfor\u001b[0m \u001b[0mtoken\u001b[0m \u001b[0;32min\u001b[0m \u001b[0mdoc\u001b[0m \u001b[0;32mif\u001b[0m \u001b[0mtoken\u001b[0m\u001b[0;34m.\u001b[0m\u001b[0mpos_\u001b[0m\u001b[0;34m==\u001b[0m\u001b[0;34m'NOUN'\u001b[0m\u001b[0;34m]\u001b[0m\u001b[0;34m\u001b[0m\u001b[0;34m\u001b[0m\u001b[0m\n",
      "\u001b[0;32m/home/wilensel/.local/lib/python3.6/site-packages/pandas/core/generic.py\u001b[0m in \u001b[0;36m__getattr__\u001b[0;34m(self, name)\u001b[0m\n\u001b[1;32m   5139\u001b[0m             \u001b[0;32mif\u001b[0m \u001b[0mself\u001b[0m\u001b[0;34m.\u001b[0m\u001b[0m_info_axis\u001b[0m\u001b[0;34m.\u001b[0m\u001b[0m_can_hold_identifiers_and_holds_name\u001b[0m\u001b[0;34m(\u001b[0m\u001b[0mname\u001b[0m\u001b[0;34m)\u001b[0m\u001b[0;34m:\u001b[0m\u001b[0;34m\u001b[0m\u001b[0;34m\u001b[0m\u001b[0m\n\u001b[1;32m   5140\u001b[0m                 \u001b[0;32mreturn\u001b[0m \u001b[0mself\u001b[0m\u001b[0;34m[\u001b[0m\u001b[0mname\u001b[0m\u001b[0;34m]\u001b[0m\u001b[0;34m\u001b[0m\u001b[0;34m\u001b[0m\u001b[0m\n\u001b[0;32m-> 5141\u001b[0;31m             \u001b[0;32mreturn\u001b[0m \u001b[0mobject\u001b[0m\u001b[0;34m.\u001b[0m\u001b[0m__getattribute__\u001b[0m\u001b[0;34m(\u001b[0m\u001b[0mself\u001b[0m\u001b[0;34m,\u001b[0m \u001b[0mname\u001b[0m\u001b[0;34m)\u001b[0m\u001b[0;34m\u001b[0m\u001b[0;34m\u001b[0m\u001b[0m\n\u001b[0m\u001b[1;32m   5142\u001b[0m \u001b[0;34m\u001b[0m\u001b[0m\n\u001b[1;32m   5143\u001b[0m     \u001b[0;32mdef\u001b[0m \u001b[0m__setattr__\u001b[0m\u001b[0;34m(\u001b[0m\u001b[0mself\u001b[0m\u001b[0;34m,\u001b[0m \u001b[0mname\u001b[0m\u001b[0;34m:\u001b[0m \u001b[0mstr\u001b[0m\u001b[0;34m,\u001b[0m \u001b[0mvalue\u001b[0m\u001b[0;34m)\u001b[0m \u001b[0;34m->\u001b[0m \u001b[0;32mNone\u001b[0m\u001b[0;34m:\u001b[0m\u001b[0;34m\u001b[0m\u001b[0;34m\u001b[0m\u001b[0m\n",
      "\u001b[0;31mAttributeError\u001b[0m: 'Series' object has no attribute 'spacy_doc'"
     ]
    }
   ],
   "source": [
    "biden_adj = [token.text.lower() for doc in biden_tweets.tweet.spacy_doc for token in doc if token.pos_=='ADJ']\n",
    "trump_adj = [token.text.lower() for doc in trump_tweets.tweet.spacy_doc for token in doc if token.pos_=='ADJ']\n",
    "\n",
    "biden_noun = [token.text.lower() for doc in biden_tweets.tweet.spacy_doc for token in doc if token.pos_=='NOUN']\n",
    "trump_noun = [token.text.lower() for doc in trump_tweets.tweet.spacy_doc for token in doc if token.pos_=='NOUN']"
   ]
  },
  {
   "cell_type": "code",
   "execution_count": null,
   "id": "interim-feeding",
   "metadata": {},
   "outputs": [],
   "source": []
  },
  {
   "cell_type": "code",
   "execution_count": null,
   "id": "emotional-drink",
   "metadata": {},
   "outputs": [],
   "source": []
  },
  {
   "cell_type": "code",
   "execution_count": null,
   "id": "offensive-archive",
   "metadata": {},
   "outputs": [],
   "source": []
  }
 ],
 "metadata": {
  "kernelspec": {
   "display_name": "Python 3",
   "language": "python",
   "name": "python3"
  },
  "language_info": {
   "codemirror_mode": {
    "name": "ipython",
    "version": 3
   },
   "file_extension": ".py",
   "mimetype": "text/x-python",
   "name": "python",
   "nbconvert_exporter": "python",
   "pygments_lexer": "ipython3",
   "version": "3.6.13"
  }
 },
 "nbformat": 4,
 "nbformat_minor": 5
}
