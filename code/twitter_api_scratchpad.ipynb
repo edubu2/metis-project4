{
 "cells": [
  {
   "cell_type": "markdown",
   "id": "golden-medicare",
   "metadata": {},
   "source": [
    "## Implementing Chris Doenlen's 'Bot Or Not' Python Module\n",
    "\n",
    "Everything from `twitter_funcs.py` was cloned from Chris' [repository](https://github.com/scrapfishies/twitter-bot-detection).\n",
    "\n",
    "I will use this to label each user as 'bot' (boolean 1/0)."
   ]
  },
  {
   "cell_type": "code",
   "execution_count": 14,
   "id": "cathedral-center",
   "metadata": {},
   "outputs": [],
   "source": [
    "import pandas as pd\n",
    "import numpy as np\n",
    "from twitter_funcs import *"
   ]
  },
  {
   "cell_type": "code",
   "execution_count": 15,
   "id": "mysterious-field",
   "metadata": {},
   "outputs": [],
   "source": [
    "tweets = pd.read_pickle(\"pickle/df_t_raw.pick\")"
   ]
  },
  {
   "cell_type": "code",
   "execution_count": 16,
   "id": "sunset-satin",
   "metadata": {},
   "outputs": [],
   "source": [
    "data = tweets[:2000]"
   ]
  },
  {
   "cell_type": "code",
   "execution_count": 17,
   "id": "limited-museum",
   "metadata": {},
   "outputs": [
    {
     "data": {
      "text/html": [
       "<div>\n",
       "<style scoped>\n",
       "    .dataframe tbody tr th:only-of-type {\n",
       "        vertical-align: middle;\n",
       "    }\n",
       "\n",
       "    .dataframe tbody tr th {\n",
       "        vertical-align: top;\n",
       "    }\n",
       "\n",
       "    .dataframe thead th {\n",
       "        text-align: right;\n",
       "    }\n",
       "</style>\n",
       "<table border=\"1\" class=\"dataframe\">\n",
       "  <thead>\n",
       "    <tr style=\"text-align: right;\">\n",
       "      <th></th>\n",
       "      <th>id</th>\n",
       "      <th>conversation_id</th>\n",
       "      <th>created_at</th>\n",
       "      <th>date</th>\n",
       "      <th>time</th>\n",
       "      <th>timezone</th>\n",
       "      <th>user_id</th>\n",
       "      <th>username</th>\n",
       "      <th>name</th>\n",
       "      <th>place</th>\n",
       "      <th>...</th>\n",
       "      <th>user_rt_id</th>\n",
       "      <th>user_rt</th>\n",
       "      <th>retweet_id</th>\n",
       "      <th>reply_to</th>\n",
       "      <th>retweet_date</th>\n",
       "      <th>translate</th>\n",
       "      <th>trans_src</th>\n",
       "      <th>trans_dest</th>\n",
       "      <th>biden</th>\n",
       "      <th>trump</th>\n",
       "    </tr>\n",
       "  </thead>\n",
       "  <tbody>\n",
       "    <tr>\n",
       "      <th>0</th>\n",
       "      <td>1321602647368019968</td>\n",
       "      <td>1321554078376226818</td>\n",
       "      <td>2020-10-28 23:59:59 UTC</td>\n",
       "      <td>2020-10-28</td>\n",
       "      <td>23:59:59</td>\n",
       "      <td>0</td>\n",
       "      <td>828075570219085824</td>\n",
       "      <td>jessferg2253</td>\n",
       "      <td>Jessa</td>\n",
       "      <td>NaN</td>\n",
       "      <td>...</td>\n",
       "      <td>NaN</td>\n",
       "      <td>NaN</td>\n",
       "      <td>NaN</td>\n",
       "      <td>[{'screen_name': 'capriaaf', 'name': 'Capria',...</td>\n",
       "      <td>NaN</td>\n",
       "      <td>NaN</td>\n",
       "      <td>NaN</td>\n",
       "      <td>NaN</td>\n",
       "      <td>1</td>\n",
       "      <td>1</td>\n",
       "    </tr>\n",
       "    <tr>\n",
       "      <th>1</th>\n",
       "      <td>1321602647129051136</td>\n",
       "      <td>1321493697565880320</td>\n",
       "      <td>2020-10-28 23:59:59 UTC</td>\n",
       "      <td>2020-10-28</td>\n",
       "      <td>23:59:59</td>\n",
       "      <td>0</td>\n",
       "      <td>255255428</td>\n",
       "      <td>margculbster</td>\n",
       "      <td>margaret c</td>\n",
       "      <td>NaN</td>\n",
       "      <td>...</td>\n",
       "      <td>NaN</td>\n",
       "      <td>NaN</td>\n",
       "      <td>NaN</td>\n",
       "      <td>[{'screen_name': 'Changinglenses', 'name': 'La...</td>\n",
       "      <td>NaN</td>\n",
       "      <td>NaN</td>\n",
       "      <td>NaN</td>\n",
       "      <td>NaN</td>\n",
       "      <td>1</td>\n",
       "      <td>0</td>\n",
       "    </tr>\n",
       "    <tr>\n",
       "      <th>2</th>\n",
       "      <td>1321602646973755395</td>\n",
       "      <td>1321602646973755395</td>\n",
       "      <td>2020-10-28 23:59:59 UTC</td>\n",
       "      <td>2020-10-28</td>\n",
       "      <td>23:59:59</td>\n",
       "      <td>0</td>\n",
       "      <td>15863393</td>\n",
       "      <td>katehinds</td>\n",
       "      <td>Kate Hinds</td>\n",
       "      <td>NaN</td>\n",
       "      <td>...</td>\n",
       "      <td>NaN</td>\n",
       "      <td>NaN</td>\n",
       "      <td>NaN</td>\n",
       "      <td>[]</td>\n",
       "      <td>NaN</td>\n",
       "      <td>NaN</td>\n",
       "      <td>NaN</td>\n",
       "      <td>NaN</td>\n",
       "      <td>1</td>\n",
       "      <td>1</td>\n",
       "    </tr>\n",
       "  </tbody>\n",
       "</table>\n",
       "<p>3 rows × 38 columns</p>\n",
       "</div>"
      ],
      "text/plain": [
       "                    id      conversation_id               created_at  \\\n",
       "0  1321602647368019968  1321554078376226818  2020-10-28 23:59:59 UTC   \n",
       "1  1321602647129051136  1321493697565880320  2020-10-28 23:59:59 UTC   \n",
       "2  1321602646973755395  1321602646973755395  2020-10-28 23:59:59 UTC   \n",
       "\n",
       "         date      time  timezone             user_id      username  \\\n",
       "0  2020-10-28  23:59:59         0  828075570219085824  jessferg2253   \n",
       "1  2020-10-28  23:59:59         0           255255428  margculbster   \n",
       "2  2020-10-28  23:59:59         0            15863393     katehinds   \n",
       "\n",
       "         name place  ... user_rt_id user_rt retweet_id  \\\n",
       "0       Jessa   NaN  ...        NaN     NaN        NaN   \n",
       "1  margaret c   NaN  ...        NaN     NaN        NaN   \n",
       "2  Kate Hinds   NaN  ...        NaN     NaN        NaN   \n",
       "\n",
       "                                            reply_to retweet_date  translate  \\\n",
       "0  [{'screen_name': 'capriaaf', 'name': 'Capria',...          NaN        NaN   \n",
       "1  [{'screen_name': 'Changinglenses', 'name': 'La...          NaN        NaN   \n",
       "2                                                 []          NaN        NaN   \n",
       "\n",
       "   trans_src  trans_dest biden trump  \n",
       "0        NaN         NaN     1     1  \n",
       "1        NaN         NaN     1     0  \n",
       "2        NaN         NaN     1     1  \n",
       "\n",
       "[3 rows x 38 columns]"
      ]
     },
     "execution_count": 17,
     "metadata": {},
     "output_type": "execute_result"
    }
   ],
   "source": [
    "data.head(3)"
   ]
  },
  {
   "cell_type": "code",
   "execution_count": null,
   "id": "alert-teddy",
   "metadata": {},
   "outputs": [],
   "source": [
    "bot_probas = {}\n",
    "\n",
    "\n",
    "usernames = set(data.username.unique())\n",
    "for user in usernames:\n",
    "    bot_probas[user] = bot_proba('username')\n",
    "    \n",
    "data['bot_proba'] = data['username'].map(bot_probas)\n",
    "data.bot_proba.value_counts()"
   ]
  },
  {
   "cell_type": "code",
   "execution_count": 10,
   "id": "declared-moderator",
   "metadata": {},
   "outputs": [
    {
     "name": "stderr",
     "output_type": "stream",
     "text": [
      "<ipython-input-10-bd5211dab520>:1: SettingWithCopyWarning: \n",
      "A value is trying to be set on a copy of a slice from a DataFrame.\n",
      "Try using .loc[row_indexer,col_indexer] = value instead\n",
      "\n",
      "See the caveats in the documentation: https://pandas.pydata.org/pandas-docs/stable/user_guide/indexing.html#returning-a-view-versus-a-copy\n",
      "  data['bot_proba'] = data['username'].map(bot_proba)\n"
     ]
    },
    {
     "data": {
      "text/plain": [
       "0    NaN\n",
       "1    NaN\n",
       "2    NaN\n",
       "3    NaN\n",
       "4    NaN\n",
       "      ..\n",
       "95   NaN\n",
       "96   NaN\n",
       "97   NaN\n",
       "98   NaN\n",
       "99   NaN\n",
       "Name: bot_proba, Length: 100, dtype: float64"
      ]
     },
     "execution_count": 10,
     "metadata": {},
     "output_type": "execute_result"
    }
   ],
   "source": [
    "\n",
    "data.bot_proba"
   ]
  },
  {
   "cell_type": "code",
   "execution_count": 12,
   "id": "revised-antarctica",
   "metadata": {},
   "outputs": [
    {
     "data": {
      "text/plain": [
       "Series([], Name: bot_proba, dtype: int64)"
      ]
     },
     "execution_count": 12,
     "metadata": {},
     "output_type": "execute_result"
    }
   ],
   "source": [
    "data.bot_proba.value_counts()"
   ]
  },
  {
   "cell_type": "code",
   "execution_count": null,
   "id": "continental-century",
   "metadata": {},
   "outputs": [],
   "source": []
  }
 ],
 "metadata": {
  "kernelspec": {
   "display_name": "Python [conda env:metis] *",
   "language": "python",
   "name": "conda-env-metis-py"
  },
  "language_info": {
   "codemirror_mode": {
    "name": "ipython",
    "version": 3
   },
   "file_extension": ".py",
   "mimetype": "text/x-python",
   "name": "python",
   "nbconvert_exporter": "python",
   "pygments_lexer": "ipython3",
   "version": "3.8.6"
  }
 },
 "nbformat": 4,
 "nbformat_minor": 5
}
