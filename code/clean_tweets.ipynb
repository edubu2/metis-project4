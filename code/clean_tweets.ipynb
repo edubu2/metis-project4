{
 "cells": [
  {
   "cell_type": "code",
   "execution_count": 1,
   "id": "authorized-berlin",
   "metadata": {},
   "outputs": [],
   "source": [
    "import pickle\n",
    "import re\n",
    "import string\n",
    "import pandas as pd\n",
    "import numpy as np\n",
    "\n",
    "from textblob import TextBlob\n",
    "from collections import Counter\n",
    "\n",
    "from langdetect import detect\n",
    "\n",
    "from sklearn.feature_extraction.text import CountVectorizer\n",
    "from sklearn.model_selection import train_test_split\n",
    "from sklearn.decomposition import NMF, LatentDirichletAllocation\n",
    "\n",
    "import nltk\n",
    "from nltk.tokenize import TweetTokenizer, word_tokenize\n",
    "from nltk.stem import PorterStemmer, WordNetLemmatizer\n",
    "\n",
    "from vaderSentiment.vaderSentiment import SentimentIntensityAnalyzer\n"
   ]
  },
  {
   "cell_type": "code",
   "execution_count": 2,
   "id": "integral-rebate",
   "metadata": {},
   "outputs": [],
   "source": [
    "pd.set_option('display.max_rows', 100)\n",
    "pd.set_option('display.max_columns', 40)\n",
    "pd.set_option('display.max_colwidth', None)"
   ]
  },
  {
   "cell_type": "code",
   "execution_count": 3,
   "id": "inner-might",
   "metadata": {},
   "outputs": [],
   "source": [
    "# must uncomment & run the first time to DOWNLOAD NLTK data\n",
    "# I used package identifier 'popular'\n",
    "# nltk.download()"
   ]
  },
  {
   "cell_type": "code",
   "execution_count": 4,
   "id": "macro-shepherd",
   "metadata": {},
   "outputs": [
    {
     "data": {
      "text/plain": [
       "(570189, 9)"
      ]
     },
     "execution_count": 4,
     "metadata": {},
     "output_type": "execute_result"
    }
   ],
   "source": [
    "data = pd.read_pickle(\"pickle/df_ALL_TWEETS_raw.pick\")\n",
    "data.shape"
   ]
  },
  {
   "cell_type": "code",
   "execution_count": 5,
   "id": "regional-mainland",
   "metadata": {},
   "outputs": [
    {
     "data": {
      "text/html": [
       "<div>\n",
       "<style scoped>\n",
       "    .dataframe tbody tr th:only-of-type {\n",
       "        vertical-align: middle;\n",
       "    }\n",
       "\n",
       "    .dataframe tbody tr th {\n",
       "        vertical-align: top;\n",
       "    }\n",
       "\n",
       "    .dataframe thead th {\n",
       "        text-align: right;\n",
       "    }\n",
       "</style>\n",
       "<table border=\"1\" class=\"dataframe\">\n",
       "  <thead>\n",
       "    <tr style=\"text-align: right;\">\n",
       "      <th></th>\n",
       "      <th>id</th>\n",
       "      <th>date</th>\n",
       "      <th>time</th>\n",
       "      <th>user_id</th>\n",
       "      <th>username</th>\n",
       "      <th>hashtags</th>\n",
       "      <th>trump</th>\n",
       "      <th>biden</th>\n",
       "      <th>original</th>\n",
       "    </tr>\n",
       "  </thead>\n",
       "  <tbody>\n",
       "    <tr>\n",
       "      <th>1</th>\n",
       "      <td>1313630113821581312</td>\n",
       "      <td>2020-10-06</td>\n",
       "      <td>23:59:59</td>\n",
       "      <td>1299543389092884480</td>\n",
       "      <td>nutzwhat</td>\n",
       "      <td>[]</td>\n",
       "      <td>False</td>\n",
       "      <td>True</td>\n",
       "      <td>@Astraea_Muse @DontBanMeBro7 @RonColeman @JoeBiden @LLinWood @ToddMcMurtry @MarinaMedvin So concerned about teens with guns?  What are your thoughts on Chicago, tough guy?</td>\n",
       "    </tr>\n",
       "    <tr>\n",
       "      <th>3</th>\n",
       "      <td>1313630112609456128</td>\n",
       "      <td>2020-10-06</td>\n",
       "      <td>23:59:59</td>\n",
       "      <td>141645754</td>\n",
       "      <td>davidkgather</td>\n",
       "      <td>[]</td>\n",
       "      <td>False</td>\n",
       "      <td>True</td>\n",
       "      <td>LIVE: “Battle for the Soul of the Nation”- Joe Biden Speech in Gettysbur...  https://t.co/Vz7sXiAbfh via @YouTube</td>\n",
       "    </tr>\n",
       "    <tr>\n",
       "      <th>4</th>\n",
       "      <td>1313630112500326404</td>\n",
       "      <td>2020-10-06</td>\n",
       "      <td>23:59:59</td>\n",
       "      <td>5510112</td>\n",
       "      <td>spaceweasel</td>\n",
       "      <td>[]</td>\n",
       "      <td>False</td>\n",
       "      <td>True</td>\n",
       "      <td>Biden raises eyebrows after telling 'these beautiful young ladies' he wants to 'see them dancing when they're four years older'   https://t.co/DTME8CXWHr</td>\n",
       "    </tr>\n",
       "  </tbody>\n",
       "</table>\n",
       "</div>"
      ],
      "text/plain": [
       "                    id       date      time              user_id  \\\n",
       "1  1313630113821581312 2020-10-06  23:59:59  1299543389092884480   \n",
       "3  1313630112609456128 2020-10-06  23:59:59            141645754   \n",
       "4  1313630112500326404 2020-10-06  23:59:59              5510112   \n",
       "\n",
       "       username hashtags  trump  biden  \\\n",
       "1      nutzwhat       []  False   True   \n",
       "3  davidkgather       []  False   True   \n",
       "4   spaceweasel       []  False   True   \n",
       "\n",
       "                                                                                                                                                                      original  \n",
       "1  @Astraea_Muse @DontBanMeBro7 @RonColeman @JoeBiden @LLinWood @ToddMcMurtry @MarinaMedvin So concerned about teens with guns?  What are your thoughts on Chicago, tough guy?  \n",
       "3                                                            LIVE: “Battle for the Soul of the Nation”- Joe Biden Speech in Gettysbur...  https://t.co/Vz7sXiAbfh via @YouTube  \n",
       "4                    Biden raises eyebrows after telling 'these beautiful young ladies' he wants to 'see them dancing when they're four years older'   https://t.co/DTME8CXWHr  "
      ]
     },
     "execution_count": 5,
     "metadata": {},
     "output_type": "execute_result"
    }
   ],
   "source": [
    "# keep only necessary columns\n",
    "data['original'] = data.tweet\n",
    "data.drop(columns='tweet', inplace=True)\n",
    "data.head(3)"
   ]
  },
  {
   "cell_type": "markdown",
   "id": "welsh-highway",
   "metadata": {},
   "source": [
    "## Pre-Processing Pipeline\n",
    "\n",
    "Now it's time to tokenize our tweets. Here are our pre-processing steps:\n",
    "* Remove URLs\n",
    "* Remove Twitter handles\n",
    "* Remove numbers\n",
    "* Convert to lowercase\n",
    "* Remove punctuation\n",
    "* Remove repeated letters so spell check will work ('aaaaand' -> 'aand')\n",
    "* Remove non-English words\n",
    "* Remove stop words\n",
    "\n",
    "Since we're working with so many different words, I've chosen to use **lemmatization** instead of stemming for two reasons:\n",
    "1. Lemmatization accurately reduces words to true meaning\n",
    "2. Inxreased word reduction (handles synonyms)"
   ]
  },
  {
   "cell_type": "code",
   "execution_count": 6,
   "id": "motivated-providence",
   "metadata": {},
   "outputs": [],
   "source": [
    "# nltk.download() # must run first time (download 'popular')"
   ]
  },
  {
   "cell_type": "code",
   "execution_count": 7,
   "id": "catholic-honduras",
   "metadata": {},
   "outputs": [],
   "source": [
    "# custom word dictionaries\n",
    "from more_words import more_words as custom_words\n",
    "from stop_words import stop_words as custom_stop_words\n",
    "from bigrams import bigrams\n",
    "\n",
    "import time\n",
    "import nltk\n",
    "from nltk.corpus import words, stopwords\n",
    "\n",
    "def clean_tweet(tweet):\n",
    "    \"\"\"Pre-processing pipeline.\"\"\"\n",
    "    \n",
    "    tweet = tweet.lower()\n",
    "    tweet = re.sub(r\"u\\.s\\. \", \"usa\", tweet)\n",
    "    tweet = re.sub(r\"https?:\\/\\/\\S+\", \"\", tweet)\n",
    "    tweet = re.sub(r'\\w*\\d\\w*', ' ', tweet)\n",
    "    tweet = re.sub(r'\\.{2,6}', ' ', tweet)\n",
    "    tweet = tweet.translate(str.maketrans('', '', string.punctuation))\n",
    "    tweet = re.sub(r\"([a-z])\\1{2,5}\", r'\\1', tweet)\n",
    "    tweet = ' '.join(tweet.split())\n",
    "    \n",
    "    for old, new in bigrams:\n",
    "        tweet = re.sub(old, new, tweet) # ex: ('white house', 'whitehouse')\n",
    "    \n",
    "    return tweet\n",
    "\n",
    "def tokenize(tweet, all_words, stop_words):\n",
    "    \"\"\"\n",
    "    Returns all of the tokens in a cleaned tweet\n",
    "    Parameters:\n",
    "        - tweet (Series, required)\n",
    "        - stop_words (set, required)\n",
    "        - all_words (set, required) \n",
    "        \n",
    "    Note:\n",
    "        - any words not included in all_words here will be\n",
    "          removed from tokens (including bigrams)\n",
    "    \"\"\"\n",
    "    \n",
    "    tweet = clean_tweet(tweet)\n",
    "    \n",
    "    twt = TweetTokenizer()    \n",
    "    lemm = WordNetLemmatizer()  \n",
    "    # lemmatize tokens & remove stop words\n",
    "    tokens = [lemm.lemmatize(token) for token in twt.tokenize(tweet) if token not in stop_words]\n",
    "    # only include words that are in our customized list of words\n",
    "    tokens = [token for token in tokens if token in all_words]\n",
    "    tokens = list(set(tokens))\n",
    "    combined_tokens = ' '.join(tokens)\n",
    "\n",
    "    return combined_tokens\n",
    "\n",
    "def clean_and_tokenize(original_tweets):\n",
    "    \"\"\"\n",
    "    Efficiently cleans, tokenizes, lemmatizes, and implements customized\n",
    "    bigrams on a list of tweets.\n",
    "    \n",
    "    Parameters:\n",
    "        original_tweets (required, pd.Series)\n",
    "    \n",
    "    Returns:\n",
    "        cleaned, tokenized tweets (list)\n",
    "    \"\"\"\n",
    "    tweet_array = list(original_tweets)\n",
    "\n",
    "    all_words = set(list(words.words('en')) + custom_words + [new for _, new in bigrams])\n",
    "    stop_words = set(list(stopwords.words('english')) + custom_stop_words)\n",
    "    \n",
    "    print(\"num words: \", len(all_words))\n",
    "    print(\"num stop words: \", len(stop_words))\n",
    "    \n",
    "    clean_tweets = [tokenize(tweet, all_words, stop_words) for tweet in tweet_array]\n",
    "    \n",
    "    return clean_tweets"
   ]
  },
  {
   "cell_type": "code",
   "execution_count": 8,
   "id": "revised-powder",
   "metadata": {},
   "outputs": [
    {
     "name": "stdout",
     "output_type": "stream",
     "text": [
      "num words:  236142\n",
      "num stop words:  430\n",
      "CPU times: user 3min 51s, sys: 304 ms, total: 3min 51s\n",
      "Wall time: 3min 51s\n"
     ]
    },
    {
     "data": {
      "text/plain": [
       "(570189, 10)"
      ]
     },
     "execution_count": 8,
     "metadata": {},
     "output_type": "execute_result"
    }
   ],
   "source": [
    "%%time\n",
    "\n",
    "data['tweet'] = clean_and_tokenize(data.original)\n",
    "data.shape"
   ]
  },
  {
   "cell_type": "code",
   "execution_count": 27,
   "id": "studied-daily",
   "metadata": {},
   "outputs": [
    {
     "data": {
      "text/plain": [
       "(389371, 11)"
      ]
     },
     "execution_count": 27,
     "metadata": {},
     "output_type": "execute_result"
    }
   ],
   "source": [
    "from nltk import word_tokenize\n",
    "data['num_tokens'] = data['tweet'].str.count(' ') + 1\n",
    "\n",
    "mask = data['num_tokens'] >= 7\n",
    "data_minlen = data[mask]\n",
    "data_minlen.shape"
   ]
  },
  {
   "cell_type": "code",
   "execution_count": 28,
   "id": "bibliographic-warehouse",
   "metadata": {},
   "outputs": [
    {
     "data": {
      "text/plain": [
       "(389371, 11)"
      ]
     },
     "execution_count": 28,
     "metadata": {},
     "output_type": "execute_result"
    }
   ],
   "source": [
    "data_minlen.shape"
   ]
  },
  {
   "cell_type": "code",
   "execution_count": 29,
   "id": "twenty-heart",
   "metadata": {},
   "outputs": [
    {
     "name": "stdout",
     "output_type": "stream",
     "text": [
      "\n",
      " Trump Tweets 172455\n",
      "\n",
      " Biden Tweets: 116100\n"
     ]
    }
   ],
   "source": [
    "mask = (data_minlen.trump == 0) & (data_minlen.biden == 1)\n",
    "biden = data_minlen[mask]\n",
    "mask = (data_minlen.trump ==1) & (data_minlen.biden == 0)\n",
    "trump = data_minlen[mask]\n",
    "\n",
    "print(f\"\\n Trump Tweets {len(trump)}\\n\\n Biden Tweets: {len(biden)}\",)\n",
    "\n"
   ]
  },
  {
   "cell_type": "code",
   "execution_count": 30,
   "id": "casual-delay",
   "metadata": {},
   "outputs": [],
   "source": [
    "data_minlen.to_pickle(\"pickle/n2tk_limited.pick\")"
   ]
  },
  {
   "cell_type": "code",
   "execution_count": 13,
   "id": "egyptian-surface",
   "metadata": {},
   "outputs": [
    {
     "data": {
      "text/html": [
       "<div>\n",
       "<style scoped>\n",
       "    .dataframe tbody tr th:only-of-type {\n",
       "        vertical-align: middle;\n",
       "    }\n",
       "\n",
       "    .dataframe tbody tr th {\n",
       "        vertical-align: top;\n",
       "    }\n",
       "\n",
       "    .dataframe thead th {\n",
       "        text-align: right;\n",
       "    }\n",
       "</style>\n",
       "<table border=\"1\" class=\"dataframe\">\n",
       "  <thead>\n",
       "    <tr style=\"text-align: right;\">\n",
       "      <th></th>\n",
       "      <th>original</th>\n",
       "      <th>tweet</th>\n",
       "    </tr>\n",
       "  </thead>\n",
       "  <tbody>\n",
       "    <tr>\n",
       "      <th>576394</th>\n",
       "      <td>@EricTrump @imwatchinU58 And what did your father do all of those years besides several bankruptcies, stealing from charities not paying his workers, even scammed Canadian agencies that he owed money to re Trump University etc. Your father isn’t qualified to lick Joe Biden’s boots. Worse president ever.</td>\n",
       "      <td>qualified agency joebiden erictrump money donaldtrump besides university several worse year lick worker boot paying bankruptcy charity stealing</td>\n",
       "    </tr>\n",
       "    <tr>\n",
       "      <th>901589</th>\n",
       "      <td>@MetsWes Same a wins a win and this shows that even if Trump wins Florida, Georgia and Ohio Biden can still win</td>\n",
       "      <td>win joebiden show donaldtrump</td>\n",
       "    </tr>\n",
       "    <tr>\n",
       "      <th>17869</th>\n",
       "      <td>@saletan @jaketapper @KBeds I voted early for Joe Biden  But you don’t have to spin the way of Kellyanne Conway &amp;amp; her ilk   Stay off the tv @KBeds   I’m absolutely disgusted &amp;amp; nauseated by any hint of condescending smirking spin! @JoeBiden @K_JeanPierre   Be straight cuz he’s in the right!</td>\n",
       "      <td>joebiden spin ilk condescending disgusted absolutely hint smirking straight stay</td>\n",
       "    </tr>\n",
       "    <tr>\n",
       "      <th>826015</th>\n",
       "      <td>.@#The Minnesota Governor Just Gave The State To Donald Trump,  Its All Outside, So What's The Difference, You Just Made The Minnesota Ppl Mad, They Will Vote Fir Trump, Thank You Governor, You Dumbass  ...</td>\n",
       "      <td>governor outside donaldtrump</td>\n",
       "    </tr>\n",
       "    <tr>\n",
       "      <th>614868</th>\n",
       "      <td>Hey @LindseyGrahamSC I donated $5 to @harrisonjaime because I think you’re corrupt, despicable, and so far up Trump’s ass you don’t even know how to work for the people of this country anymore! If you’re worried I’ll give you all my information.</td>\n",
       "      <td>as corrupt despicable information donated worried far hey donaldtrump</td>\n",
       "    </tr>\n",
       "    <tr>\n",
       "      <th>73211</th>\n",
       "      <td>@Swashbucklist @QuinnSimmons9 Only a matter of time before Trump supporters aren’t allowed to go out in public or hold public office.   The Democrats playbook isn’t new.</td>\n",
       "      <td>trumpsupporter public playbook hold democrat</td>\n",
       "    </tr>\n",
       "    <tr>\n",
       "      <th>827821</th>\n",
       "      <td>@hitforhat @tomsegura @VicBergerIV How do you idiots look at trump like he's a pinnacle of strength? That orange shit really works...</td>\n",
       "      <td>orange pinnacle strength work idiot he donaldtrump</td>\n",
       "    </tr>\n",
       "    <tr>\n",
       "      <th>175739</th>\n",
       "      <td>@mindnotforrent I don't know what you mean.  Ukraine side of what convo?  Vindman left out what?  I'm referring to the official transcript of the Trump/Zelensky call when I say Burisma wasn't mentioned.</td>\n",
       "      <td>side call official transcript wasnt</td>\n",
       "    </tr>\n",
       "    <tr>\n",
       "      <th>367600</th>\n",
       "      <td>@xxnezumi @JoeBiden Stay home - you'll be wasting your time and energy. Also . . .   I like presidents who aren't RAPISTS.   Keep safe. 👍</td>\n",
       "      <td>joebiden safe energy president wasting home arent rapist stay</td>\n",
       "    </tr>\n",
       "    <tr>\n",
       "      <th>619922</th>\n",
       "      <td>Biden Botches Trump Attack, Loses Temper as Dem. Voter  https://t.co/vdjxHFqAJs (Liberty Headlines) Former Vice President Joe Biden grew angry at his town hall in New Hampton, Iowa, when an 83-year-old retired farmer pressed him about his son Hunter Biden accepting a lucrative pos</td>\n",
       "      <td>headline hunterbiden attack angry lucrative grew retired botch vicepresident town po temper donaldtrump joebiden farmer hall voter liberty former</td>\n",
       "    </tr>\n",
       "    <tr>\n",
       "      <th>50522</th>\n",
       "      <td>Top story: @JoeBiden: 'Donald Trump can lie about the economy all he wants, but the truth is he’s the worst jobs president since 1929. '  https://t.co/CNspoMj8rA, see more  https://t.co/bnfrzIUEet</td>\n",
       "      <td>truth joebiden job since worst top story economy lie want donaldtrump</td>\n",
       "    </tr>\n",
       "    <tr>\n",
       "      <th>974405</th>\n",
       "      <td>@Julio_Noguera @Presidencia_VE Lo que si es una realidad, es que si gana Biden, pueden olvidarse los venezolanos de una Venezuela libre del chavismo...cambiarán las manos en el negocio, pero los chavistas SIEMPRE serán parte del problema.</td>\n",
       "      <td>joebiden la e</td>\n",
       "    </tr>\n",
       "    <tr>\n",
       "      <th>878536</th>\n",
       "      <td>I didn’t riot for George Floyd and Brianna Taylor and that was wrong of me, my heart hurt so bad. But if Trump wins Ima be ready!</td>\n",
       "      <td>win hurt heart riot donaldtrump</td>\n",
       "    </tr>\n",
       "    <tr>\n",
       "      <th>265117</th>\n",
       "      <td>@JudyRademacher4 @NotATweeter16 @Acosta If your god tells you trumps your guy- I don’t need any help from that idiot</td>\n",
       "      <td>trump god idiot help tell</td>\n",
       "    </tr>\n",
       "    <tr>\n",
       "      <th>179740</th>\n",
       "      <td>@realDonaldTrump \"Trump was told that Russia was using Giuliani to spread disinfo to influence the election.  He encouraged Rudy’s efforts and welcomed the help from Russia. If that sounds familiar, it’s because it is.  The same thing happened in 2016. This is collusion. Again.\"  Daniel Goldman</td>\n",
       "      <td>collusion sound familiar effort russia spread help influence donaldtrump</td>\n",
       "    </tr>\n",
       "  </tbody>\n",
       "</table>\n",
       "</div>"
      ],
      "text/plain": [
       "                                                                                                                                                                                                                                                                                                                original  \\\n",
       "576394  @EricTrump @imwatchinU58 And what did your father do all of those years besides several bankruptcies, stealing from charities not paying his workers, even scammed Canadian agencies that he owed money to re Trump University etc. Your father isn’t qualified to lick Joe Biden’s boots. Worse president ever.   \n",
       "901589                                                                                                                                                                                                   @MetsWes Same a wins a win and this shows that even if Trump wins Florida, Georgia and Ohio Biden can still win   \n",
       "17869         @saletan @jaketapper @KBeds I voted early for Joe Biden  But you don’t have to spin the way of Kellyanne Conway &amp; her ilk   Stay off the tv @KBeds   I’m absolutely disgusted &amp; nauseated by any hint of condescending smirking spin! @JoeBiden @K_JeanPierre   Be straight cuz he’s in the right!   \n",
       "826015                                                                                                    .@#The Minnesota Governor Just Gave The State To Donald Trump,  Its All Outside, So What's The Difference, You Just Made The Minnesota Ppl Mad, They Will Vote Fir Trump, Thank You Governor, You Dumbass  ...   \n",
       "614868                                                             Hey @LindseyGrahamSC I donated $5 to @harrisonjaime because I think you’re corrupt, despicable, and so far up Trump’s ass you don’t even know how to work for the people of this country anymore! If you’re worried I’ll give you all my information.   \n",
       "73211                                                                                                                                          @Swashbucklist @QuinnSimmons9 Only a matter of time before Trump supporters aren’t allowed to go out in public or hold public office.   The Democrats playbook isn’t new.   \n",
       "827821                                                                                                                                                                             @hitforhat @tomsegura @VicBergerIV How do you idiots look at trump like he's a pinnacle of strength? That orange shit really works...   \n",
       "175739                                                                                                        @mindnotforrent I don't know what you mean.  Ukraine side of what convo?  Vindman left out what?  I'm referring to the official transcript of the Trump/Zelensky call when I say Burisma wasn't mentioned.   \n",
       "367600                                                                                                                                                                         @xxnezumi @JoeBiden Stay home - you'll be wasting your time and energy. Also . . .   I like presidents who aren't RAPISTS.   Keep safe. 👍   \n",
       "619922                         Biden Botches Trump Attack, Loses Temper as Dem. Voter  https://t.co/vdjxHFqAJs (Liberty Headlines) Former Vice President Joe Biden grew angry at his town hall in New Hampton, Iowa, when an 83-year-old retired farmer pressed him about his son Hunter Biden accepting a lucrative pos   \n",
       "50522                                                                                                               Top story: @JoeBiden: 'Donald Trump can lie about the economy all he wants, but the truth is he’s the worst jobs president since 1929. '  https://t.co/CNspoMj8rA, see more  https://t.co/bnfrzIUEet   \n",
       "974405                                                                    @Julio_Noguera @Presidencia_VE Lo que si es una realidad, es que si gana Biden, pueden olvidarse los venezolanos de una Venezuela libre del chavismo...cambiarán las manos en el negocio, pero los chavistas SIEMPRE serán parte del problema.   \n",
       "878536                                                                                                                                                                                 I didn’t riot for George Floyd and Brianna Taylor and that was wrong of me, my heart hurt so bad. But if Trump wins Ima be ready!   \n",
       "265117                                                                                                                                                                                              @JudyRademacher4 @NotATweeter16 @Acosta If your god tells you trumps your guy- I don’t need any help from that idiot   \n",
       "179740           @realDonaldTrump \"Trump was told that Russia was using Giuliani to spread disinfo to influence the election.  He encouraged Rudy’s efforts and welcomed the help from Russia. If that sounds familiar, it’s because it is.  The same thing happened in 2016. This is collusion. Again.\"  Daniel Goldman   \n",
       "\n",
       "                                                                                                                                                    tweet  \n",
       "576394    qualified agency joebiden erictrump money donaldtrump besides university several worse year lick worker boot paying bankruptcy charity stealing  \n",
       "901589                                                                                                                      win joebiden show donaldtrump  \n",
       "17869                                                                    joebiden spin ilk condescending disgusted absolutely hint smirking straight stay  \n",
       "826015                                                                                                                       governor outside donaldtrump  \n",
       "614868                                                                              as corrupt despicable information donated worried far hey donaldtrump  \n",
       "73211                                                                                                        trumpsupporter public playbook hold democrat  \n",
       "827821                                                                                                 orange pinnacle strength work idiot he donaldtrump  \n",
       "175739                                                                                                                side call official transcript wasnt  \n",
       "367600                                                                                      joebiden safe energy president wasting home arent rapist stay  \n",
       "619922  headline hunterbiden attack angry lucrative grew retired botch vicepresident town po temper donaldtrump joebiden farmer hall voter liberty former  \n",
       "50522                                                                               truth joebiden job since worst top story economy lie want donaldtrump  \n",
       "974405                                                                                                                                      joebiden la e  \n",
       "878536                                                                                                                    win hurt heart riot donaldtrump  \n",
       "265117                                                                                                                          trump god idiot help tell  \n",
       "179740                                                                           collusion sound familiar effort russia spread help influence donaldtrump  "
      ]
     },
     "execution_count": 13,
     "metadata": {},
     "output_type": "execute_result"
    }
   ],
   "source": [
    "data[['original', 'tweet']].sample(15)"
   ]
  },
  {
   "cell_type": "code",
   "execution_count": 14,
   "id": "geological-homework",
   "metadata": {},
   "outputs": [],
   "source": [
    "# data.to_pickle(\"pickle/tweets_df_5000tw.pick\")"
   ]
  },
  {
   "cell_type": "code",
   "execution_count": 15,
   "id": "confused-competition",
   "metadata": {},
   "outputs": [
    {
     "name": "stdout",
     "output_type": "stream",
     "text": [
      "num words:  236142\n",
      "num stop words:  430\n"
     ]
    },
    {
     "data": {
      "text/plain": [
       "['joebiden breakdown mikepence tweet continuous votingrights']"
      ]
     },
     "execution_count": 15,
     "metadata": {},
     "output_type": "execute_result"
    }
   ],
   "source": [
    "sample = 'tweet tokenize me please mr. biden helloaskldjalksfj I  pence    voting rights am asking for a favor continuous breakdown American Americans'\n",
    "\n",
    "clean_and_tokenize(pd.Series(sample))\n"
   ]
  },
  {
   "cell_type": "code",
   "execution_count": 16,
   "id": "growing-night",
   "metadata": {},
   "outputs": [
    {
     "data": {
      "text/plain": [
       "'organization'"
      ]
     },
     "execution_count": 16,
     "metadata": {},
     "output_type": "execute_result"
    }
   ],
   "source": [
    "lemm = WordNetLemmatizer()\n",
    "lemm.lemmatize('organizations')"
   ]
  }
 ],
 "metadata": {
  "kernelspec": {
   "display_name": "Python 3",
   "language": "python",
   "name": "python3"
  },
  "language_info": {
   "codemirror_mode": {
    "name": "ipython",
    "version": 3
   },
   "file_extension": ".py",
   "mimetype": "text/x-python",
   "name": "python",
   "nbconvert_exporter": "python",
   "pygments_lexer": "ipython3",
   "version": "3.8.6"
  }
 },
 "nbformat": 4,
 "nbformat_minor": 5
}
