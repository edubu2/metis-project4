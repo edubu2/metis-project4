{
 "cells": [
  {
   "cell_type": "code",
   "execution_count": 1,
   "id": "typical-frontier",
   "metadata": {},
   "outputs": [],
   "source": [
    "import twint\n",
    "import pandas as pd\n",
    "import nest_asyncio\n",
    "nest_asyncio.apply()\n",
    "pd.options.display.max_columns = 40\n"
   ]
  },
  {
   "cell_type": "code",
   "execution_count": 7,
   "id": "challenging-flooring",
   "metadata": {},
   "outputs": [],
   "source": [
    "import datetime as dt\n",
    "import time\n",
    "import random\n",
    "\n",
    "def arrange_dates(start_date, end_date):\n",
    "    \"\"\"Used in the get_election_tweets func. \"\"\"\n",
    "    \n",
    "    dates = []\n",
    "    delta = end_date - start_date\n",
    "    \n",
    "    for i in range(delta.days + 1):\n",
    "        day = start_date + dt.timedelta(days=i)\n",
    "        dates.append(day)\n",
    "    \n",
    "    return dates\n",
    "\n",
    "def get_election_tweets(tweets_per_day=5000, start_date=\"2020-10-01\", end_date=\"2020-11-03\"):\n",
    "    \n",
    "    # get a list of dates\n",
    "    f = \"%Y-%m-%d\"\n",
    "    sd = dt.datetime.strptime(start_date, f)\n",
    "    ed = dt.datetime.strptime(end_date, f)\n",
    "    dates = arrange_dates(sd, ed)\n",
    "    candidates = ['Biden', 'Trump']\n",
    "    \n",
    "    # fetch tweets & save CSVs (each CSV contains one day/candidate)\n",
    "    \n",
    "    lam_plus_1 = lambda x: (x + dt.timedelta(days=1)).strftime(\"%Y-%m-%d\")\n",
    "    wait_time = 60 # seconds; will use for sleep timer to avoid 'client payload' error\n",
    "    print(\"Waiting 60 seconds...\")\n",
    "    time.sleep(60)\n",
    "    for date in dates:\n",
    "        for candidate in candidates:\n",
    "            \n",
    "            d = date.strftime(\"%Y-%m-%d\")            \n",
    "            print(f\"\"\"\\n Begin scraping {candidate}'s tweets on {d}\\n \\n\"\"\")\n",
    "            outfile = f\"./pickle/tweets/{candidate}_{d}.csv\"\n",
    "            \n",
    "            # twint search query details\n",
    "            c = twint.Config()\n",
    "            c.Search = candidate\n",
    "            c.Lang = 'en'\n",
    "            c.Since = d\n",
    "            c.Until = lam_plus_1(date)\n",
    "            c.Limit = tweets_per_day\n",
    "            c.Store_csv = True\n",
    "            c.Output = outfile\n",
    "            \n",
    "            # run the search\n",
    "            twint.run.Search(c)\n",
    "            print(f\"Scraping complete. File: {outfile} created.\")\n",
    "            \n",
    "            # wait some time so script does not receive 'client payload' error\n",
    "            print(f\"Waiting 60-100 seconds...\")\n",
    "            time.sleep(wait_time + random.choice([140, 240, 290]) + (5 * random.uniform(0, 1)))\n",
    "                       "
   ]
  },
  {
   "cell_type": "code",
   "execution_count": null,
   "id": "capital-peninsula",
   "metadata": {},
   "outputs": [],
   "source": [
    "get_election_tweets(start_date=\"2020-10-26\", end_date=\"2020-11-03\")"
   ]
  },
  {
   "cell_type": "code",
   "execution_count": null,
   "id": "consecutive-activation",
   "metadata": {},
   "outputs": [],
   "source": []
  },
  {
   "cell_type": "code",
   "execution_count": null,
   "id": "wooden-tulsa",
   "metadata": {},
   "outputs": [],
   "source": []
  }
 ],
 "metadata": {
  "kernelspec": {
   "display_name": "Python 3",
   "language": "python",
   "name": "python3"
  },
  "language_info": {
   "codemirror_mode": {
    "name": "ipython",
    "version": 3
   },
   "file_extension": ".py",
   "mimetype": "text/x-python",
   "name": "python",
   "nbconvert_exporter": "python",
   "pygments_lexer": "ipython3",
   "version": "3.7.9"
  }
 },
 "nbformat": 4,
 "nbformat_minor": 5
}
