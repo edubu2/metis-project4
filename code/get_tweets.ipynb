{
 "cells": [
  {
   "cell_type": "code",
   "execution_count": 1,
   "id": "typical-frontier",
   "metadata": {},
   "outputs": [],
   "source": [
    "import twint\n",
    "import pandas as pd\n",
    "import nest_asyncio\n",
    "import time\n",
    "nest_asyncio.apply()\n",
    "pd.options.display.max_columns = 40\n"
   ]
  },
  {
   "cell_type": "code",
   "execution_count": 2,
   "id": "clinical-ethics",
   "metadata": {},
   "outputs": [],
   "source": [
    "# candidate = 'Biden'\n",
    "\n",
    "# c = twint.Config()\n",
    "# c.Search = candidate\n",
    "# c.Lang = 'en'\n",
    "# c.Since = '2020-10-01'\n",
    "# c.Until = '2020-10-05'\n",
    "# c.Store_csv = True\n",
    "# c.Output = '../data/biden_tweets_all.csv'\n",
    "# c.Hide_output = True\n",
    "# twint.run.Search(c)"
   ]
  },
  {
   "cell_type": "markdown",
   "id": "hungry-stopping",
   "metadata": {},
   "source": [
    "## Scrape Tweets\n",
    "\n",
    "This is the workbook I used to create the below function.\n",
    "\n",
    "Note...this takes a while. In order to prevent Twint's `client payload error`, I had to add randomized wait times between each Twitter query. I suggest running the below cells overnight to generate the files."
   ]
  },
  {
   "cell_type": "code",
   "execution_count": 3,
   "id": "challenging-flooring",
   "metadata": {},
   "outputs": [],
   "source": [
    "import datetime as dt\n",
    "import time\n",
    "import random\n",
    "\n",
    "def arrange_dates(start_date, end_date):\n",
    "    \"\"\"Used in the get_election_tweets func. \"\"\"\n",
    "    \n",
    "    dates = []\n",
    "    delta = end_date - start_date\n",
    "    \n",
    "    for i in range(delta.days + 1):\n",
    "        day = start_date + dt.timedelta(days=i)\n",
    "        dates.append(day)\n",
    "    \n",
    "    return dates\n",
    "\n",
    "def get_election_tweets(tweets_per_day=15000, start_date=\"2020-10-01\", end_date=\"2020-11-03\"):\n",
    "    \n",
    "    # get a list of dates\n",
    "    f = \"%Y-%m-%d\"\n",
    "    sd = dt.datetime.strptime(start_date, f)\n",
    "    ed = dt.datetime.strptime(end_date, f)\n",
    "    dates = arrange_dates(sd, ed)\n",
    "    candidates = ['Biden', 'Trump']\n",
    "    \n",
    "    # fetch tweets & save CSVs (each CSV contains one day/candidate)\n",
    "    \n",
    "    lam_plus_1 = lambda x: (x + dt.timedelta(days=1)).strftime(\"%Y-%m-%d\")\n",
    "    wait_time = 50 # seconds; will use for sleep timer to avoid 'client payload' error\n",
    "    print(\"\"\"Waiting 60 seconds...\\n\"\"\")\n",
    "    time.sleep(60)\n",
    "    for date in dates:\n",
    "        for candidate in candidates:\n",
    "            \n",
    "            d = date.strftime(\"%Y-%m-%d\")            \n",
    "            print(f\"\"\"\\n Begin scraping {candidate}'s tweets on {d}\\n\"\"\")\n",
    "            outfile = f\"../data/tweets/{candidate}_{d}.csv\"\n",
    "            \n",
    "            # twint search query details\n",
    "            c = twint.Config()\n",
    "            c.Search = candidate\n",
    "            c.Lang = 'en'\n",
    "            c.Since = d\n",
    "            c.Until = lam_plus_1(date)\n",
    "            c.Limit = tweets_per_day\n",
    "            c.Store_csv = True\n",
    "            c.Output = outfile\n",
    "            c.Hide_output = True\n",
    "            \n",
    "            # run the search\n",
    "            try:\n",
    "                twint.run.Search(c)\n",
    "                print(f\"Scraping complete. File: {outfile} created.\")\n",
    "            except:\n",
    "                time.sleep(90)\n",
    "                continue\n",
    "            \n",
    "            # wait some time so script does not receive 'client payload' error\n",
    "            print(f\"Waiting 125-175 seconds...\")\n",
    "            time.sleep(wait_time + random.choice([70, 95, 120]) + (5 * random.uniform(0, 1)))\n",
    "                       "
   ]
  },
  {
   "cell_type": "code",
   "execution_count": 4,
   "id": "capital-peninsula",
   "metadata": {},
   "outputs": [],
   "source": [
    "# get_election_tweets(start_date=\"2020-10-11\", end_date=\"2020-11-02\")"
   ]
  },
  {
   "cell_type": "markdown",
   "id": "cheap-improvement",
   "metadata": {},
   "source": [
    "Alright! We now have most of our tweets, but the CSV's are incomplete on certain days. Below, I re-wrote the above function to only scrape specific days for a given candidate (to avoid re-scraping sections we've already completed successfully)."
   ]
  },
  {
   "cell_type": "code",
   "execution_count": 5,
   "id": "consecutive-activation",
   "metadata": {},
   "outputs": [],
   "source": [
    "def get_candidate_tweets(dates, tweets_per_day, candidate='Trump'):\n",
    "    \n",
    "    f = \"%Y-%m-%d\"\n",
    "    lam_plus_1 = lambda x: (x + dt.timedelta(days=1)).strftime(\"%Y-%m-%d\")\n",
    "    wait_time = 51.57848 # seconds; will use for sleep timer to avoid 'client payload' error\n",
    "    print(\"\"\"Waiting 60 seconds...\\n\"\"\")\n",
    "    time.sleep(60)\n",
    "    \n",
    "    for date in dates:\n",
    "        d = date.strftime(f)            \n",
    "        print(f\"\"\"\\n Begin scraping {candidate}'s tweets on {d}\\n\"\"\")\n",
    "        outfile = f\"../data/tweets/{candidate}_{d}.csv\"\n",
    "\n",
    "        # twint search query details\n",
    "        c = twint.Config()\n",
    "        c.Search = candidate\n",
    "        c.Lang = 'en'\n",
    "        c.Since = d\n",
    "        c.Until = lam_plus_1(date)\n",
    "        c.Limit = tweets_per_day\n",
    "        c.Store_csv = True\n",
    "        c.Output = outfile\n",
    "        c.Hide_output = True\n",
    "\n",
    "        # run the search\n",
    "        try:\n",
    "            twint.run.Search(c)\n",
    "            print(f\"Scraping complete. File: {outfile} created.\")\n",
    "        except:\n",
    "            time.sleep(90)\n",
    "            continue\n",
    "\n",
    "        # wait some time so script does not receive 'client payload' error\n",
    "        print(f\"Waiting to avoid payload error...\")\n",
    "        time.sleep(wait_time + random.choice([100.129309, 135]) + (5 * random.uniform(0, 1)))"
   ]
  },
  {
   "cell_type": "code",
   "execution_count": 6,
   "id": "wooden-tulsa",
   "metadata": {},
   "outputs": [],
   "source": [
    "trump_dates = ['2020-11-01',\n",
    "               '2020-10-07',\n",
    "               '2020-10-11', \n",
    "               '2020-10-14',\n",
    "               '2020-10-17', \n",
    "               '2020-10-19',\n",
    "               '2020-10-22',\n",
    "               '2020-10-22',\n",
    "               '2020-10-22',\n",
    "               '2020-10-22',\n",
    "               '2020-10-22']\n",
    "\n",
    "# get_candidate_tweets(trump_dates)\n",
    "\n"
   ]
  },
  {
   "cell_type": "code",
   "execution_count": 7,
   "id": "sporting-helena",
   "metadata": {},
   "outputs": [],
   "source": [
    "biden_dates = ['2020-11-02']\n",
    "# get_candidate_tweets(biden_dates, candidate='Biden')"
   ]
  },
  {
   "cell_type": "code",
   "execution_count": 8,
   "id": "every-shelf",
   "metadata": {},
   "outputs": [],
   "source": [
    "trump_dates = ['2020-10-11']\n",
    "# get_candidate_tweets(trump_dates, candidate='Trump')"
   ]
  },
  {
   "cell_type": "code",
   "execution_count": 9,
   "id": "racial-direction",
   "metadata": {},
   "outputs": [],
   "source": [
    "trump_dates = ['2020-10-17']\n",
    "# get_candidate_tweets(trump_dates, candidate='Trump')"
   ]
  },
  {
   "cell_type": "markdown",
   "id": "chinese-victor",
   "metadata": {},
   "source": [
    "## Pulling all candidate tweets from one day\n",
    "\n",
    "This is not as easy as I hoped. `Twint` repeatedly fails when trying to pull so many tweets. To combat this, I've implemented a Try/Except clause within an inifinite loop. This way, it will rescrape the tweets repeatedly until we interrupt the process. I suggest running this overnight and re-claiming in the morning."
   ]
  },
  {
   "cell_type": "code",
   "execution_count": 10,
   "id": "painted-johnson",
   "metadata": {},
   "outputs": [],
   "source": [
    "def get_all_tweets_from_day(date, candidate='Trump'):\n",
    "    \n",
    "    f = \"%Y-%m-%d\"\n",
    "    lam_plus_1 = lambda x: (x + dt.timedelta(days=1)).strftime(\"%Y-%m-%d\")\n",
    "    wait_time = 51.57848 # seconds; will use for sleep timer to avoid 'client payload' error\n",
    "    \n",
    "    \n",
    "    d = dt.datetime.strptime(date, f)\n",
    "    print(f\"\"\"\\n Begin scraping {candidate}'s tweets on {d}\\n\"\"\")\n",
    "    outfile = f\"../data/tweets/ALL_{candidate}_{date}.csv\"\n",
    "\n",
    "    # twint search query details\n",
    "    c = twint.Config()\n",
    "    c.Search = candidate\n",
    "    c.Lang = 'en'\n",
    "    c.Since = date\n",
    "    c.Until = lam_plus_1(d)\n",
    "    c.Store_csv = True\n",
    "    c.Output = outfile\n",
    "    c.Hide_output = True\n",
    "\n",
    "    # run the search (manually interrupt when there are sufficient number of unique tweets in outfile)\n",
    "    while True:\n",
    "        try:\n",
    "            twint.run.Search(c)\n",
    "            print(f\"Scraping complete. File: {outfile} created.\")\n",
    "            return\n",
    "        except:\n",
    "            \"Error caught. Restarting.\"\n",
    "            time.sleep(90)\n",
    "            continue\n"
   ]
  },
  {
   "cell_type": "code",
   "execution_count": 11,
   "id": "vocational-geneva",
   "metadata": {},
   "outputs": [],
   "source": [
    "# get_all_tweets_from_day('2020-11-02', candidate='Trump')"
   ]
  },
  {
   "cell_type": "code",
   "execution_count": 12,
   "id": "opening-firewall",
   "metadata": {},
   "outputs": [],
   "source": [
    "# get_all_tweets_from_day('2020-11-02', candidate='Biden')"
   ]
  },
  {
   "cell_type": "code",
   "execution_count": 13,
   "id": "rolled-lindsay",
   "metadata": {},
   "outputs": [
    {
     "name": "stdout",
     "output_type": "stream",
     "text": [
      "[!] No more data! Scraping will stop now.\n",
      "found 0 deleted tweets in this search.\n"
     ]
    }
   ],
   "source": [
    "# custom biden\n",
    "b = twint.Config()\n",
    "b.Search = 'biden'\n",
    "b.Lang = 'en'\n",
    "b.Since = '2020-11-02'\n",
    "b.Until = '2020-11-03'\n",
    "b.Store_csv = True\n",
    "b.Output = f\"./all_biden_nov_2.csv\"\n",
    "b.Hide_output = True\n",
    "\n",
    "twint.run.Search(b)\n",
    "# print(f\"Scraping complete. File: '../data/tweets/all_biden_nov_2.csv' created.\")\n"
   ]
  },
  {
   "cell_type": "code",
   "execution_count": 14,
   "id": "front-payment",
   "metadata": {},
   "outputs": [
    {
     "ename": "KeyboardInterrupt",
     "evalue": "",
     "output_type": "error",
     "traceback": [
      "\u001b[0;31m---------------------------------------------------------------------------\u001b[0m",
      "\u001b[0;31mKeyboardInterrupt\u001b[0m                         Traceback (most recent call last)",
      "\u001b[0;32m<ipython-input-14-e4e2c5393a5d>\u001b[0m in \u001b[0;36m<module>\u001b[0;34m\u001b[0m\n\u001b[1;32m     10\u001b[0m \u001b[0mt\u001b[0m\u001b[0;34m.\u001b[0m\u001b[0mHide_output\u001b[0m \u001b[0;34m=\u001b[0m \u001b[0;32mTrue\u001b[0m\u001b[0;34m\u001b[0m\u001b[0;34m\u001b[0m\u001b[0m\n\u001b[1;32m     11\u001b[0m \u001b[0;34m\u001b[0m\u001b[0m\n\u001b[0;32m---> 12\u001b[0;31m \u001b[0mtwint\u001b[0m\u001b[0;34m.\u001b[0m\u001b[0mrun\u001b[0m\u001b[0;34m.\u001b[0m\u001b[0mSearch\u001b[0m\u001b[0;34m(\u001b[0m\u001b[0mt\u001b[0m\u001b[0;34m)\u001b[0m\u001b[0;34m\u001b[0m\u001b[0;34m\u001b[0m\u001b[0m\n\u001b[0m\u001b[1;32m     13\u001b[0m \u001b[0mprint\u001b[0m\u001b[0;34m(\u001b[0m\u001b[0;34mf\"Scraping complete. File: '../data/tweets/all_trump_nov_2.csv' created.\"\u001b[0m\u001b[0;34m)\u001b[0m\u001b[0;34m\u001b[0m\u001b[0;34m\u001b[0m\u001b[0m\n",
      "\u001b[0;32m~/Documents/Development/metis/ew-metis/projects/metis-project4/src/twint/twint/run.py\u001b[0m in \u001b[0;36mSearch\u001b[0;34m(config, callback)\u001b[0m\n\u001b[1;32m    408\u001b[0m     \u001b[0mconfig\u001b[0m\u001b[0;34m.\u001b[0m\u001b[0mFollowers\u001b[0m \u001b[0;34m=\u001b[0m \u001b[0;32mFalse\u001b[0m\u001b[0;34m\u001b[0m\u001b[0;34m\u001b[0m\u001b[0m\n\u001b[1;32m    409\u001b[0m     \u001b[0mconfig\u001b[0m\u001b[0;34m.\u001b[0m\u001b[0mProfile\u001b[0m \u001b[0;34m=\u001b[0m \u001b[0;32mFalse\u001b[0m\u001b[0;34m\u001b[0m\u001b[0;34m\u001b[0m\u001b[0m\n\u001b[0;32m--> 410\u001b[0;31m     \u001b[0mrun\u001b[0m\u001b[0;34m(\u001b[0m\u001b[0mconfig\u001b[0m\u001b[0;34m,\u001b[0m \u001b[0mcallback\u001b[0m\u001b[0;34m)\u001b[0m\u001b[0;34m\u001b[0m\u001b[0;34m\u001b[0m\u001b[0m\n\u001b[0m\u001b[1;32m    411\u001b[0m     \u001b[0;32mif\u001b[0m \u001b[0mconfig\u001b[0m\u001b[0;34m.\u001b[0m\u001b[0mPandas_au\u001b[0m\u001b[0;34m:\u001b[0m\u001b[0;34m\u001b[0m\u001b[0;34m\u001b[0m\u001b[0m\n\u001b[1;32m    412\u001b[0m         \u001b[0mstorage\u001b[0m\u001b[0;34m.\u001b[0m\u001b[0mpanda\u001b[0m\u001b[0;34m.\u001b[0m\u001b[0m_autoget\u001b[0m\u001b[0;34m(\u001b[0m\u001b[0;34m\"tweet\"\u001b[0m\u001b[0;34m)\u001b[0m\u001b[0;34m\u001b[0m\u001b[0;34m\u001b[0m\u001b[0m\n",
      "\u001b[0;32m~/Documents/Development/metis/ew-metis/projects/metis-project4/src/twint/twint/run.py\u001b[0m in \u001b[0;36mrun\u001b[0;34m(config, callback)\u001b[0m\n\u001b[1;32m    327\u001b[0m         \u001b[0;32mraise\u001b[0m\u001b[0;34m\u001b[0m\u001b[0;34m\u001b[0m\u001b[0m\n\u001b[1;32m    328\u001b[0m \u001b[0;34m\u001b[0m\u001b[0m\n\u001b[0;32m--> 329\u001b[0;31m     \u001b[0mget_event_loop\u001b[0m\u001b[0;34m(\u001b[0m\u001b[0;34m)\u001b[0m\u001b[0;34m.\u001b[0m\u001b[0mrun_until_complete\u001b[0m\u001b[0;34m(\u001b[0m\u001b[0mTwint\u001b[0m\u001b[0;34m(\u001b[0m\u001b[0mconfig\u001b[0m\u001b[0;34m)\u001b[0m\u001b[0;34m.\u001b[0m\u001b[0mmain\u001b[0m\u001b[0;34m(\u001b[0m\u001b[0mcallback\u001b[0m\u001b[0;34m)\u001b[0m\u001b[0;34m)\u001b[0m\u001b[0;34m\u001b[0m\u001b[0;34m\u001b[0m\u001b[0m\n\u001b[0m\u001b[1;32m    330\u001b[0m \u001b[0;34m\u001b[0m\u001b[0m\n\u001b[1;32m    331\u001b[0m \u001b[0;34m\u001b[0m\u001b[0m\n",
      "\u001b[0;32m~/anaconda3/envs/metis/lib/python3.8/site-packages/nest_asyncio.py\u001b[0m in \u001b[0;36mrun_until_complete\u001b[0;34m(self, future)\u001b[0m\n\u001b[1;32m     90\u001b[0m                 \u001b[0mf\u001b[0m\u001b[0;34m.\u001b[0m\u001b[0m_log_destroy_pending\u001b[0m \u001b[0;34m=\u001b[0m \u001b[0;32mFalse\u001b[0m\u001b[0;34m\u001b[0m\u001b[0;34m\u001b[0m\u001b[0m\n\u001b[1;32m     91\u001b[0m             \u001b[0;32mwhile\u001b[0m \u001b[0;32mnot\u001b[0m \u001b[0mf\u001b[0m\u001b[0;34m.\u001b[0m\u001b[0mdone\u001b[0m\u001b[0;34m(\u001b[0m\u001b[0;34m)\u001b[0m\u001b[0;34m:\u001b[0m\u001b[0;34m\u001b[0m\u001b[0;34m\u001b[0m\u001b[0m\n\u001b[0;32m---> 92\u001b[0;31m                 \u001b[0mself\u001b[0m\u001b[0;34m.\u001b[0m\u001b[0m_run_once\u001b[0m\u001b[0;34m(\u001b[0m\u001b[0;34m)\u001b[0m\u001b[0;34m\u001b[0m\u001b[0;34m\u001b[0m\u001b[0m\n\u001b[0m\u001b[1;32m     93\u001b[0m                 \u001b[0;32mif\u001b[0m \u001b[0mself\u001b[0m\u001b[0;34m.\u001b[0m\u001b[0m_stopping\u001b[0m\u001b[0;34m:\u001b[0m\u001b[0;34m\u001b[0m\u001b[0;34m\u001b[0m\u001b[0m\n\u001b[1;32m     94\u001b[0m                     \u001b[0;32mbreak\u001b[0m\u001b[0;34m\u001b[0m\u001b[0;34m\u001b[0m\u001b[0m\n",
      "\u001b[0;32m~/anaconda3/envs/metis/lib/python3.8/site-packages/nest_asyncio.py\u001b[0m in \u001b[0;36m_run_once\u001b[0;34m(self)\u001b[0m\n\u001b[1;32m    117\u001b[0m             \u001b[0;32melse\u001b[0m \u001b[0;36m0.01\u001b[0m \u001b[0;32mif\u001b[0m \u001b[0mself\u001b[0m\u001b[0;34m.\u001b[0m\u001b[0m_is_proactorloop\u001b[0m\u001b[0;34m\u001b[0m\u001b[0;34m\u001b[0m\u001b[0m\n\u001b[1;32m    118\u001b[0m             else None)\n\u001b[0;32m--> 119\u001b[0;31m         \u001b[0mevent_list\u001b[0m \u001b[0;34m=\u001b[0m \u001b[0mself\u001b[0m\u001b[0;34m.\u001b[0m\u001b[0m_selector\u001b[0m\u001b[0;34m.\u001b[0m\u001b[0mselect\u001b[0m\u001b[0;34m(\u001b[0m\u001b[0mtimeout\u001b[0m\u001b[0;34m)\u001b[0m\u001b[0;34m\u001b[0m\u001b[0;34m\u001b[0m\u001b[0m\n\u001b[0m\u001b[1;32m    120\u001b[0m         \u001b[0mself\u001b[0m\u001b[0;34m.\u001b[0m\u001b[0m_process_events\u001b[0m\u001b[0;34m(\u001b[0m\u001b[0mevent_list\u001b[0m\u001b[0;34m)\u001b[0m\u001b[0;34m\u001b[0m\u001b[0;34m\u001b[0m\u001b[0m\n\u001b[1;32m    121\u001b[0m \u001b[0;34m\u001b[0m\u001b[0m\n",
      "\u001b[0;32m~/anaconda3/envs/metis/lib/python3.8/selectors.py\u001b[0m in \u001b[0;36mselect\u001b[0;34m(self, timeout)\u001b[0m\n\u001b[1;32m    556\u001b[0m             \u001b[0mready\u001b[0m \u001b[0;34m=\u001b[0m \u001b[0;34m[\u001b[0m\u001b[0;34m]\u001b[0m\u001b[0;34m\u001b[0m\u001b[0;34m\u001b[0m\u001b[0m\n\u001b[1;32m    557\u001b[0m             \u001b[0;32mtry\u001b[0m\u001b[0;34m:\u001b[0m\u001b[0;34m\u001b[0m\u001b[0;34m\u001b[0m\u001b[0m\n\u001b[0;32m--> 558\u001b[0;31m                 \u001b[0mkev_list\u001b[0m \u001b[0;34m=\u001b[0m \u001b[0mself\u001b[0m\u001b[0;34m.\u001b[0m\u001b[0m_selector\u001b[0m\u001b[0;34m.\u001b[0m\u001b[0mcontrol\u001b[0m\u001b[0;34m(\u001b[0m\u001b[0;32mNone\u001b[0m\u001b[0;34m,\u001b[0m \u001b[0mmax_ev\u001b[0m\u001b[0;34m,\u001b[0m \u001b[0mtimeout\u001b[0m\u001b[0;34m)\u001b[0m\u001b[0;34m\u001b[0m\u001b[0;34m\u001b[0m\u001b[0m\n\u001b[0m\u001b[1;32m    559\u001b[0m             \u001b[0;32mexcept\u001b[0m \u001b[0mInterruptedError\u001b[0m\u001b[0;34m:\u001b[0m\u001b[0;34m\u001b[0m\u001b[0;34m\u001b[0m\u001b[0m\n\u001b[1;32m    560\u001b[0m                 \u001b[0;32mreturn\u001b[0m \u001b[0mready\u001b[0m\u001b[0;34m\u001b[0m\u001b[0;34m\u001b[0m\u001b[0m\n",
      "\u001b[0;31mKeyboardInterrupt\u001b[0m: "
     ]
    }
   ],
   "source": [
    "# custom trump\n",
    "time.sleep(300)\n",
    "t = twint.Config()\n",
    "t.Search = 'trump'\n",
    "t.Lang = 'en'\n",
    "t.Since = '2020-11-02'\n",
    "t.Until = '2020-11-03'\n",
    "t.Store_csv = True\n",
    "t.Output = \"../data/tweets/all_trump_nov_2.csv\"\n",
    "t.Hide_output = True\n",
    "\n",
    "twint.run.Search(t)\n",
    "print(f\"Scraping complete. File: '../data/tweets/all_trump_nov_2.csv' created.\")"
   ]
  },
  {
   "cell_type": "code",
   "execution_count": null,
   "id": "annoying-conducting",
   "metadata": {},
   "outputs": [],
   "source": []
  },
  {
   "cell_type": "code",
   "execution_count": null,
   "id": "artistic-electric",
   "metadata": {},
   "outputs": [],
   "source": []
  }
 ],
 "metadata": {
  "kernelspec": {
   "display_name": "Python 3",
   "language": "python",
   "name": "python3"
  },
  "language_info": {
   "codemirror_mode": {
    "name": "ipython",
    "version": 3
   },
   "file_extension": ".py",
   "mimetype": "text/x-python",
   "name": "python",
   "nbconvert_exporter": "python",
   "pygments_lexer": "ipython3",
   "version": "3.6.13"
  }
 },
 "nbformat": 4,
 "nbformat_minor": 5
}
