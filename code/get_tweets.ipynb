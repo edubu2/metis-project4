{
 "cells": [
  {
   "cell_type": "code",
   "execution_count": 1,
   "id": "typical-frontier",
   "metadata": {},
   "outputs": [],
   "source": [
    "import twint\n",
    "import pandas as pd\n",
    "import nest_asyncio\n",
    "import time\n",
    "nest_asyncio.apply()\n",
    "pd.options.display.max_columns = 40\n"
   ]
  },
  {
   "cell_type": "code",
   "execution_count": 2,
   "id": "clinical-ethics",
   "metadata": {},
   "outputs": [],
   "source": [
    "# candidate = 'Biden'\n",
    "\n",
    "# c = twint.Config()\n",
    "# c.Search = candidate\n",
    "# c.Lang = 'en'\n",
    "# c.Since = '2020-10-01'\n",
    "# c.Until = '2020-10-05'\n",
    "# c.Store_csv = True\n",
    "# c.Output = '../data/biden_tweets_all.csv'\n",
    "# c.Hide_output = True\n",
    "# twint.run.Search(c)"
   ]
  },
  {
   "cell_type": "markdown",
   "id": "hungry-stopping",
   "metadata": {},
   "source": [
    "## Scrape Tweets\n",
    "\n",
    "This is the workbook I used to create the below function.\n",
    "\n",
    "Note...this takes a while. In order to prevent Twint's `client payload error`, I had to add randomized wait times between each Twitter query. I suggest running the below cells overnight to generate the files."
   ]
  },
  {
   "cell_type": "code",
   "execution_count": 3,
   "id": "challenging-flooring",
   "metadata": {},
   "outputs": [],
   "source": [
    "import datetime as dt\n",
    "import time\n",
    "import random\n",
    "\n",
    "def arrange_dates(start_date, end_date):\n",
    "    \"\"\"Used in the get_election_tweets func. \"\"\"\n",
    "    \n",
    "    dates = []\n",
    "    delta = end_date - start_date\n",
    "    \n",
    "    for i in range(delta.days + 1):\n",
    "        day = start_date + dt.timedelta(days=i)\n",
    "        dates.append(day)\n",
    "    \n",
    "    return dates\n",
    "\n",
    "def get_election_tweets(tweets_per_day=15000, start_date=\"2020-10-01\", end_date=\"2020-11-03\"):\n",
    "    \n",
    "    # get a list of dates\n",
    "    f = \"%Y-%m-%d\"\n",
    "    sd = dt.datetime.strptime(start_date, f)\n",
    "    ed = dt.datetime.strptime(end_date, f)\n",
    "    dates = arrange_dates(sd, ed)\n",
    "    candidates = ['Biden', 'Trump']\n",
    "    \n",
    "    # fetch tweets & save CSVs (each CSV contains one day/candidate)\n",
    "    \n",
    "    lam_plus_1 = lambda x: (x + dt.timedelta(days=1)).strftime(\"%Y-%m-%d\")\n",
    "    wait_time = 50 # seconds; will use for sleep timer to avoid 'client payload' error\n",
    "    print(\"\"\"Waiting 60 seconds...\\n\"\"\")\n",
    "    time.sleep(60)\n",
    "    for date in dates:\n",
    "        for candidate in candidates:\n",
    "            \n",
    "            d = date.strftime(\"%Y-%m-%d\")            \n",
    "            print(f\"\"\"\\n Begin scraping {candidate}'s tweets on {d}\\n\"\"\")\n",
    "            outfile = f\"../data/tweets/{candidate}_{d}.csv\"\n",
    "            \n",
    "            # twint search query details\n",
    "            c = twint.Config()\n",
    "            c.Search = candidate\n",
    "            c.Lang = 'en'\n",
    "            c.Since = d\n",
    "            c.Until = lam_plus_1(date)\n",
    "            c.Limit = tweets_per_day\n",
    "            c.Store_csv = True\n",
    "            c.Output = outfile\n",
    "            c.Hide_output = True\n",
    "            \n",
    "            # run the search\n",
    "            try:\n",
    "                twint.run.Search(c)\n",
    "                print(f\"Scraping complete. File: {outfile} created.\")\n",
    "            except:\n",
    "                time.sleep(90)\n",
    "                continue\n",
    "            \n",
    "            # wait some time so script does not receive 'client payload' error\n",
    "            print(f\"Waiting 125-175 seconds...\")\n",
    "            time.sleep(wait_time + random.choice([70, 95, 120]) + (5 * random.uniform(0, 1)))\n",
    "                       "
   ]
  },
  {
   "cell_type": "code",
   "execution_count": 4,
   "id": "capital-peninsula",
   "metadata": {},
   "outputs": [],
   "source": [
    "# get_election_tweets(start_date=\"2020-10-11\", end_date=\"2020-11-02\")"
   ]
  },
  {
   "cell_type": "markdown",
   "id": "cheap-improvement",
   "metadata": {},
   "source": [
    "Alright! We now have most of our tweets, but the CSV's are incomplete on certain days. Below, I re-wrote the above function to only scrape specific days for a given candidate (to avoid re-scraping sections we've already completed successfully)."
   ]
  },
  {
   "cell_type": "code",
   "execution_count": 5,
   "id": "consecutive-activation",
   "metadata": {},
   "outputs": [],
   "source": [
    "def get_candidate_tweets(dates, tweets_per_day, candidate='Trump'):\n",
    "    \n",
    "    f = \"%Y-%m-%d\"\n",
    "    lam_plus_1 = lambda x: (x + dt.timedelta(days=1)).strftime(\"%Y-%m-%d\")\n",
    "    wait_time = 51.57848 # seconds; will use for sleep timer to avoid 'client payload' error\n",
    "    print(\"\"\"Waiting 60 seconds...\\n\"\"\")\n",
    "    time.sleep(60)\n",
    "    \n",
    "    for date in dates:\n",
    "        d = date.strftime(f)            \n",
    "        print(f\"\"\"\\n Begin scraping {candidate}'s tweets on {d}\\n\"\"\")\n",
    "        outfile = f\"../data/tweets/{candidate}_{d}.csv\"\n",
    "\n",
    "        # twint search query details\n",
    "        c = twint.Config()\n",
    "        c.Search = candidate\n",
    "        c.Lang = 'en'\n",
    "        c.Since = d\n",
    "        c.Until = lam_plus_1(date)\n",
    "        c.Limit = tweets_per_day\n",
    "        c.Store_csv = True\n",
    "        c.Output = outfile\n",
    "        c.Hide_output = True\n",
    "\n",
    "        # run the search\n",
    "        try:\n",
    "            twint.run.Search(c)\n",
    "            print(f\"Scraping complete. File: {outfile} created.\")\n",
    "        except:\n",
    "            time.sleep(90)\n",
    "            continue\n",
    "\n",
    "        # wait some time so script does not receive 'client payload' error\n",
    "        print(f\"Waiting to avoid payload error...\")\n",
    "        time.sleep(wait_time + random.choice([100.129309, 135]) + (5 * random.uniform(0, 1)))"
   ]
  },
  {
   "cell_type": "code",
   "execution_count": 6,
   "id": "wooden-tulsa",
   "metadata": {},
   "outputs": [],
   "source": [
    "trump_dates = ['2020-11-01',\n",
    "               '2020-10-07',\n",
    "               '2020-10-11', \n",
    "               '2020-10-14',\n",
    "               '2020-10-17', \n",
    "               '2020-10-19',\n",
    "               '2020-10-22',\n",
    "               '2020-10-22',\n",
    "               '2020-10-22',\n",
    "               '2020-10-22',\n",
    "               '2020-10-22']\n",
    "\n",
    "# get_candidate_tweets(trump_dates)\n",
    "\n"
   ]
  },
  {
   "cell_type": "code",
   "execution_count": 7,
   "id": "sporting-helena",
   "metadata": {},
   "outputs": [],
   "source": [
    "biden_dates = ['2020-11-02']\n",
    "# get_candidate_tweets(biden_dates, candidate='Biden')"
   ]
  },
  {
   "cell_type": "code",
   "execution_count": 8,
   "id": "every-shelf",
   "metadata": {},
   "outputs": [],
   "source": [
    "trump_dates = ['2020-10-11']\n",
    "# get_candidate_tweets(trump_dates, candidate='Trump')"
   ]
  },
  {
   "cell_type": "code",
   "execution_count": 9,
   "id": "racial-direction",
   "metadata": {},
   "outputs": [],
   "source": [
    "trump_dates = ['2020-10-17']\n",
    "# get_candidate_tweets(trump_dates, candidate='Trump')"
   ]
  },
  {
   "cell_type": "markdown",
   "id": "chinese-victor",
   "metadata": {},
   "source": [
    "## Pulling all candidate tweets from one day\n",
    "\n",
    "This is not as easy as I hoped. `Twint` repeatedly fails when trying to pull so many tweets. To combat this, I've implemented a Try/Except clause within an inifinite loop. This way, it will rescrape the tweets repeatedly until we interrupt the process. I suggest running this overnight and re-claiming in the morning."
   ]
  },
  {
   "cell_type": "code",
   "execution_count": 10,
   "id": "painted-johnson",
   "metadata": {},
   "outputs": [],
   "source": [
    "def get_all_tweets_from_day(date, candidate='Trump', tweets_per_day=15000):\n",
    "    \n",
    "    f = \"%Y-%m-%d\"\n",
    "    lam_plus_1 = lambda x: (x + dt.timedelta(days=1)).strftime(\"%Y-%m-%d\")\n",
    "    wait_time = 51.57848 # seconds; will use for sleep timer to avoid 'client payload' error\n",
    "    \n",
    "    \n",
    "    d = dt.datetime.strptime(date, f)\n",
    "    print(f\"\"\"\\n Begin scraping {candidate}'s tweets on {d}\\n\"\"\")\n",
    "    outfile = f\"../data/tweets/ALL_{candidate}_{date}.csv\"\n",
    "\n",
    "    # twint search query details\n",
    "    c = twint.Config()\n",
    "    c.Search = candidate\n",
    "    c.Lang = 'en'\n",
    "    c.Since = date\n",
    "    c.Until = lam_plus_1(d)\n",
    "    c.Store_csv = True\n",
    "    c.Output = outfile\n",
    "    c.Hide_output = True\n",
    "\n",
    "    # run the search (manually interrupt when there are sufficient number of unique tweets in outfile)\n",
    "    while True:\n",
    "        try:\n",
    "            twint.run.Search(c)\n",
    "            print(f\"Scraping complete. File: {outfile} created.\")\n",
    "            return\n",
    "        except:\n",
    "            \"Error caught. Restarting.\"\n",
    "            time.sleep(90)\n",
    "            continue\n"
   ]
  },
  {
   "cell_type": "code",
   "execution_count": 11,
   "id": "vocational-geneva",
   "metadata": {},
   "outputs": [],
   "source": [
    "# get_all_tweets_from_day('2020-11-02', candidate='Trump')"
   ]
  },
  {
   "cell_type": "code",
   "execution_count": 12,
   "id": "opening-firewall",
   "metadata": {},
   "outputs": [],
   "source": [
    "# get_all_tweets_from_day('2020-11-02', candidate='Biden')"
   ]
  },
  {
   "cell_type": "code",
   "execution_count": null,
   "id": "rolled-lindsay",
   "metadata": {},
   "outputs": [],
   "source": [
    "# custom biden\n",
    "c = twint.Config()\n",
    "c.Search = 'biden'\n",
    "c.Lang = 'en'\n",
    "c.Since = '2020-11-02'\n",
    "c.Until = '2020-11-03'\n",
    "c.Store_csv = True\n",
    "c.Output = \"../data/tweets/all_biden_nov_2.csv\"\n",
    "c.Hide_output = True\n",
    "\n",
    "twint.run.Search(c)\n",
    "print(f\"Scraping complete. File: {outfile} created.\")\n"
   ]
  },
  {
   "cell_type": "code",
   "execution_count": null,
   "id": "flush-reader",
   "metadata": {},
   "outputs": [],
   "source": [
    "# custom trump\n",
    "time.sleep(300)\n",
    "c = twint.Config()\n",
    "c.Search = 'trump'\n",
    "c.Lang = 'en'\n",
    "c.Since = '2020-11-02'\n",
    "c.Until = '2020-11-03'\n",
    "c.Store_csv = True\n",
    "c.Output = \"../data/tweets/all_trump_nov_2.csv\"\n",
    "c.Hide_output = True\n",
    "\n",
    "twint.run.Search(c)\n",
    "print(f\"Scraping complete. File: {outfile} created.\")"
   ]
  },
  {
   "cell_type": "code",
   "execution_count": null,
   "id": "bronze-champagne",
   "metadata": {},
   "outputs": [],
   "source": []
  },
  {
   "cell_type": "code",
   "execution_count": null,
   "id": "amino-prior",
   "metadata": {},
   "outputs": [],
   "source": []
  }
 ],
 "metadata": {
  "kernelspec": {
   "display_name": "Python 3",
   "language": "python",
   "name": "python3"
  },
  "language_info": {
   "codemirror_mode": {
    "name": "ipython",
    "version": 3
   },
   "file_extension": ".py",
   "mimetype": "text/x-python",
   "name": "python",
   "nbconvert_exporter": "python",
   "pygments_lexer": "ipython3",
   "version": "3.8.6"
  }
 },
 "nbformat": 4,
 "nbformat_minor": 5
}
