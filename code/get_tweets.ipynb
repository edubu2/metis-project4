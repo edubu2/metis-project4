{
 "cells": [
  {
   "cell_type": "code",
   "execution_count": 18,
   "id": "typical-frontier",
   "metadata": {},
   "outputs": [],
   "source": [
    "import twint\n",
    "import pandas as pd\n",
    "import nest_asyncio\n",
    "import time\n",
    "nest_asyncio.apply()\n",
    "pd.options.display.max_columns = 40\n"
   ]
  },
  {
   "cell_type": "code",
   "execution_count": null,
   "id": "clinical-ethics",
   "metadata": {},
   "outputs": [],
   "source": [
    "# candidate = 'Biden'\n",
    "\n",
    "# c = twint.Config()\n",
    "# c.Search = candidate\n",
    "# c.Lang = 'en'\n",
    "# c.Since = '2020-10-01'\n",
    "# c.Until = '2020-10-05'\n",
    "# c.Store_csv = True\n",
    "# c.Output = '../data/biden_tweets_all.csv'\n",
    "# c.Hide_output = True\n",
    "# twint.run.Search(c)"
   ]
  },
  {
   "cell_type": "markdown",
   "id": "hungry-stopping",
   "metadata": {},
   "source": [
    "## Scrape Tweets\n",
    "\n",
    "This is the workbook I used to create the below function.\n",
    "\n",
    "Note...this takes a while. In order to prevent Twint's `client payload error`, I had to add randomized wait times between each Twitter query. I suggest running the below cells overnight to generate the files."
   ]
  },
  {
   "cell_type": "code",
   "execution_count": 20,
   "id": "challenging-flooring",
   "metadata": {},
   "outputs": [],
   "source": [
    "import datetime as dt\n",
    "import time\n",
    "import random\n",
    "\n",
    "def arrange_dates(start_date, end_date):\n",
    "    \"\"\"Used in the get_election_tweets func. \"\"\"\n",
    "    \n",
    "    dates = []\n",
    "    delta = end_date - start_date\n",
    "    \n",
    "    for i in range(delta.days + 1):\n",
    "        day = start_date + dt.timedelta(days=i)\n",
    "        dates.append(day)\n",
    "    \n",
    "    return dates\n",
    "\n",
    "def get_election_tweets(tweets_per_day=15000, start_date=\"2020-10-01\", end_date=\"2020-11-03\"):\n",
    "    \n",
    "    # get a list of dates\n",
    "    f = \"%Y-%m-%d\"\n",
    "    sd = dt.datetime.strptime(start_date, f)\n",
    "    ed = dt.datetime.strptime(end_date, f)\n",
    "    dates = arrange_dates(sd, ed)\n",
    "    candidates = ['Biden', 'Trump']\n",
    "    \n",
    "    # fetch tweets & save CSVs (each CSV contains one day/candidate)\n",
    "    \n",
    "    lam_plus_1 = lambda x: (x + dt.timedelta(days=1)).strftime(\"%Y-%m-%d\")\n",
    "    wait_time = 50 # seconds; will use for sleep timer to avoid 'client payload' error\n",
    "    print(\"\"\"Waiting 60 seconds...\\n\"\"\")\n",
    "    time.sleep(60)\n",
    "    for date in dates:\n",
    "        for candidate in candidates:\n",
    "            \n",
    "            d = date.strftime(\"%Y-%m-%d\")            \n",
    "            print(f\"\"\"\\n Begin scraping {candidate}'s tweets on {d}\\n\"\"\")\n",
    "            outfile = f\"../data/tweets/{candidate}_{d}.csv\"\n",
    "            \n",
    "            # twint search query details\n",
    "            c = twint.Config()\n",
    "            c.Search = candidate\n",
    "            c.Lang = 'en'\n",
    "            c.Since = d\n",
    "            c.Until = lam_plus_1(date)\n",
    "            c.Limit = tweets_per_day\n",
    "            c.Store_csv = True\n",
    "            c.Output = outfile\n",
    "            c.Hide_output = True\n",
    "            \n",
    "            # run the search\n",
    "            try:\n",
    "                twint.run.Search(c)\n",
    "                print(f\"Scraping complete. File: {outfile} created.\")\n",
    "            except:\n",
    "                time.sleep(90)\n",
    "                continue\n",
    "            \n",
    "            # wait some time so script does not receive 'client payload' error\n",
    "            print(f\"Waiting 125-175 seconds...\")\n",
    "            time.sleep(wait_time + random.choice([70, 95, 120]) + (5 * random.uniform(0, 1)))\n",
    "                       "
   ]
  },
  {
   "cell_type": "code",
   "execution_count": null,
   "id": "capital-peninsula",
   "metadata": {},
   "outputs": [],
   "source": [
    "# get_election_tweets(start_date=\"2020-10-11\", end_date=\"2020-11-02\")"
   ]
  },
  {
   "cell_type": "markdown",
   "id": "cheap-improvement",
   "metadata": {},
   "source": [
    "Alright! We now have most of our tweets, but the CSV's are incomplete on certain days. Below, I re-wrote the above function to only scrape specific days for a given candidate (to avoid re-scraping sections we've already completed successfully)."
   ]
  },
  {
   "cell_type": "code",
   "execution_count": 19,
   "id": "consecutive-activation",
   "metadata": {},
   "outputs": [],
   "source": [
    "def get_candidate_tweets(dates, tweets_per_day, candidate='Trump'):\n",
    "    \n",
    "    f = \"%Y-%m-%d\"\n",
    "    lam_plus_1 = lambda x: (x + dt.timedelta(days=1)).strftime(\"%Y-%m-%d\")\n",
    "    wait_time = 51.57848 # seconds; will use for sleep timer to avoid 'client payload' error\n",
    "    print(\"\"\"Waiting 60 seconds...\\n\"\"\")\n",
    "    time.sleep(60)\n",
    "    \n",
    "    for date in dates:\n",
    "        d = date.strftime(f)            \n",
    "        print(f\"\"\"\\n Begin scraping {candidate}'s tweets on {d}\\n\"\"\")\n",
    "        outfile = f\"../data/tweets/{candidate}_{d}.csv\"\n",
    "\n",
    "        # twint search query details\n",
    "        c = twint.Config()\n",
    "        c.Search = candidate\n",
    "        c.Lang = 'en'\n",
    "        c.Since = d\n",
    "        c.Until = lam_plus_1(date)\n",
    "        c.Limit = tweets_per_day\n",
    "        c.Store_csv = True\n",
    "        c.Output = outfile\n",
    "        c.Hide_output = True\n",
    "\n",
    "        # run the search\n",
    "        try:\n",
    "            twint.run.Search(c)\n",
    "            print(f\"Scraping complete. File: {outfile} created.\")\n",
    "        except:\n",
    "            time.sleep(90)\n",
    "            continue\n",
    "\n",
    "        # wait some time so script does not receive 'client payload' error\n",
    "        print(f\"Waiting to avoid payload error...\")\n",
    "        time.sleep(wait_time + random.choice([100.129309, 135]) + (5 * random.uniform(0, 1)))"
   ]
  },
  {
   "cell_type": "code",
   "execution_count": null,
   "id": "wooden-tulsa",
   "metadata": {},
   "outputs": [],
   "source": [
    "trump_dates = ['2020-11-01',\n",
    "               '2020-10-07',\n",
    "               '2020-10-11', \n",
    "               '2020-10-14',\n",
    "               '2020-10-17', \n",
    "               '2020-10-19',\n",
    "               '2020-10-22',\n",
    "               '2020-10-22',\n",
    "               '2020-10-22',\n",
    "               '2020-10-22',\n",
    "               '2020-10-22']\n",
    "\n",
    "get_candidate_tweets(trump_dates)\n",
    "\n"
   ]
  },
  {
   "cell_type": "code",
   "execution_count": null,
   "id": "sporting-helena",
   "metadata": {},
   "outputs": [],
   "source": [
    "biden_dates = ['2020-11-02']\n",
    "time.sleep(120)\n",
    "get_candidate_tweets(biden_dates, candidate='Biden')"
   ]
  },
  {
   "cell_type": "code",
   "execution_count": null,
   "id": "every-shelf",
   "metadata": {},
   "outputs": [],
   "source": [
    "trump_dates = ['2020-10-11']\n",
    "time.sleep(120)\n",
    "get_candidate_tweets(trump_dates, candidate='Trump')"
   ]
  },
  {
   "cell_type": "code",
   "execution_count": null,
   "id": "racial-direction",
   "metadata": {},
   "outputs": [],
   "source": [
    "trump_dates = ['2020-10-17']\n",
    "time.sleep(120)\n",
    "get_candidate_tweets(trump_dates, candidate='Trump')"
   ]
  },
  {
   "cell_type": "markdown",
   "id": "chinese-victor",
   "metadata": {},
   "source": [
    "## Pulling all candidate tweets from one day\n",
    "\n",
    "This is not as easy as I hoped. `Twint` repeatedly fails when trying to pull so many tweets. To combat this, I've implemented a Try/Except clause within an inifinite loop. This way, it will rescrape the tweets repeatedly until we interrupt the process. I suggest running this overnight and re-claiming in the morning."
   ]
  },
  {
   "cell_type": "code",
   "execution_count": null,
   "id": "painted-johnson",
   "metadata": {},
   "outputs": [],
   "source": [
    "def get_all_tweets_from_day(date, candidate='Trump', tweets_per_day=15000):\n",
    "    \n",
    "    f = \"%Y-%m-%d\"\n",
    "    lam_plus_1 = lambda x: (x + dt.timedelta(days=1)).strftime(\"%Y-%m-%d\")\n",
    "    wait_time = 51.57848 # seconds; will use for sleep timer to avoid 'client payload' error\n",
    "    \n",
    "    \n",
    "    d = dt.datetime.strptime(date, f)\n",
    "    print(f\"\"\"\\n Begin scraping {candidate}'s tweets on {d}\\n\"\"\")\n",
    "    outfile = f\"../data/tweets/ALL_{candidate}_{date}.csv\"\n",
    "\n",
    "    # twint search query details\n",
    "    c = twint.Config()\n",
    "    c.Search = candidate\n",
    "    c.Lang = 'en'\n",
    "    c.Since = date\n",
    "    c.Until = lam_plus_1(d)\n",
    "    c.Store_csv = True\n",
    "    c.Output = outfile\n",
    "    c.Hide_output = True\n",
    "\n",
    "    # run the search (manually interrupt when there are sufficient number of unique tweets in outfile)\n",
    "    while True:\n",
    "        try:\n",
    "            twint.run.Search(c)\n",
    "            print(f\"Scraping complete. File: {outfile} created.\")\n",
    "        except:\n",
    "            \"Error caught. Restarting.\"\n",
    "            time.sleep(90)\n",
    "            continue\n",
    "\n",
    "        # wait some time so script does not receive 'client payload' error\n",
    "        print(f\"Waiting to avoid payload error...\")\n",
    "        time.sleep(wait_time + random.choice([100.129309, 135.12478923749]) + (5 * random.uniform(0, 1)))"
   ]
  },
  {
   "cell_type": "code",
   "execution_count": null,
   "id": "vocational-geneva",
   "metadata": {},
   "outputs": [
    {
     "name": "stdout",
     "output_type": "stream",
     "text": [
      "\n",
      " Begin scraping Trump's tweets on 2020-11-02 00:00:00\n",
      "\n"
     ]
    },
    {
     "name": "stderr",
     "output_type": "stream",
     "text": [
      "WARNING:root:Error retrieving https://twitter.com/: ConnectionError(ProtocolError('Connection aborted.', ConnectionResetError(104, 'Connection reset by peer'))), retrying\n"
     ]
    },
    {
     "name": "stdout",
     "output_type": "stream",
     "text": [
      "[!] No more data! Scraping will stop now.\n",
      "found 0 deleted tweets in this search.\n",
      "Scraping complete. File: ../data/tweets/ALL_Trump_2020-11-02.csv created.\n",
      "Waiting to avoid payload error...\n",
      "[!] No more data! Scraping will stop now.\n",
      "found 0 deleted tweets in this search.\n",
      "Scraping complete. File: ../data/tweets/ALL_Trump_2020-11-02.csv created.\n",
      "Waiting to avoid payload error...\n",
      "[!] No more data! Scraping will stop now.\n",
      "found 0 deleted tweets in this search.\n",
      "Scraping complete. File: ../data/tweets/ALL_Trump_2020-11-02.csv created.\n",
      "Waiting to avoid payload error...\n"
     ]
    }
   ],
   "source": [
    "get_all_tweets_from_day('2020-11-02', candidate='Trump')"
   ]
  },
  {
   "cell_type": "code",
   "execution_count": 25,
   "id": "opening-firewall",
   "metadata": {},
   "outputs": [
    {
     "name": "stdout",
     "output_type": "stream",
     "text": [
      "\n",
      " Begin scraping Biden's tweets on 2020-11-02 00:00:00\n",
      "\n"
     ]
    },
    {
     "name": "stderr",
     "output_type": "stream",
     "text": [
      "WARNING:root:Error retrieving https://twitter.com/: ConnectionError(ProtocolError('Connection aborted.', ConnectionResetError(104, 'Connection reset by peer'))), retrying\n",
      "WARNING:root:Error retrieving https://twitter.com/: ConnectionError(ProtocolError('Connection aborted.', ConnectionResetError(104, 'Connection reset by peer'))), retrying\n",
      "WARNING:root:Error retrieving https://twitter.com/: ConnectionError(ProtocolError('Connection aborted.', ConnectionResetError(104, 'Connection reset by peer'))), retrying\n"
     ]
    },
    {
     "name": "stdout",
     "output_type": "stream",
     "text": [
      "[!] No more data! Scraping will stop now.\n",
      "found 0 deleted tweets in this search.\n",
      "Scraping complete. File: ../data/tweets/ALL_Biden_2020-11-02.csv created.\n",
      "Waiting to avoid payload error...\n",
      "[!] No more data! Scraping will stop now.\n",
      "found 0 deleted tweets in this search.\n",
      "Scraping complete. File: ../data/tweets/ALL_Biden_2020-11-02.csv created.\n",
      "Waiting to avoid payload error...\n"
     ]
    },
    {
     "name": "stderr",
     "output_type": "stream",
     "text": [
      "WARNING:root:Error retrieving https://twitter.com/: ConnectionError(ProtocolError('Connection aborted.', ConnectionResetError(104, 'Connection reset by peer'))), retrying\n",
      "WARNING:root:Error retrieving https://twitter.com/: ConnectionError(ProtocolError('Connection aborted.', ConnectionResetError(104, 'Connection reset by peer'))), retrying\n"
     ]
    },
    {
     "name": "stdout",
     "output_type": "stream",
     "text": [
      "[!] No more data! Scraping will stop now.\n",
      "found 0 deleted tweets in this search.\n",
      "Scraping complete. File: ../data/tweets/ALL_Biden_2020-11-02.csv created.\n",
      "Waiting to avoid payload error...\n"
     ]
    },
    {
     "name": "stderr",
     "output_type": "stream",
     "text": [
      "WARNING:root:Error retrieving https://twitter.com/: ConnectionError(ProtocolError('Connection aborted.', ConnectionResetError(104, 'Connection reset by peer'))), retrying\n"
     ]
    },
    {
     "name": "stdout",
     "output_type": "stream",
     "text": [
      "[!] No more data! Scraping will stop now.\n",
      "found 0 deleted tweets in this search.\n",
      "Scraping complete. File: ../data/tweets/ALL_Biden_2020-11-02.csv created.\n",
      "Waiting to avoid payload error...\n",
      "[!] No more data! Scraping will stop now.\n",
      "found 0 deleted tweets in this search.\n",
      "Scraping complete. File: ../data/tweets/ALL_Biden_2020-11-02.csv created.\n",
      "Waiting to avoid payload error...\n"
     ]
    },
    {
     "name": "stderr",
     "output_type": "stream",
     "text": [
      "WARNING:root:Error retrieving https://twitter.com/: ConnectionError(ProtocolError('Connection aborted.', ConnectionResetError(104, 'Connection reset by peer'))), retrying\n"
     ]
    },
    {
     "name": "stdout",
     "output_type": "stream",
     "text": [
      "[!] No more data! Scraping will stop now.\n",
      "found 0 deleted tweets in this search.\n",
      "Scraping complete. File: ../data/tweets/ALL_Biden_2020-11-02.csv created.\n",
      "Waiting to avoid payload error...\n",
      "[!] No more data! Scraping will stop now.\n",
      "found 0 deleted tweets in this search.\n",
      "Scraping complete. File: ../data/tweets/ALL_Biden_2020-11-02.csv created.\n",
      "Waiting to avoid payload error...\n",
      "[!] No more data! Scraping will stop now.\n",
      "found 0 deleted tweets in this search.\n",
      "Scraping complete. File: ../data/tweets/ALL_Biden_2020-11-02.csv created.\n",
      "Waiting to avoid payload error...\n",
      "[!] No more data! Scraping will stop now.\n",
      "found 0 deleted tweets in this search.\n",
      "Scraping complete. File: ../data/tweets/ALL_Biden_2020-11-02.csv created.\n",
      "Waiting to avoid payload error...\n",
      "[!] No more data! Scraping will stop now.\n",
      "found 0 deleted tweets in this search.\n",
      "Scraping complete. File: ../data/tweets/ALL_Biden_2020-11-02.csv created.\n",
      "Waiting to avoid payload error...\n",
      "[!] No more data! Scraping will stop now.\n",
      "found 0 deleted tweets in this search.\n",
      "Scraping complete. File: ../data/tweets/ALL_Biden_2020-11-02.csv created.\n",
      "Waiting to avoid payload error...\n",
      "[!] No more data! Scraping will stop now.\n",
      "found 0 deleted tweets in this search.\n",
      "Scraping complete. File: ../data/tweets/ALL_Biden_2020-11-02.csv created.\n",
      "Waiting to avoid payload error...\n",
      "[!] No more data! Scraping will stop now.\n",
      "found 0 deleted tweets in this search.\n",
      "Scraping complete. File: ../data/tweets/ALL_Biden_2020-11-02.csv created.\n",
      "Waiting to avoid payload error...\n",
      "[!] No more data! Scraping will stop now.\n",
      "found 0 deleted tweets in this search.\n",
      "Scraping complete. File: ../data/tweets/ALL_Biden_2020-11-02.csv created.\n",
      "Waiting to avoid payload error...\n"
     ]
    },
    {
     "name": "stderr",
     "output_type": "stream",
     "text": [
      "WARNING:root:Error retrieving https://twitter.com/: ConnectionError(ProtocolError('Connection aborted.', ConnectionResetError(104, 'Connection reset by peer'))), retrying\n"
     ]
    },
    {
     "name": "stdout",
     "output_type": "stream",
     "text": [
      "[!] No more data! Scraping will stop now.\n",
      "found 0 deleted tweets in this search.\n",
      "Scraping complete. File: ../data/tweets/ALL_Biden_2020-11-02.csv created.\n",
      "Waiting to avoid payload error...\n",
      "[!] No more data! Scraping will stop now.\n",
      "found 0 deleted tweets in this search.\n",
      "Scraping complete. File: ../data/tweets/ALL_Biden_2020-11-02.csv created.\n",
      "Waiting to avoid payload error...\n",
      "[!] No more data! Scraping will stop now.\n",
      "found 0 deleted tweets in this search.\n",
      "Scraping complete. File: ../data/tweets/ALL_Biden_2020-11-02.csv created.\n",
      "Waiting to avoid payload error...\n",
      "[!] No more data! Scraping will stop now.\n",
      "found 0 deleted tweets in this search.\n",
      "Scraping complete. File: ../data/tweets/ALL_Biden_2020-11-02.csv created.\n",
      "Waiting to avoid payload error...\n",
      "[!] No more data! Scraping will stop now.\n",
      "found 0 deleted tweets in this search.\n",
      "Scraping complete. File: ../data/tweets/ALL_Biden_2020-11-02.csv created.\n",
      "Waiting to avoid payload error...\n",
      "[!] No more data! Scraping will stop now.\n",
      "found 0 deleted tweets in this search.\n",
      "Scraping complete. File: ../data/tweets/ALL_Biden_2020-11-02.csv created.\n",
      "Waiting to avoid payload error...\n"
     ]
    },
    {
     "name": "stderr",
     "output_type": "stream",
     "text": [
      "WARNING:root:Error retrieving https://twitter.com/: ConnectionError(ProtocolError('Connection aborted.', ConnectionResetError(104, 'Connection reset by peer'))), retrying\n"
     ]
    },
    {
     "name": "stdout",
     "output_type": "stream",
     "text": [
      "[!] No more data! Scraping will stop now.\n",
      "found 0 deleted tweets in this search.\n",
      "Scraping complete. File: ../data/tweets/ALL_Biden_2020-11-02.csv created.\n",
      "Waiting to avoid payload error...\n",
      "[!] No more data! Scraping will stop now.\n",
      "found 0 deleted tweets in this search.\n",
      "Scraping complete. File: ../data/tweets/ALL_Biden_2020-11-02.csv created.\n",
      "Waiting to avoid payload error...\n"
     ]
    },
    {
     "name": "stderr",
     "output_type": "stream",
     "text": [
      "WARNING:root:Error retrieving https://twitter.com/: ConnectionError(ProtocolError('Connection aborted.', ConnectionResetError(104, 'Connection reset by peer'))), retrying\n",
      "WARNING:root:Error retrieving https://twitter.com/: ConnectionError(ProtocolError('Connection aborted.', ConnectionResetError(104, 'Connection reset by peer'))), retrying\n",
      "WARNING:root:Error retrieving https://twitter.com/: ConnectionError(ProtocolError('Connection aborted.', ConnectionResetError(104, 'Connection reset by peer'))), retrying\n",
      "WARNING:root:Error retrieving https://twitter.com/: ConnectionError(ProtocolError('Connection aborted.', ConnectionResetError(104, 'Connection reset by peer'))), retrying\n"
     ]
    },
    {
     "name": "stdout",
     "output_type": "stream",
     "text": [
      "[!] No more data! Scraping will stop now.\n",
      "found 0 deleted tweets in this search.\n",
      "Scraping complete. File: ../data/tweets/ALL_Biden_2020-11-02.csv created.\n",
      "Waiting to avoid payload error...\n",
      "[!] No more data! Scraping will stop now.\n",
      "found 0 deleted tweets in this search.\n",
      "Scraping complete. File: ../data/tweets/ALL_Biden_2020-11-02.csv created.\n",
      "Waiting to avoid payload error...\n",
      "[!] No more data! Scraping will stop now.\n",
      "found 0 deleted tweets in this search.\n",
      "Scraping complete. File: ../data/tweets/ALL_Biden_2020-11-02.csv created.\n",
      "Waiting to avoid payload error...\n"
     ]
    },
    {
     "name": "stderr",
     "output_type": "stream",
     "text": [
      "WARNING:root:Error retrieving https://twitter.com/: ConnectionError(ProtocolError('Connection aborted.', ConnectionResetError(104, 'Connection reset by peer'))), retrying\n",
      "WARNING:root:Error retrieving https://twitter.com/: ConnectionError(ProtocolError('Connection aborted.', ConnectionResetError(104, 'Connection reset by peer'))), retrying\n"
     ]
    },
    {
     "name": "stdout",
     "output_type": "stream",
     "text": [
      "[!] No more data! Scraping will stop now.\n",
      "found 0 deleted tweets in this search.\n",
      "Scraping complete. File: ../data/tweets/ALL_Biden_2020-11-02.csv created.\n",
      "Waiting to avoid payload error...\n",
      "[!] No more data! Scraping will stop now.\n",
      "found 0 deleted tweets in this search.\n",
      "Scraping complete. File: ../data/tweets/ALL_Biden_2020-11-02.csv created.\n",
      "Waiting to avoid payload error...\n",
      "[!] No more data! Scraping will stop now.\n",
      "found 0 deleted tweets in this search.\n",
      "Scraping complete. File: ../data/tweets/ALL_Biden_2020-11-02.csv created.\n",
      "Waiting to avoid payload error...\n",
      "[!] No more data! Scraping will stop now.\n",
      "found 0 deleted tweets in this search.\n",
      "Scraping complete. File: ../data/tweets/ALL_Biden_2020-11-02.csv created.\n",
      "Waiting to avoid payload error...\n",
      "[!] No more data! Scraping will stop now.\n",
      "found 0 deleted tweets in this search.\n",
      "Scraping complete. File: ../data/tweets/ALL_Biden_2020-11-02.csv created.\n",
      "Waiting to avoid payload error...\n"
     ]
    },
    {
     "name": "stderr",
     "output_type": "stream",
     "text": [
      "WARNING:root:Error retrieving https://twitter.com/: ConnectionError(ProtocolError('Connection aborted.', ConnectionResetError(104, 'Connection reset by peer'))), retrying\n"
     ]
    },
    {
     "name": "stdout",
     "output_type": "stream",
     "text": [
      "[!] No more data! Scraping will stop now.\n",
      "found 0 deleted tweets in this search.\n",
      "Scraping complete. File: ../data/tweets/ALL_Biden_2020-11-02.csv created.\n",
      "Waiting to avoid payload error...\n"
     ]
    },
    {
     "name": "stderr",
     "output_type": "stream",
     "text": [
      "WARNING:root:Error retrieving https://twitter.com/: ConnectionError(ProtocolError('Connection aborted.', ConnectionResetError(104, 'Connection reset by peer'))), retrying\n"
     ]
    },
    {
     "name": "stdout",
     "output_type": "stream",
     "text": [
      "[!] No more data! Scraping will stop now.\n",
      "found 0 deleted tweets in this search.\n",
      "Scraping complete. File: ../data/tweets/ALL_Biden_2020-11-02.csv created.\n",
      "Waiting to avoid payload error...\n",
      "[!] No more data! Scraping will stop now.\n",
      "found 0 deleted tweets in this search.\n",
      "Scraping complete. File: ../data/tweets/ALL_Biden_2020-11-02.csv created.\n",
      "Waiting to avoid payload error...\n",
      "[!] No more data! Scraping will stop now.\n",
      "found 0 deleted tweets in this search.\n",
      "Scraping complete. File: ../data/tweets/ALL_Biden_2020-11-02.csv created.\n",
      "Waiting to avoid payload error...\n",
      "[!] No more data! Scraping will stop now.\n",
      "found 0 deleted tweets in this search.\n",
      "Scraping complete. File: ../data/tweets/ALL_Biden_2020-11-02.csv created.\n",
      "Waiting to avoid payload error...\n",
      "[!] No more data! Scraping will stop now.\n",
      "found 0 deleted tweets in this search.\n",
      "Scraping complete. File: ../data/tweets/ALL_Biden_2020-11-02.csv created.\n",
      "Waiting to avoid payload error...\n",
      "[!] No more data! Scraping will stop now.\n",
      "found 0 deleted tweets in this search.\n",
      "Scraping complete. File: ../data/tweets/ALL_Biden_2020-11-02.csv created.\n",
      "Waiting to avoid payload error...\n",
      "[!] No more data! Scraping will stop now.\n",
      "found 0 deleted tweets in this search.\n",
      "Scraping complete. File: ../data/tweets/ALL_Biden_2020-11-02.csv created.\n",
      "Waiting to avoid payload error...\n",
      "[!] No more data! Scraping will stop now.\n",
      "found 0 deleted tweets in this search.\n",
      "Scraping complete. File: ../data/tweets/ALL_Biden_2020-11-02.csv created.\n",
      "Waiting to avoid payload error...\n"
     ]
    },
    {
     "ename": "KeyboardInterrupt",
     "evalue": "",
     "output_type": "error",
     "traceback": [
      "\u001b[0;31m---------------------------------------------------------------------------\u001b[0m",
      "\u001b[0;31mKeyboardInterrupt\u001b[0m                         Traceback (most recent call last)",
      "\u001b[0;32m<ipython-input-24-1649fb92fc06>\u001b[0m in \u001b[0;36mget_all_tweets_from_day\u001b[0;34m(date, candidate, tweets_per_day)\u001b[0m\n\u001b[1;32m     24\u001b[0m         \u001b[0;32mtry\u001b[0m\u001b[0;34m:\u001b[0m\u001b[0;34m\u001b[0m\u001b[0;34m\u001b[0m\u001b[0m\n\u001b[0;32m---> 25\u001b[0;31m             \u001b[0mtwint\u001b[0m\u001b[0;34m.\u001b[0m\u001b[0mrun\u001b[0m\u001b[0;34m.\u001b[0m\u001b[0mSearch\u001b[0m\u001b[0;34m(\u001b[0m\u001b[0mc\u001b[0m\u001b[0;34m)\u001b[0m\u001b[0;34m\u001b[0m\u001b[0;34m\u001b[0m\u001b[0m\n\u001b[0m\u001b[1;32m     26\u001b[0m             \u001b[0mprint\u001b[0m\u001b[0;34m(\u001b[0m\u001b[0;34mf\"Scraping complete. File: {outfile} created.\"\u001b[0m\u001b[0;34m)\u001b[0m\u001b[0;34m\u001b[0m\u001b[0;34m\u001b[0m\u001b[0m\n",
      "\u001b[0;32m~/.local/lib/python3.7/site-packages/twint/run.py\u001b[0m in \u001b[0;36mSearch\u001b[0;34m(config, callback)\u001b[0m\n\u001b[1;32m    409\u001b[0m     \u001b[0mconfig\u001b[0m\u001b[0;34m.\u001b[0m\u001b[0mProfile\u001b[0m \u001b[0;34m=\u001b[0m \u001b[0;32mFalse\u001b[0m\u001b[0;34m\u001b[0m\u001b[0;34m\u001b[0m\u001b[0m\n\u001b[0;32m--> 410\u001b[0;31m     \u001b[0mrun\u001b[0m\u001b[0;34m(\u001b[0m\u001b[0mconfig\u001b[0m\u001b[0;34m,\u001b[0m \u001b[0mcallback\u001b[0m\u001b[0;34m)\u001b[0m\u001b[0;34m\u001b[0m\u001b[0;34m\u001b[0m\u001b[0m\n\u001b[0m\u001b[1;32m    411\u001b[0m     \u001b[0;32mif\u001b[0m \u001b[0mconfig\u001b[0m\u001b[0;34m.\u001b[0m\u001b[0mPandas_au\u001b[0m\u001b[0;34m:\u001b[0m\u001b[0;34m\u001b[0m\u001b[0;34m\u001b[0m\u001b[0m\n",
      "\u001b[0;32m~/.local/lib/python3.7/site-packages/twint/run.py\u001b[0m in \u001b[0;36mrun\u001b[0;34m(config, callback)\u001b[0m\n\u001b[1;32m    328\u001b[0m \u001b[0;34m\u001b[0m\u001b[0m\n\u001b[0;32m--> 329\u001b[0;31m     \u001b[0mget_event_loop\u001b[0m\u001b[0;34m(\u001b[0m\u001b[0;34m)\u001b[0m\u001b[0;34m.\u001b[0m\u001b[0mrun_until_complete\u001b[0m\u001b[0;34m(\u001b[0m\u001b[0mTwint\u001b[0m\u001b[0;34m(\u001b[0m\u001b[0mconfig\u001b[0m\u001b[0;34m)\u001b[0m\u001b[0;34m.\u001b[0m\u001b[0mmain\u001b[0m\u001b[0;34m(\u001b[0m\u001b[0mcallback\u001b[0m\u001b[0;34m)\u001b[0m\u001b[0;34m)\u001b[0m\u001b[0;34m\u001b[0m\u001b[0;34m\u001b[0m\u001b[0m\n\u001b[0m\u001b[1;32m    330\u001b[0m \u001b[0;34m\u001b[0m\u001b[0m\n",
      "\u001b[0;32m/opt/conda/lib/python3.7/site-packages/nest_asyncio.py\u001b[0m in \u001b[0;36mrun_until_complete\u001b[0;34m(self, future)\u001b[0m\n\u001b[1;32m     91\u001b[0m             \u001b[0;32mwhile\u001b[0m \u001b[0;32mnot\u001b[0m \u001b[0mf\u001b[0m\u001b[0;34m.\u001b[0m\u001b[0mdone\u001b[0m\u001b[0;34m(\u001b[0m\u001b[0;34m)\u001b[0m\u001b[0;34m:\u001b[0m\u001b[0;34m\u001b[0m\u001b[0;34m\u001b[0m\u001b[0m\n\u001b[0;32m---> 92\u001b[0;31m                 \u001b[0mself\u001b[0m\u001b[0;34m.\u001b[0m\u001b[0m_run_once\u001b[0m\u001b[0;34m(\u001b[0m\u001b[0;34m)\u001b[0m\u001b[0;34m\u001b[0m\u001b[0;34m\u001b[0m\u001b[0m\n\u001b[0m\u001b[1;32m     93\u001b[0m                 \u001b[0;32mif\u001b[0m \u001b[0mself\u001b[0m\u001b[0;34m.\u001b[0m\u001b[0m_stopping\u001b[0m\u001b[0;34m:\u001b[0m\u001b[0;34m\u001b[0m\u001b[0;34m\u001b[0m\u001b[0m\n",
      "\u001b[0;32m/opt/conda/lib/python3.7/site-packages/nest_asyncio.py\u001b[0m in \u001b[0;36m_run_once\u001b[0;34m(self)\u001b[0m\n\u001b[1;32m    118\u001b[0m             else None)\n\u001b[0;32m--> 119\u001b[0;31m         \u001b[0mevent_list\u001b[0m \u001b[0;34m=\u001b[0m \u001b[0mself\u001b[0m\u001b[0;34m.\u001b[0m\u001b[0m_selector\u001b[0m\u001b[0;34m.\u001b[0m\u001b[0mselect\u001b[0m\u001b[0;34m(\u001b[0m\u001b[0mtimeout\u001b[0m\u001b[0;34m)\u001b[0m\u001b[0;34m\u001b[0m\u001b[0;34m\u001b[0m\u001b[0m\n\u001b[0m\u001b[1;32m    120\u001b[0m         \u001b[0mself\u001b[0m\u001b[0;34m.\u001b[0m\u001b[0m_process_events\u001b[0m\u001b[0;34m(\u001b[0m\u001b[0mevent_list\u001b[0m\u001b[0;34m)\u001b[0m\u001b[0;34m\u001b[0m\u001b[0;34m\u001b[0m\u001b[0m\n",
      "\u001b[0;32m/opt/conda/lib/python3.7/selectors.py\u001b[0m in \u001b[0;36mselect\u001b[0;34m(self, timeout)\u001b[0m\n\u001b[1;32m    467\u001b[0m             \u001b[0;32mtry\u001b[0m\u001b[0;34m:\u001b[0m\u001b[0;34m\u001b[0m\u001b[0;34m\u001b[0m\u001b[0m\n\u001b[0;32m--> 468\u001b[0;31m                 \u001b[0mfd_event_list\u001b[0m \u001b[0;34m=\u001b[0m \u001b[0mself\u001b[0m\u001b[0;34m.\u001b[0m\u001b[0m_selector\u001b[0m\u001b[0;34m.\u001b[0m\u001b[0mpoll\u001b[0m\u001b[0;34m(\u001b[0m\u001b[0mtimeout\u001b[0m\u001b[0;34m,\u001b[0m \u001b[0mmax_ev\u001b[0m\u001b[0;34m)\u001b[0m\u001b[0;34m\u001b[0m\u001b[0;34m\u001b[0m\u001b[0m\n\u001b[0m\u001b[1;32m    469\u001b[0m             \u001b[0;32mexcept\u001b[0m \u001b[0mInterruptedError\u001b[0m\u001b[0;34m:\u001b[0m\u001b[0;34m\u001b[0m\u001b[0;34m\u001b[0m\u001b[0m\n",
      "\u001b[0;31mKeyboardInterrupt\u001b[0m: ",
      "\nDuring handling of the above exception, another exception occurred:\n",
      "\u001b[0;31mKeyboardInterrupt\u001b[0m                         Traceback (most recent call last)",
      "\u001b[0;32m<ipython-input-25-a1a5911ec65b>\u001b[0m in \u001b[0;36m<module>\u001b[0;34m\u001b[0m\n\u001b[0;32m----> 1\u001b[0;31m \u001b[0mget_all_tweets_from_day\u001b[0m\u001b[0;34m(\u001b[0m\u001b[0;34m'2020-11-02'\u001b[0m\u001b[0;34m,\u001b[0m \u001b[0mcandidate\u001b[0m\u001b[0;34m=\u001b[0m\u001b[0;34m'Biden'\u001b[0m\u001b[0;34m)\u001b[0m\u001b[0;34m\u001b[0m\u001b[0;34m\u001b[0m\u001b[0m\n\u001b[0m",
      "\u001b[0;32m<ipython-input-24-1649fb92fc06>\u001b[0m in \u001b[0;36mget_all_tweets_from_day\u001b[0;34m(date, candidate, tweets_per_day)\u001b[0m\n\u001b[1;32m     27\u001b[0m         \u001b[0;32mexcept\u001b[0m\u001b[0;34m:\u001b[0m\u001b[0;34m\u001b[0m\u001b[0;34m\u001b[0m\u001b[0m\n\u001b[1;32m     28\u001b[0m             \u001b[0;34m\"Error caught. Restarting.\"\u001b[0m\u001b[0;34m\u001b[0m\u001b[0;34m\u001b[0m\u001b[0m\n\u001b[0;32m---> 29\u001b[0;31m             \u001b[0mtime\u001b[0m\u001b[0;34m.\u001b[0m\u001b[0msleep\u001b[0m\u001b[0;34m(\u001b[0m\u001b[0;36m90\u001b[0m\u001b[0;34m)\u001b[0m\u001b[0;34m\u001b[0m\u001b[0;34m\u001b[0m\u001b[0m\n\u001b[0m\u001b[1;32m     30\u001b[0m             \u001b[0;32mcontinue\u001b[0m\u001b[0;34m\u001b[0m\u001b[0;34m\u001b[0m\u001b[0m\n\u001b[1;32m     31\u001b[0m \u001b[0;34m\u001b[0m\u001b[0m\n",
      "\u001b[0;31mKeyboardInterrupt\u001b[0m: "
     ]
    }
   ],
   "source": [
    "# get_all_tweets_from_day('2020-11-02', candidate='Biden')"
   ]
  },
  {
   "cell_type": "code",
   "execution_count": null,
   "id": "rolled-lindsay",
   "metadata": {},
   "outputs": [],
   "source": [
    ";d"
   ]
  }
 ],
 "metadata": {
  "kernelspec": {
   "display_name": "Python 3",
   "language": "python",
   "name": "python3"
  },
  "language_info": {
   "codemirror_mode": {
    "name": "ipython",
    "version": 3
   },
   "file_extension": ".py",
   "mimetype": "text/x-python",
   "name": "python",
   "nbconvert_exporter": "python",
   "pygments_lexer": "ipython3",
   "version": "3.7.9"
  }
 },
 "nbformat": 4,
 "nbformat_minor": 5
}
