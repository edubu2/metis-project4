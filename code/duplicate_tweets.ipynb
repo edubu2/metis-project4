{
 "cells": [
  {
   "cell_type": "code",
   "execution_count": 1,
   "id": "medical-iraqi",
   "metadata": {},
   "outputs": [],
   "source": [
    "import pandas as pd\n",
    "import datetime as dt\n",
    "import os\n",
    "\n",
    "pd.set_option('display.max_rows', 400)\n",
    "pd.set_option('display.max_columns', 40)\n",
    "pd.set_option('display.max_colwidth', None)"
   ]
  },
  {
   "cell_type": "code",
   "execution_count": 2,
   "id": "arabic-writing",
   "metadata": {},
   "outputs": [
    {
     "name": "stdout",
     "output_type": "stream",
     "text": [
      "(1108926, 7)\n",
      "(1108926, 7)\n"
     ]
    }
   ],
   "source": [
    "drop_cols = ['replies_count', 'retweets_count', 'likes_count', 'cashtags', 'conversation_id',\n",
    "            'language', 'mentions', 'urls', 'photos', 'quote_url' ,'video' ,'thumbnail' ,'near',\n",
    "            'geo', 'source', 'user_rt_id', 'retweet_id', 'reply_to', 'retweet_date', 'created_at',\n",
    "            'translate', 'trans_src', 'trans_dest', 'place', 'name', 'timezone', 'user_rt', 'link', 'retweet']\n",
    "\n",
    "parse_dates=['date']\n",
    "dtypes={'id': 'str', 'date':'str', 'user_id':'str', 'username':'str', 'hashtags':'str', 'tweet':'str'}\n",
    "\n",
    "dfs = []\n",
    "for file in os.listdir('../data/tweets/'):\n",
    "    if file[0] == '.':\n",
    "        continue\n",
    "    tmp = pd.read_csv('../data/tweets/' + file, parse_dates=parse_dates, low_memory=False, dtype=dtypes).drop(columns=drop_cols)\n",
    "#     tmp.drop_duplicates(subset='tweet', inplace=True)\n",
    "    dfs.append(tmp)\n",
    "\n",
    "\n",
    "df = pd.concat(dfs, ignore_index=True)\n",
    "print(df.shape)\n",
    "# df.drop_duplicates(inplace=True)\n",
    "print(df.shape)\n"
   ]
  },
  {
   "cell_type": "code",
   "execution_count": 3,
   "id": "actual-chick",
   "metadata": {},
   "outputs": [],
   "source": [
    "import re\n",
    "from custom_words.bigrams import bigrams\n",
    "\n",
    "import string \n",
    "def clean_tweet(tweet):\n",
    "    \"\"\"Pre-processing pipeline.\"\"\"\n",
    "    \n",
    "    tweet = tweet.lower()\n",
    "    tweet = re.sub(r\"u\\.s\\. \", \"usa\", tweet)\n",
    "    tweet = re.sub(r\"https?:\\/\\/\\S+\", \"\", tweet)\n",
    "    tweet = re.sub(r'\\w*\\d\\w*', ' ', tweet)\n",
    "    tweet = re.sub(r'\\.{2,6}', ' ', tweet)\n",
    "    tweet = tweet.translate(str.maketrans('', '', string.punctuation))\n",
    "    tweet = re.sub(r\"([a-z])\\1{2,5}\", r'\\1', tweet)\n",
    "    tweet = ' '.join(tweet.split())\n",
    "    \n",
    "    for old, new in bigrams:\n",
    "        tweet = re.sub(old, new, tweet) # ex: ('white house', 'whitehouse')\n",
    "    \n",
    "    return tweet\n",
    "\n",
    "df['original'] = df['tweet'].map(clean_tweet)"
   ]
  },
  {
   "cell_type": "code",
   "execution_count": 4,
   "id": "floating-horse",
   "metadata": {},
   "outputs": [],
   "source": [
    "# df = pd.concat(dfs, ignore_index=True)\n",
    "# print(df.shape)\n",
    "# # df.drop_duplicates(inplace=True)\n",
    "# print(df.shape)"
   ]
  },
  {
   "cell_type": "code",
   "execution_count": 5,
   "id": "framed-paste",
   "metadata": {},
   "outputs": [
    {
     "ename": "SyntaxError",
     "evalue": "invalid syntax (<ipython-input-5-ff8465a0f3cb>, line 2)",
     "output_type": "error",
     "traceback": [
      "\u001b[0;36m  File \u001b[0;32m\"<ipython-input-5-ff8465a0f3cb>\"\u001b[0;36m, line \u001b[0;32m2\u001b[0m\n\u001b[0;31m    df[['username', 'test'] 'tweet']][mask].head(400)\u001b[0m\n\u001b[0m                            ^\u001b[0m\n\u001b[0;31mSyntaxError\u001b[0m\u001b[0;31m:\u001b[0m invalid syntax\n"
     ]
    }
   ],
   "source": [
    "mask = df.duplicated(subset='tweet')\n",
    "df[['username', 'test'] 'tweet']][mask].head(400)"
   ]
  },
  {
   "cell_type": "code",
   "execution_count": null,
   "id": "interracial-university",
   "metadata": {},
   "outputs": [],
   "source": [
    "tmp = pd.Series([\"Hello\", \"Hi!\", \"I'm Jim\", \"Hi!\", \"hi\"])\n",
    "print(tmp.unique())\n",
    "mask = tmp.isin(tmp.unique())\n",
    "# list(tmp[mask].index)\n",
    "tmp[mask]"
   ]
  },
  {
   "cell_type": "code",
   "execution_count": null,
   "id": "swedish-satin",
   "metadata": {},
   "outputs": [],
   "source": [
    "df.tweet.head(10)"
   ]
  },
  {
   "cell_type": "code",
   "execution_count": null,
   "id": "fresh-stevens",
   "metadata": {},
   "outputs": [],
   "source": [
    "df.test"
   ]
  },
  {
   "cell_type": "code",
   "execution_count": null,
   "id": "collective-wisconsin",
   "metadata": {},
   "outputs": [],
   "source": [
    "unique_tweets = set(list(df.test.astype(str)))\n",
    "print(len(unique_tweets))\n",
    "mask = df.test.astype(str).isin(unique_tweets)\n",
    "df[~mask]"
   ]
  },
  {
   "cell_type": "code",
   "execution_count": null,
   "id": "interpreted-guard",
   "metadata": {},
   "outputs": [],
   "source": [
    "df"
   ]
  },
  {
   "cell_type": "code",
   "execution_count": null,
   "id": "sought-telling",
   "metadata": {},
   "outputs": [],
   "source": [
    "\n",
    "dtypes = {\n",
    "    'id': str,\n",
    "    'user_id': str,\n",
    "    'username': str,\n",
    "    'tweet': str\n",
    "}\n",
    "\n",
    "df = df.astype(dtypes)\n"
   ]
  },
  {
   "cell_type": "code",
   "execution_count": null,
   "id": "fallen-breeding",
   "metadata": {},
   "outputs": [],
   "source": [
    "df.drop_duplicates(subset='id', inplace=True)\n",
    "df.shape"
   ]
  },
  {
   "cell_type": "code",
   "execution_count": null,
   "id": "detected-dublin",
   "metadata": {},
   "outputs": [],
   "source": [
    "df['trump'] = df.tweet.str.contains(\"[Tt][Rr][Uu][Mm][Pp]\")\n",
    "df['biden'] = df.tweet.str.contains(\"[Bb][Ii][Dd][Ee][Nn]\")\n",
    "df.head(3)"
   ]
  },
  {
   "cell_type": "code",
   "execution_count": null,
   "id": "political-korean",
   "metadata": {},
   "outputs": [],
   "source": [
    "df.trump.value_counts()"
   ]
  },
  {
   "cell_type": "code",
   "execution_count": null,
   "id": "atlantic-privilege",
   "metadata": {},
   "outputs": [],
   "source": [
    "df.biden.value_counts()"
   ]
  },
  {
   "cell_type": "markdown",
   "id": "streaming-rocket",
   "metadata": {},
   "source": [
    "## Filtering Our Data Down\n",
    "\n",
    "We need to do two things:\n",
    "1. Exclude tweets with under 70 characters.\n",
    "2. We'll only use tweets that mention one candidate; and not the other\n",
    "    * equal amount of each"
   ]
  },
  {
   "cell_type": "code",
   "execution_count": null,
   "id": "ordinary-album",
   "metadata": {},
   "outputs": [],
   "source": [
    "# exclude tweets with under 100 characters\n",
    "\n",
    "mask = df.tweet.str.len() > 100\n",
    "df = df[mask]\n",
    "df.shape"
   ]
  },
  {
   "cell_type": "code",
   "execution_count": null,
   "id": "tracked-newport",
   "metadata": {},
   "outputs": [],
   "source": [
    "# mask = (df.trump == 0) & (df.biden == 1)\n",
    "# biden = df[mask].sample(150000)\n",
    "\n",
    "# mask = (df.trump == 1) & (df.biden == 0)\n",
    "# trump = df[mask].sample(150000)\n",
    "\n",
    "# df_balanced = pd.concat((pd.DataFrame(), biden_72k, trump_72k))\n",
    "# df_balanced"
   ]
  },
  {
   "cell_type": "code",
   "execution_count": null,
   "id": "lasting-single",
   "metadata": {},
   "outputs": [],
   "source": [
    "# UNCOMMENT THIS CELL TO USE IN LATER NOTEBOOKS\n",
    "# df.to_pickle(\"pickle/df_ALL_TWEETS_raw.pick\")"
   ]
  }
 ],
 "metadata": {
  "kernelspec": {
   "display_name": "Python 3",
   "language": "python",
   "name": "python3"
  },
  "language_info": {
   "codemirror_mode": {
    "name": "ipython",
    "version": 3
   },
   "file_extension": ".py",
   "mimetype": "text/x-python",
   "name": "python",
   "nbconvert_exporter": "python",
   "pygments_lexer": "ipython3",
   "version": "3.8.6"
  }
 },
 "nbformat": 4,
 "nbformat_minor": 5
}
